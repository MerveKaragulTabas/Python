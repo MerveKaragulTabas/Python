{
  "nbformat": 4,
  "nbformat_minor": 0,
  "metadata": {
    "colab": {
      "name": "python9",
      "provenance": [],
      "collapsed_sections": [],
      "authorship_tag": "ABX9TyMLsaCx7wYz7G6bjyWUlXmJ",
      "include_colab_link": true
    },
    "kernelspec": {
      "name": "python3",
      "display_name": "Python 3"
    },
    "language_info": {
      "name": "python"
    }
  },
  "cells": [
    {
      "cell_type": "markdown",
      "metadata": {
        "id": "view-in-github",
        "colab_type": "text"
      },
      "source": [
        "<a href=\"https://colab.research.google.com/github/MerveKaragulTabas/Python/blob/main/python9.ipynb\" target=\"_parent\"><img src=\"https://colab.research.google.com/assets/colab-badge.svg\" alt=\"Open In Colab\"/></a>"
      ]
    },
    {
      "cell_type": "code",
      "metadata": {
        "colab": {
          "base_uri": "https://localhost:8080/"
        },
        "id": "hNSoJYuRr5o6",
        "outputId": "03a76969-088e-48f2-feb4-e33e1ac42396"
      },
      "source": [
        "date = \"12/07/2021\"\n",
        "set(date)"
      ],
      "execution_count": null,
      "outputs": [
        {
          "output_type": "execute_result",
          "data": {
            "text/plain": [
              "{'/', '0', '1', '2', '7'}"
            ]
          },
          "metadata": {
            "tags": []
          },
          "execution_count": 1
        }
      ]
    },
    {
      "cell_type": "code",
      "metadata": {
        "id": "8wm_wadNzxx3"
      },
      "source": [
        "given_list = [1, 2, 3, 3, 3, 3, 4, 4, 5, 5]\n",
        "unique =set(given_list)"
      ],
      "execution_count": null,
      "outputs": []
    },
    {
      "cell_type": "code",
      "metadata": {
        "colab": {
          "base_uri": "https://localhost:8080/"
        },
        "id": "14Q5BZCb0tTW",
        "outputId": "63373e90-828f-4c59-9f47-1fe11c162ec6"
      },
      "source": [
        "print(unique)"
      ],
      "execution_count": null,
      "outputs": [
        {
          "output_type": "stream",
          "text": [
            "{1, 2, 3, 4, 5}\n"
          ],
          "name": "stdout"
        }
      ]
    },
    {
      "cell_type": "code",
      "metadata": {
        "colab": {
          "base_uri": "https://localhost:8080/"
        },
        "id": "-nBef2bA1GIE",
        "outputId": "1e9c8d3d-9942-4bad-9c3b-5eb4312167b3"
      },
      "source": [
        "usa_capt = set('washington')\n",
        "nz_capt =set('wellington')\n",
        "print(usa_capt - nz_capt)\n",
        "print(nz_capt.difference(usa_capt))"
      ],
      "execution_count": null,
      "outputs": [
        {
          "output_type": "stream",
          "text": [
            "{'a', 's', 'h'}\n",
            "{'e', 'l'}\n"
          ],
          "name": "stdout"
        }
      ]
    },
    {
      "cell_type": "code",
      "metadata": {
        "colab": {
          "base_uri": "https://localhost:8080/"
        },
        "id": "2qCD60iu-qy9",
        "outputId": "f2cdfb6a-2059-42c2-a298-e72f5de559df"
      },
      "source": [
        "if \"0\" :  \n",
        "    print(\"hello world\")"
      ],
      "execution_count": null,
      "outputs": [
        {
          "output_type": "stream",
          "text": [
            "hello world\n"
          ],
          "name": "stdout"
        }
      ]
    },
    {
      "cell_type": "code",
      "metadata": {
        "id": "-F4_snipBNLG"
      },
      "source": [
        "if 0 :\n",
        "    print(\"beni görebilecekmisiniz;\")"
      ],
      "execution_count": null,
      "outputs": []
    },
    {
      "cell_type": "code",
      "metadata": {
        "colab": {
          "base_uri": "https://localhost:8080/"
        },
        "id": "M91zQFu2BUVR",
        "outputId": "92688ce0-09a5-4c32-e888-f175331256c6"
      },
      "source": [
        "if 1 :\n",
        "  print(\"bu çalışır\")"
      ],
      "execution_count": null,
      "outputs": [
        {
          "output_type": "stream",
          "text": [
            "bu çalışır\n"
          ],
          "name": "stdout"
        }
      ]
    },
    {
      "cell_type": "code",
      "metadata": {
        "colab": {
          "base_uri": "https://localhost:8080/"
        },
        "id": "Q6eTl0XIB6-X",
        "outputId": "002d0b02-80f9-43ec-e26e-7f34414ea599"
      },
      "source": [
        "if True : \n",
        "    print(\"it is true\")"
      ],
      "execution_count": null,
      "outputs": [
        {
          "output_type": "stream",
          "text": [
            "it is true\n"
          ],
          "name": "stdout"
        }
      ]
    },
    {
      "cell_type": "code",
      "metadata": {
        "colab": {
          "base_uri": "https://localhost:8080/"
        },
        "id": "2ESrtrPcCEk_",
        "outputId": "ac77361b-344c-4ae5-8035-6d1e42d45400"
      },
      "source": [
        "minced = True \n",
        "bread = True \n",
        "#green\n",
        "lettuce = True\n",
        "onion = True\n",
        "grocer = True\n",
        "hamburger = (minced and grocer and bread) and (lettuce or onion)\n",
        "if hamburger :\n",
        "  print(\"bon appetit!\")"
      ],
      "execution_count": null,
      "outputs": [
        {
          "output_type": "stream",
          "text": [
            "bon appetit!\n"
          ],
          "name": "stdout"
        }
      ]
    },
    {
      "cell_type": "code",
      "metadata": {
        "colab": {
          "base_uri": "https://localhost:8080/"
        },
        "id": "drf-ja_uDqBK",
        "outputId": "92d9626d-5884-4a52-ed4c-a64305da5735"
      },
      "source": [
        "\"a\" < \"b\""
      ],
      "execution_count": null,
      "outputs": [
        {
          "output_type": "execute_result",
          "data": {
            "text/plain": [
              "True"
            ]
          },
          "metadata": {
            "tags": []
          },
          "execution_count": 15
        }
      ]
    },
    {
      "cell_type": "code",
      "metadata": {
        "colab": {
          "base_uri": "https://localhost:8080/"
        },
        "id": "FiOovGJlJw8I",
        "outputId": "44be6a30-f0ba-47cf-959e-fbd9619bad5b"
      },
      "source": [
        "\"4\" < \"39\""
      ],
      "execution_count": null,
      "outputs": [
        {
          "output_type": "execute_result",
          "data": {
            "text/plain": [
              "False"
            ]
          },
          "metadata": {
            "tags": []
          },
          "execution_count": 16
        }
      ]
    },
    {
      "cell_type": "code",
      "metadata": {
        "colab": {
          "base_uri": "https://localhost:8080/"
        },
        "id": "avIdWns4J0Cx",
        "outputId": "f5f92d23-6ab2-4fc6-a02b-27e0b1251d9f"
      },
      "source": [
        "1 and 2 and 3"
      ],
      "execution_count": null,
      "outputs": [
        {
          "output_type": "execute_result",
          "data": {
            "text/plain": [
              "3"
            ]
          },
          "metadata": {
            "tags": []
          },
          "execution_count": 17
        }
      ]
    },
    {
      "cell_type": "code",
      "metadata": {
        "colab": {
          "base_uri": "https://localhost:8080/"
        },
        "id": "i5MGK_iILNgV",
        "outputId": "a99efdb8-d444-4b60-bd25-4a70a9ee5fe2"
      },
      "source": [
        "empty_seat = 14\n",
        "if empty_seat > 3:\n",
        "  print('there is still seat to sit')"
      ],
      "execution_count": null,
      "outputs": [
        {
          "output_type": "stream",
          "text": [
            "there is still seat to sit\n"
          ],
          "name": "stdout"
        }
      ]
    },
    {
      "cell_type": "code",
      "metadata": {
        "colab": {
          "base_uri": "https://localhost:8080/"
        },
        "id": "OpscCaAaLkg-",
        "outputId": "87b7e956-e9e8-4360-fcf3-a892c3b34423"
      },
      "source": [
        "2 >= 2"
      ],
      "execution_count": null,
      "outputs": [
        {
          "output_type": "execute_result",
          "data": {
            "text/plain": [
              "True"
            ]
          },
          "metadata": {
            "tags": []
          },
          "execution_count": 19
        }
      ]
    },
    {
      "cell_type": "code",
      "metadata": {
        "colab": {
          "base_uri": "https://localhost:8080/"
        },
        "id": "N5Lpgm16MCEw",
        "outputId": "3c93f2bd-89ce-4b27-de93-95f9b39796c1"
      },
      "source": [
        "sitring1 = set(\"TWELVE PLUS ONE\")\n",
        "sitring2 = set(\"ELEVEN PLUS TWO\")\n",
        "if sitring1 == sitring2 :\n",
        "  print('we are the same')\n",
        "else: \n",
        "  print('we are not the same')"
      ],
      "execution_count": null,
      "outputs": [
        {
          "output_type": "stream",
          "text": [
            "we are the same\n"
          ],
          "name": "stdout"
        }
      ]
    },
    {
      "cell_type": "code",
      "metadata": {
        "colab": {
          "base_uri": "https://localhost:8080/",
          "height": 129
        },
        "id": "TZYPyNBiNgGp",
        "outputId": "de7a301e-9232-43fb-d0c6-f48705825343"
      },
      "source": [
        "convert = input(\"Enter yes or no : \").title().strip() == \"yes\"\n",
        "Enter yes or no : no\n",
        "print(type(convert))\n",
        "print(convert)"
      ],
      "execution_count": null,
      "outputs": [
        {
          "output_type": "error",
          "ename": "SyntaxError",
          "evalue": "ignored",
          "traceback": [
            "\u001b[0;36m  File \u001b[0;32m\"<ipython-input-25-5436c1ea58ac>\"\u001b[0;36m, line \u001b[0;32m2\u001b[0m\n\u001b[0;31m    Enter yes or no : no\u001b[0m\n\u001b[0m            ^\u001b[0m\n\u001b[0;31mSyntaxError\u001b[0m\u001b[0;31m:\u001b[0m invalid syntax\n"
          ]
        }
      ]
    },
    {
      "cell_type": "code",
      "metadata": {
        "colab": {
          "base_uri": "https://localhost:8080/"
        },
        "id": "PpWF8ZzKQP2V",
        "outputId": "4146b91c-166c-413e-f4e7-e4e2092b5c49"
      },
      "source": [
        "num = int(input(\"Enter a number please : \"))\n",
        "if num % 2 == 0 :\n",
        "  print(\"girmiş olduğunuz sayı ({}) Çifttir.\".format(num))\n",
        "else :\n",
        "  print(\"girmiş olduğunuz sayı({}) Tektir. \".format(num))"
      ],
      "execution_count": null,
      "outputs": [
        {
          "output_type": "stream",
          "text": [
            "Enter a number please : 8\n",
            "girmiş olduğunuz sayı (8) Çifttir.\n"
          ],
          "name": "stdout"
        }
      ]
    },
    {
      "cell_type": "code",
      "metadata": {
        "id": "lf1l7vViT-_R",
        "colab": {
          "base_uri": "https://localhost:8080/"
        },
        "outputId": "4c6d14f3-5f00-4256-f1a8-89b9f0906c76"
      },
      "source": [
        "set_1 ={'red', 'blue', 'pink', 'red'}\n",
        "print(set_1)"
      ],
      "execution_count": null,
      "outputs": [
        {
          "output_type": "stream",
          "text": [
            "{'red', 'pink', 'blue'}\n"
          ],
          "name": "stdout"
        }
      ]
    },
    {
      "cell_type": "code",
      "metadata": {
        "colab": {
          "base_uri": "https://localhost:8080/"
        },
        "id": "sdJIOYevXX9M",
        "outputId": "4e61365f-8084-4245-aaa0-eccf8270869c"
      },
      "source": [
        "letter = \"a b c d e f g h i l k h ö m n b v f d u ö o ç p\".split()\n",
        "print(letter)"
      ],
      "execution_count": null,
      "outputs": [
        {
          "output_type": "stream",
          "text": [
            "['a', 'b', 'c', 'd', 'e', 'f', 'g', 'h', 'i', 'l', 'k', 'h', 'ö', 'm', 'n', 'b', 'v', 'f', 'd', 'u', 'ö', 'o', 'ç', 'p']\n"
          ],
          "name": "stdout"
        }
      ]
    },
    {
      "cell_type": "code",
      "metadata": {
        "colab": {
          "base_uri": "https://localhost:8080/"
        },
        "id": "WOoo0ylGX_bz",
        "outputId": "88496e91-7ba3-46bf-ee8d-e3e04615d81c"
      },
      "source": [
        "print(set(letter))"
      ],
      "execution_count": null,
      "outputs": [
        {
          "output_type": "stream",
          "text": [
            "{'ö', 'h', 'p', 'i', 'a', 'b', 'e', 'l', 'o', 'n', 'k', 'u', 'm', 'd', 'c', 'ç', 'g', 'v', 'f'}\n"
          ],
          "name": "stdout"
        }
      ]
    },
    {
      "cell_type": "code",
      "metadata": {
        "colab": {
          "base_uri": "https://localhost:8080/"
        },
        "id": "u2Nl1Yf6YIaS",
        "outputId": "d081b359-486e-4ea6-a52f-9d15c75b7ff0"
      },
      "source": [
        "test = {1, \"bir\", 1.0}\n",
        "len(test)"
      ],
      "execution_count": null,
      "outputs": [
        {
          "output_type": "execute_result",
          "data": {
            "text/plain": [
              "2"
            ]
          },
          "metadata": {
            "tags": []
          },
          "execution_count": 5
        }
      ]
    },
    {
      "cell_type": "code",
      "metadata": {
        "colab": {
          "base_uri": "https://localhost:8080/"
        },
        "id": "KjNyXXiqYgMp",
        "outputId": "38e45acb-7427-4ac1-9c16-dd39c003beb6"
      },
      "source": [
        "1 ==1.0"
      ],
      "execution_count": null,
      "outputs": [
        {
          "output_type": "execute_result",
          "data": {
            "text/plain": [
              "True"
            ]
          },
          "metadata": {
            "tags": []
          },
          "execution_count": 6
        }
      ]
    },
    {
      "cell_type": "code",
      "metadata": {
        "colab": {
          "base_uri": "https://localhost:8080/",
          "height": 167
        },
        "id": "H8ImxzNCY9As",
        "outputId": "ce78eb03-cae3-451b-80c7-58652ad1a940"
      },
      "source": [
        "TYPE(SET())"
      ],
      "execution_count": null,
      "outputs": [
        {
          "output_type": "error",
          "ename": "NameError",
          "evalue": "ignored",
          "traceback": [
            "\u001b[0;31m---------------------------------------------------------------------------\u001b[0m",
            "\u001b[0;31mNameError\u001b[0m                                 Traceback (most recent call last)",
            "\u001b[0;32m<ipython-input-7-7aee9348efd0>\u001b[0m in \u001b[0;36m<module>\u001b[0;34m()\u001b[0m\n\u001b[0;32m----> 1\u001b[0;31m \u001b[0mTYPE\u001b[0m\u001b[0;34m(\u001b[0m\u001b[0mSET\u001b[0m\u001b[0;34m(\u001b[0m\u001b[0;34m)\u001b[0m\u001b[0;34m)\u001b[0m\u001b[0;34m\u001b[0m\u001b[0;34m\u001b[0m\u001b[0m\n\u001b[0m",
            "\u001b[0;31mNameError\u001b[0m: name 'TYPE' is not defined"
          ]
        }
      ]
    },
    {
      "cell_type": "code",
      "metadata": {
        "colab": {
          "base_uri": "https://localhost:8080/"
        },
        "id": "kLSvAreYZNPX",
        "outputId": "ec03ceb6-973a-4aa5-adc3-0c583d156cb9"
      },
      "source": [
        "type(set())"
      ],
      "execution_count": null,
      "outputs": [
        {
          "output_type": "execute_result",
          "data": {
            "text/plain": [
              "set"
            ]
          },
          "metadata": {
            "tags": []
          },
          "execution_count": 8
        }
      ]
    },
    {
      "cell_type": "code",
      "metadata": {
        "colab": {
          "base_uri": "https://localhost:8080/"
        },
        "id": "UDqCAYClZPbP",
        "outputId": "be69e2c8-01fb-45c4-adc1-418f39df22d7"
      },
      "source": [
        "a = {'carnation', 'orchid', 'rose', 'violet'}\n",
        "b = {'rose', 'orchid', 'rose', 'violet', 'carnation'}\n",
        "a == b"
      ],
      "execution_count": null,
      "outputs": [
        {
          "output_type": "execute_result",
          "data": {
            "text/plain": [
              "True"
            ]
          },
          "metadata": {
            "tags": []
          },
          "execution_count": 9
        }
      ]
    },
    {
      "cell_type": "code",
      "metadata": {
        "colab": {
          "base_uri": "https://localhost:8080/"
        },
        "id": "ZNHSfBUhaKiF",
        "outputId": "8bf5815e-6cd0-4fa6-9a72-e3388d9ab131"
      },
      "source": [
        "print(a|b)"
      ],
      "execution_count": null,
      "outputs": [
        {
          "output_type": "stream",
          "text": [
            "{'violet', 'rose', 'orchid', 'carnation'}\n"
          ],
          "name": "stdout"
        }
      ]
    },
    {
      "cell_type": "code",
      "metadata": {
        "id": "gUSYoL_HbJQx"
      },
      "source": [
        ""
      ],
      "execution_count": null,
      "outputs": []
    }
  ]
}