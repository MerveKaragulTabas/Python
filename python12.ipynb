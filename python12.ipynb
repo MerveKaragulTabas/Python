{
  "nbformat": 4,
  "nbformat_minor": 0,
  "metadata": {
    "colab": {
      "name": "python12",
      "provenance": [],
      "collapsed_sections": [],
      "authorship_tag": "ABX9TyMdQvjJr6LerL7ZgZZcHOsY",
      "include_colab_link": true
    },
    "kernelspec": {
      "name": "python3",
      "display_name": "Python 3"
    },
    "language_info": {
      "name": "python"
    }
  },
  "cells": [
    {
      "cell_type": "markdown",
      "metadata": {
        "id": "view-in-github",
        "colab_type": "text"
      },
      "source": [
        "<a href=\"https://colab.research.google.com/github/MerveKaragulTabas/Python/blob/main/python12.ipynb\" target=\"_parent\"><img src=\"https://colab.research.google.com/assets/colab-badge.svg\" alt=\"Open In Colab\"/></a>"
      ]
    },
    {
      "cell_type": "code",
      "metadata": {
        "colab": {
          "base_uri": "https://localhost:8080/"
        },
        "id": "Rh9Z7B7LPAqO",
        "outputId": "150b99e5-d3d4-4b13-c129-3555aa56ce63"
      },
      "source": [
        "number = [11, 2, 24, 61, 48, 33,3]\n",
        "evens, odds = 0, 0\n",
        "for i in number :\n",
        "   if not i % 2 :\n",
        "     evens += 1\n",
        "   else :\n",
        "     odds += 1\n",
        "print(\"the sum of odd number are : \", odds)\n",
        "print(\"the sum of evens number are : \", evens)"
      ],
      "execution_count": null,
      "outputs": [
        {
          "output_type": "stream",
          "text": [
            "the sum of odd number are :  4\n",
            "the sum of evens number are :  3\n"
          ],
          "name": "stdout"
        }
      ]
    },
    {
      "cell_type": "code",
      "metadata": {
        "colab": {
          "base_uri": "https://localhost:8080/"
        },
        "id": "KX2tPNiUSMAe",
        "outputId": "be503203-6969-437d-a194-7b69c923bebc"
      },
      "source": [
        "evens, odds = 0, 0\n",
        "for i in number :\n",
        "   if i % 2 :\n",
        "     evens += 1\n",
        "   else :\n",
        "     odds += 1\n",
        "print(\"the sum of odd number are : \", odds)\n",
        "print(\"the sum of evens number are : \", evens)"
      ],
      "execution_count": null,
      "outputs": [
        {
          "output_type": "stream",
          "text": [
            "the sum of odd number are :  3\n",
            "the sum of evens number are :  4\n"
          ],
          "name": "stdout"
        }
      ]
    },
    {
      "cell_type": "code",
      "metadata": {
        "id": "SXWvrQU4SL9g"
      },
      "source": [
        "x = range(1,75)\n",
        "for i in x :\n",
        "  print(sum(x))"
      ],
      "execution_count": null,
      "outputs": []
    },
    {
      "cell_type": "code",
      "metadata": {
        "colab": {
          "base_uri": "https://localhost:8080/"
        },
        "id": "X9kcPu5jSL67",
        "outputId": "777858c4-94a0-4459-8f42-662362d61456"
      },
      "source": [
        "toplam = 0\n",
        "for i in range(1,75) :\n",
        "    toplam += i\n",
        "print(toplam)    "
      ],
      "execution_count": null,
      "outputs": [
        {
          "output_type": "stream",
          "text": [
            "2775\n"
          ],
          "name": "stdout"
        }
      ]
    },
    {
      "cell_type": "code",
      "metadata": {
        "colab": {
          "base_uri": "https://localhost:8080/"
        },
        "id": "IFMJcFOnSL3_",
        "outputId": "6ee13b5e-2322-4482-d8ce-0addee977ebf"
      },
      "source": [
        "a = sum(i for i in range(1,75))\n",
        "a"
      ],
      "execution_count": null,
      "outputs": [
        {
          "output_type": "execute_result",
          "data": {
            "text/plain": [
              "2775"
            ]
          },
          "metadata": {
            "tags": []
          },
          "execution_count": 7
        }
      ]
    },
    {
      "cell_type": "code",
      "metadata": {
        "colab": {
          "base_uri": "https://localhost:8080/"
        },
        "id": "Q6TnX24aSL1i",
        "outputId": "5c36cef2-5bb4-460e-d987-7811134201d8"
      },
      "source": [
        "who = [\"I am\", \"You are\"]\n",
        "asd = [\"happy\", \"confident\"]\n",
        "for i in who :\n",
        "  for ii in asd :\n",
        "    print(i+ii)"
      ],
      "execution_count": null,
      "outputs": [
        {
          "output_type": "stream",
          "text": [
            "I amhappy\n",
            "I amconfident\n",
            "You arehappy\n",
            "You areconfident\n"
          ],
          "name": "stdout"
        }
      ]
    },
    {
      "cell_type": "code",
      "metadata": {
        "colab": {
          "base_uri": "https://localhost:8080/"
        },
        "id": "VMOiFKbLSLy-",
        "outputId": "73869ca1-275d-4d2a-9dd6-245929c32af2"
      },
      "source": [
        "names = [\"susan\", \"tom\", \"edward\"]\n",
        "mood = [\"happy\", \"sad\"]\n",
        "for i in names :\n",
        "  for ii in mood :\n",
        "    print(i, \"is\", ii)"
      ],
      "execution_count": null,
      "outputs": [
        {
          "output_type": "stream",
          "text": [
            "susan is happy\n",
            "susan is sad\n",
            "tom is happy\n",
            "tom is sad\n",
            "edward is happy\n",
            "edward is sad\n"
          ],
          "name": "stdout"
        }
      ]
    },
    {
      "cell_type": "code",
      "metadata": {
        "id": "Wmg_zTLaf1E0"
      },
      "source": [
        "## LİST COMPERESİON"
      ],
      "execution_count": null,
      "outputs": []
    },
    {
      "cell_type": "code",
      "metadata": {
        "colab": {
          "base_uri": "https://localhost:8080/"
        },
        "id": "x4pv7iWQSLwH",
        "outputId": "f75bc745-b436-4bbd-d02f-a9bc52c68c4f"
      },
      "source": [
        "listem = []\n",
        "\n",
        "for i in range(5) :\n",
        "    listem.append(i)\n",
        "listem    "
      ],
      "execution_count": null,
      "outputs": [
        {
          "output_type": "execute_result",
          "data": {
            "text/plain": [
              "[0, 1, 2, 3, 4]"
            ]
          },
          "metadata": {
            "tags": []
          },
          "execution_count": 11
        }
      ]
    },
    {
      "cell_type": "code",
      "metadata": {
        "id": "_666geVDcmmY"
      },
      "source": [
        "python\n",
        "\n",
        "for item in iterable :\n",
        "  expression\n",
        "\n",
        "[expression for item in iterable] #kalıp bu şekilde"
      ],
      "execution_count": null,
      "outputs": []
    },
    {
      "cell_type": "code",
      "metadata": {
        "colab": {
          "base_uri": "https://localhost:8080/"
        },
        "id": "19FHfFbMcmjU",
        "outputId": "510ba75a-77ee-49fa-806d-e4c3fda204c0"
      },
      "source": [
        "[i for i in range(5)]"
      ],
      "execution_count": null,
      "outputs": [
        {
          "output_type": "execute_result",
          "data": {
            "text/plain": [
              "[0, 1, 2, 3, 4]"
            ]
          },
          "metadata": {
            "tags": []
          },
          "execution_count": 12
        }
      ]
    },
    {
      "cell_type": "code",
      "metadata": {
        "colab": {
          "base_uri": "https://localhost:8080/"
        },
        "id": "1uElJHN7cmeb",
        "outputId": "2b6a220f-a614-4537-db59-4871399bc0e6"
      },
      "source": [
        "[item for item in range(5)]"
      ],
      "execution_count": null,
      "outputs": [
        {
          "output_type": "execute_result",
          "data": {
            "text/plain": [
              "[0, 1, 2, 3, 4]"
            ]
          },
          "metadata": {
            "tags": []
          },
          "execution_count": 13
        }
      ]
    },
    {
      "cell_type": "code",
      "metadata": {
        "colab": {
          "base_uri": "https://localhost:8080/"
        },
        "id": "3reCLM2wcmbI",
        "outputId": "9ba1eb00-85e1-4da5-8914-9dc6a60994a6"
      },
      "source": [
        "[ i**2  for i in range(5)] #expresssion burada i**2 dir."
      ],
      "execution_count": null,
      "outputs": [
        {
          "output_type": "execute_result",
          "data": {
            "text/plain": [
              "[0, 1, 4, 9, 16]"
            ]
          },
          "metadata": {
            "tags": []
          },
          "execution_count": 14
        }
      ]
    },
    {
      "cell_type": "code",
      "metadata": {
        "id": "f_kKBiDTcmXG"
      },
      "source": [
        "## TERNARY İS STATEMENTS"
      ],
      "execution_count": null,
      "outputs": []
    },
    {
      "cell_type": "code",
      "metadata": {
        "colab": {
          "base_uri": "https://localhost:8080/"
        },
        "id": "4LWQAJhuSLtM",
        "outputId": "2e538a12-5dac-4b9f-fea2-c63969306857"
      },
      "source": [
        "condition = True\n",
        "if condition :\n",
        "  a = 1\n",
        "else :\n",
        "  a = 0\n",
        "print(a)  "
      ],
      "execution_count": null,
      "outputs": [
        {
          "output_type": "stream",
          "text": [
            "1\n"
          ],
          "name": "stdout"
        }
      ]
    },
    {
      "cell_type": "code",
      "metadata": {
        "colab": {
          "base_uri": "https://localhost:8080/"
        },
        "id": "K-Ci-OEoSLp8",
        "outputId": "bfc7e39f-a09c-4c56-c6c5-4025e825b423"
      },
      "source": [
        "condition = False\n",
        "if condition :\n",
        "  a = 1\n",
        "else :\n",
        "  a = 0\n",
        "print(a)  "
      ],
      "execution_count": null,
      "outputs": [
        {
          "output_type": "stream",
          "text": [
            "0\n"
          ],
          "name": "stdout"
        }
      ]
    },
    {
      "cell_type": "code",
      "metadata": {
        "id": "zmCLaY70SLmA"
      },
      "source": [
        "# if_body if condition else else_body \n",
        "# iflerin tek satırma yazılma kodu yukarıdakı gıbıdır.\n"
      ],
      "execution_count": null,
      "outputs": []
    },
    {
      "cell_type": "code",
      "metadata": {
        "colab": {
          "base_uri": "https://localhost:8080/"
        },
        "id": "11mrD1Y4SLi9",
        "outputId": "fc40be99-0f0b-482e-e57a-1d343f005d48"
      },
      "source": [
        "1 if condition else 0"
      ],
      "execution_count": null,
      "outputs": [
        {
          "output_type": "execute_result",
          "data": {
            "text/plain": [
              "0"
            ]
          },
          "metadata": {
            "tags": []
          },
          "execution_count": 19
        }
      ]
    },
    {
      "cell_type": "code",
      "metadata": {
        "colab": {
          "base_uri": "https://localhost:8080/"
        },
        "id": "6oTKY_2pgslu",
        "outputId": "65e4c515-36e4-4113-acb7-9e8665b986f5"
      },
      "source": [
        "condition = True \n",
        "1 if condition else 0"
      ],
      "execution_count": null,
      "outputs": [
        {
          "output_type": "execute_result",
          "data": {
            "text/plain": [
              "1"
            ]
          },
          "metadata": {
            "tags": []
          },
          "execution_count": 20
        }
      ]
    },
    {
      "cell_type": "code",
      "metadata": {
        "colab": {
          "base_uri": "https://localhost:8080/"
        },
        "id": "H4YJcQkig2C8",
        "outputId": "4db4628e-3250-435b-ec28-1e191734802f"
      },
      "source": [
        "a = 1 if condition else 0\n",
        "print(a)"
      ],
      "execution_count": null,
      "outputs": [
        {
          "output_type": "stream",
          "text": [
            "1\n"
          ],
          "name": "stdout"
        }
      ]
    },
    {
      "cell_type": "code",
      "metadata": {
        "colab": {
          "base_uri": "https://localhost:8080/"
        },
        "id": "w4zHvdPtg6zu",
        "outputId": "5ee50772-e35c-4c4d-c773-f93758eff3af"
      },
      "source": [
        "print(1 if False else 0)\n"
      ],
      "execution_count": null,
      "outputs": [
        {
          "output_type": "stream",
          "text": [
            "0\n"
          ],
          "name": "stdout"
        }
      ]
    },
    {
      "cell_type": "code",
      "metadata": {
        "colab": {
          "base_uri": "https://localhost:8080/"
        },
        "id": "Xfxl_4fcg_KH",
        "outputId": "0011f19b-68e5-4bc2-a4c1-63bab6213f90"
      },
      "source": [
        "listem = [1, 2, 3, 4, 5, 6]\n",
        "[i**2 for i in listem]"
      ],
      "execution_count": null,
      "outputs": [
        {
          "output_type": "execute_result",
          "data": {
            "text/plain": [
              "[1, 4, 9, 16, 25, 36]"
            ]
          },
          "metadata": {
            "tags": []
          },
          "execution_count": 25
        }
      ]
    },
    {
      "cell_type": "code",
      "metadata": {
        "id": "RnB8722Kg_Hs"
      },
      "source": [
        "i % 2 #sadece tekleri seçince çalışır."
      ],
      "execution_count": null,
      "outputs": []
    },
    {
      "cell_type": "code",
      "metadata": {
        "colab": {
          "base_uri": "https://localhost:8080/"
        },
        "id": "vwOLYIsog_Em",
        "outputId": "d75c2d0f-3742-42ce-c51a-ce2f9101aaa2"
      },
      "source": [
        "[i**2 for i in listem if i % 2] "
      ],
      "execution_count": null,
      "outputs": [
        {
          "output_type": "execute_result",
          "data": {
            "text/plain": [
              "[1, 9, 25]"
            ]
          },
          "metadata": {
            "tags": []
          },
          "execution_count": 27
        }
      ]
    },
    {
      "cell_type": "code",
      "metadata": {
        "id": "3io1E0Feg_B1"
      },
      "source": [
        "## FONKSİYONLAR PYTHON PLUS ##"
      ],
      "execution_count": null,
      "outputs": []
    },
    {
      "cell_type": "code",
      "metadata": {
        "id": "NHdptgaHkvC-"
      },
      "source": [
        "#all(iterable) any(iterable) enumerate(iterable)(numaralandırıyor) filter(functıon, iterable)\n",
        " "
      ],
      "execution_count": null,
      "outputs": []
    },
    {
      "cell_type": "code",
      "metadata": {
        "colab": {
          "base_uri": "https://localhost:8080/"
        },
        "id": "DyMANvi9kvAE",
        "outputId": "4ece4c81-11b1-4aa7-a9d2-6291480ee71a"
      },
      "source": [
        "names = [\"susan\", \"tom\", \"False\"]\n",
        "mood = [\"happy\", \"sad\", 0]\n",
        "empty ={}\n",
        "print(all(names), all(mood), all(empty), sep=\"\\n\") # tüm elemanlar true ise true bır tane false warsa false \n",
        "                                                  # all fonksiyonu boolen verır.\n",
        "                                                  # all fonksiyonun özelliği gereği boş collectıonu true verir. "
      ],
      "execution_count": null,
      "outputs": [
        {
          "output_type": "stream",
          "text": [
            "True\n",
            "False\n",
            "True\n"
          ],
          "name": "stdout"
        }
      ]
    },
    {
      "cell_type": "code",
      "metadata": {
        "colab": {
          "base_uri": "https://localhost:8080/"
        },
        "id": "odeUzRL0ku9b",
        "outputId": "4ceb5306-cb98-4995-a8e6-9ae0b703bc50"
      },
      "source": [
        "listA =[\"susan\", \"tom\", False]\n",
        "listB = [None, (), 0]\n",
        "empty = {}\n",
        "print(any(listA), any(listB), any(empty), sep=\"\\n\") # en az bir true varsa true döndürür yoksa false dondurur.\n",
        "                                                   # all ın aksıne bos dosyayı false dondurur."
      ],
      "execution_count": null,
      "outputs": [
        {
          "output_type": "stream",
          "text": [
            "True\n",
            "False\n",
            "False\n"
          ],
          "name": "stdout"
        }
      ]
    },
    {
      "cell_type": "code",
      "metadata": {
        "id": "zXZzvdNrku5Q"
      },
      "source": [
        "filter(functıon, iterable) #iterable fonksıyon veya none alır. içinde kullanılan fonk boolen sonuc vermek zorundadır.\n",
        "#any ya da all içinde kullanılabılır. kendı tanımladıgımız bır def fonksıyonuda kullanılır.\n",
        "#bir de none kullanılır.functıon or none kullan. none kullanırsan ıterable elamnlarından trueları alıyor.\n"
      ],
      "execution_count": null,
      "outputs": []
    },
    {
      "cell_type": "code",
      "metadata": {
        "colab": {
          "base_uri": "https://localhost:8080/"
        },
        "id": "I5nBhfzr0_4z",
        "outputId": "3efa1f3a-863e-4a50-e0d3-0ade0a7cb095"
      },
      "source": [
        "list = [\"susan\", \"tom\", False, 0, \"0\"]\n",
        "filtered_list = filter(None, list) # none listedekisadece truetylerı alır.s\n",
        "print(\"the filtered elements are : \")\n",
        "for i in filtered_list :        \n",
        "  print(i)"
      ],
      "execution_count": null,
      "outputs": [
        {
          "output_type": "stream",
          "text": [
            "the filtered elements are : \n",
            "susan\n",
            "tom\n",
            "0\n"
          ],
          "name": "stdout"
        }
      ]
    },
    {
      "cell_type": "code",
      "metadata": {
        "id": "HlJDaUcf0_w2"
      },
      "source": [
        ""
      ],
      "execution_count": null,
      "outputs": []
    }
  ]
}