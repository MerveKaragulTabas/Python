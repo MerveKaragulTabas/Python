{
  "nbformat": 4,
  "nbformat_minor": 0,
  "metadata": {
    "colab": {
      "name": "python14",
      "provenance": [],
      "collapsed_sections": [],
      "authorship_tag": "ABX9TyNebmtPQGoKEGA5zNDVzvto",
      "include_colab_link": true
    },
    "kernelspec": {
      "name": "python3",
      "display_name": "Python 3"
    },
    "language_info": {
      "name": "python"
    }
  },
  "cells": [
    {
      "cell_type": "markdown",
      "metadata": {
        "id": "view-in-github",
        "colab_type": "text"
      },
      "source": [
        "<a href=\"https://colab.research.google.com/github/MerveKaragulTabas/Python/blob/main/python14.ipynb\" target=\"_parent\"><img src=\"https://colab.research.google.com/assets/colab-badge.svg\" alt=\"Open In Colab\"/></a>"
      ]
    },
    {
      "cell_type": "code",
      "metadata": {
        "colab": {
          "base_uri": "https://localhost:8080/"
        },
        "id": "Ir2YTDLrTZ3q",
        "outputId": "72247f56-818b-4628-a3d2-84e65f25256b"
      },
      "source": [
        "a = \"i\"\n",
        "b = \"love\"\n",
        "c = \"you\"\n",
        "\n",
        "def texter(c = \"i\", a = \"love\", b = \"you\") : #keywords argumanla cağirma işlemi yaptık\n",
        "    print(a, b, c)\n",
        "texter(c, a, b)"
      ],
      "execution_count": null,
      "outputs": [
        {
          "output_type": "stream",
          "text": [
            "i love you\n"
          ],
          "name": "stdout"
        }
      ]
    },
    {
      "cell_type": "code",
      "metadata": {
        "colab": {
          "base_uri": "https://localhost:8080/"
        },
        "id": "WSqRbOcRYWXX",
        "outputId": "0841e37e-ef08-41c6-dd88-b78030334b1f"
      },
      "source": [
        "a = \"i\"\n",
        "b = \"love\"\n",
        "c = \"you\"\n",
        "\n",
        "def texter(text1, text2, text3) :\n",
        "  print(text2, text3, text1)\n",
        "texter(c, a, b)"
      ],
      "execution_count": null,
      "outputs": [
        {
          "output_type": "stream",
          "text": [
            "i love you\n"
          ],
          "name": "stdout"
        }
      ]
    },
    {
      "cell_type": "code",
      "metadata": {
        "colab": {
          "base_uri": "https://localhost:8080/"
        },
        "id": "4AhskdaAZYyB",
        "outputId": "be88f4fb-8223-462e-a3f5-0593eec9d838"
      },
      "source": [
        "a = \"i\"\n",
        "b = \"love\"\n",
        "c = \"you\"\n",
        "def texter(c, a, b) :\n",
        "    print(a, b, c)\n",
        "texter(c, a, b)"
      ],
      "execution_count": null,
      "outputs": [
        {
          "output_type": "stream",
          "text": [
            "i love you\n"
          ],
          "name": "stdout"
        }
      ]
    },
    {
      "cell_type": "code",
      "metadata": {
        "colab": {
          "base_uri": "https://localhost:8080/"
        },
        "id": "6eel8TWbZzPW",
        "outputId": "330c2c0a-5a7e-43c8-bb62-fdfcf1c8bdbd"
      },
      "source": [
        "def texter(text1, text2, text3) :\n",
        "  print(f\"{text2} {text3} {text1}\")\n",
        "texter(text1 = \"you\", text3 = \"love\", text2 = \"ı\")  #keywords argumanla cağirma işlemi yaptık"
      ],
      "execution_count": null,
      "outputs": [
        {
          "output_type": "stream",
          "text": [
            "ı love you\n"
          ],
          "name": "stdout"
        }
      ]
    },
    {
      "cell_type": "code",
      "metadata": {
        "colab": {
          "base_uri": "https://localhost:8080/"
        },
        "id": "2aQMYgYIa7CR",
        "outputId": "032d8732-5b6a-4830-b8e1-08497ee1f914"
      },
      "source": [
        "def parrot(voltage, state='a stiff', action='voom', type='Norwegian Blue'): #1000 ifadesi voltage nin ifadesı yerıne gitmiş oldu.\n",
        "    print(\"-- This parrot wouldn't\", action, end=' ')\n",
        "    print(\"if you put\", voltage, \"volts through it.\")\n",
        "    print(\"-- Lovely plumage, the\", type)\n",
        "    print(\"-- It's\", state, \"!\")\n",
        "parrot(1000) #positional dır."
      ],
      "execution_count": null,
      "outputs": [
        {
          "output_type": "stream",
          "text": [
            "-- This parrot wouldn't voom if you put 1000 volts through it.\n",
            "-- Lovely plumage, the Norwegian Blue\n",
            "-- It's a stiff !\n"
          ],
          "name": "stdout"
        }
      ]
    },
    {
      "cell_type": "code",
      "metadata": {
        "colab": {
          "base_uri": "https://localhost:8080/"
        },
        "id": "9BVBO3acib1K",
        "outputId": "00b7437d-0049-47db-97d7-b0251c2a92bd"
      },
      "source": [
        "parrot(voltage=1000000, action='VOOOOOM') #keywords argumanlarla cagırdık. keywords = value \n",
        "                                          # sıra onemli degıl. parrot içini değişirsek sonuc aynı kalır."
      ],
      "execution_count": null,
      "outputs": [
        {
          "output_type": "stream",
          "text": [
            "-- This parrot wouldn't VOOOOOM if you put 1000000 volts through it.\n",
            "-- Lovely plumage, the Norwegian Blue\n",
            "-- It's a stiff !\n"
          ],
          "name": "stdout"
        }
      ]
    },
    {
      "cell_type": "code",
      "metadata": {
        "colab": {
          "base_uri": "https://localhost:8080/"
        },
        "id": "mi2CPUCFjJ2X",
        "outputId": "93a2a9bc-78a0-4221-b1aa-f4c7e585b400"
      },
      "source": [
        "parrot(\"a million\", \"bereft of life\", \"jump\") #positional olarak çağırdık. sıra onemlidir."
      ],
      "execution_count": null,
      "outputs": [
        {
          "output_type": "stream",
          "text": [
            "-- This parrot wouldn't jump if you put a million volts through it.\n",
            "-- Lovely plumage, the Norwegian Blue\n",
            "-- It's bereft of life !\n"
          ],
          "name": "stdout"
        }
      ]
    },
    {
      "cell_type": "code",
      "metadata": {
        "colab": {
          "base_uri": "https://localhost:8080/"
        },
        "id": "bhVA9AcNjsGP",
        "outputId": "7e4798b7-2815-4d9e-96c4-04fbe86c69cb"
      },
      "source": [
        "parrot(\"a thousand\", state = \"pushing up the daisies\") "
      ],
      "execution_count": null,
      "outputs": [
        {
          "output_type": "stream",
          "text": [
            "-- This parrot wouldn't voom if you put a thousand volts through it.\n",
            "-- Lovely plumage, the Norwegian Blue\n",
            "-- It's pushing up the daisies !\n"
          ],
          "name": "stdout"
        }
      ]
    },
    {
      "cell_type": "code",
      "metadata": {
        "colab": {
          "base_uri": "https://localhost:8080/",
          "height": 168
        },
        "id": "Q0ZTiYc-kWNK",
        "outputId": "c1317ef7-f73b-48a8-890b-475fe1cd9489"
      },
      "source": [
        "parrot() #hatalı çağırma oldugu ıçin error verdı mutlaka arguman olmalı."
      ],
      "execution_count": null,
      "outputs": [
        {
          "output_type": "error",
          "ename": "TypeError",
          "evalue": "ignored",
          "traceback": [
            "\u001b[0;31m---------------------------------------------------------------------------\u001b[0m",
            "\u001b[0;31mTypeError\u001b[0m                                 Traceback (most recent call last)",
            "\u001b[0;32m<ipython-input-19-1fa32faf15ff>\u001b[0m in \u001b[0;36m<module>\u001b[0;34m()\u001b[0m\n\u001b[0;32m----> 1\u001b[0;31m \u001b[0mparrot\u001b[0m\u001b[0;34m(\u001b[0m\u001b[0;34m)\u001b[0m\u001b[0;34m\u001b[0m\u001b[0;34m\u001b[0m\u001b[0m\n\u001b[0m",
            "\u001b[0;31mTypeError\u001b[0m: parrot() missing 1 required positional argument: 'voltage'"
          ]
        }
      ]
    },
    {
      "cell_type": "code",
      "metadata": {
        "colab": {
          "base_uri": "https://localhost:8080/",
          "height": 133
        },
        "id": "b-1gEr6GlNXK",
        "outputId": "892824ef-2e53-4cae-91d5-b1c322620afb"
      },
      "source": [
        "parrot(voltage = 5, \"dead\") #önce positionallar olmalı.positional sonda oldugu için hata verdi."
      ],
      "execution_count": null,
      "outputs": [
        {
          "output_type": "error",
          "ename": "SyntaxError",
          "evalue": "ignored",
          "traceback": [
            "\u001b[0;36m  File \u001b[0;32m\"<ipython-input-20-7b546f45b43d>\"\u001b[0;36m, line \u001b[0;32m1\u001b[0m\n\u001b[0;31m    parrot(voltage = 5, \"dead\")\u001b[0m\n\u001b[0m                       ^\u001b[0m\n\u001b[0;31mSyntaxError\u001b[0m\u001b[0;31m:\u001b[0m positional argument follows keyword argument\n"
          ]
        }
      ]
    },
    {
      "cell_type": "code",
      "metadata": {
        "colab": {
          "base_uri": "https://localhost:8080/",
          "height": 133
        },
        "id": "9yPS3kBalZPI",
        "outputId": "9e6211db-2cc1-4d79-cfbd-aced64282da4"
      },
      "source": [
        "def argu(a,b = \"dünya\", c,d = \"satürn\") :\n",
        "   print(a, b, c, d, sep = \"\\n\")          #tüm positionallar (sıranın onem arzettıği parametreler) bittikten sonra keywords olmalı.\n",
        "                                          # tanımlamada karısık verdıgı için hata verdi."
      ],
      "execution_count": null,
      "outputs": [
        {
          "output_type": "error",
          "ename": "SyntaxError",
          "evalue": "ignored",
          "traceback": [
            "\u001b[0;36m  File \u001b[0;32m\"<ipython-input-23-697c11822eb6>\"\u001b[0;36m, line \u001b[0;32m1\u001b[0m\n\u001b[0;31m    def argu(a,b = \"dünya\", c,d = \"satürn\") :\u001b[0m\n\u001b[0m            ^\u001b[0m\n\u001b[0;31mSyntaxError\u001b[0m\u001b[0;31m:\u001b[0m non-default argument follows default argument\n"
          ]
        }
      ]
    },
    {
      "cell_type": "code",
      "metadata": {
        "colab": {
          "base_uri": "https://localhost:8080/",
          "height": 202
        },
        "id": "054J_SjKlygX",
        "outputId": "57dca92b-c40b-45ae-da6f-e677d4abf1eb"
      },
      "source": [
        "def argu(a, c, b = \"dünya\", d = \"satürn\") :\n",
        "  print(a, b, c, d, sep = \"\\n\")\n",
        "argu()"
      ],
      "execution_count": null,
      "outputs": [
        {
          "output_type": "error",
          "ename": "TypeError",
          "evalue": "ignored",
          "traceback": [
            "\u001b[0;31m---------------------------------------------------------------------------\u001b[0m",
            "\u001b[0;31mTypeError\u001b[0m                                 Traceback (most recent call last)",
            "\u001b[0;32m<ipython-input-25-2d5040ac3a43>\u001b[0m in \u001b[0;36m<module>\u001b[0;34m()\u001b[0m\n\u001b[1;32m      1\u001b[0m \u001b[0;32mdef\u001b[0m \u001b[0margu\u001b[0m\u001b[0;34m(\u001b[0m\u001b[0ma\u001b[0m\u001b[0;34m,\u001b[0m \u001b[0mc\u001b[0m\u001b[0;34m,\u001b[0m \u001b[0mb\u001b[0m \u001b[0;34m=\u001b[0m \u001b[0;34m\"dünya\"\u001b[0m\u001b[0;34m,\u001b[0m \u001b[0md\u001b[0m \u001b[0;34m=\u001b[0m \u001b[0;34m\"satürn\"\u001b[0m\u001b[0;34m)\u001b[0m \u001b[0;34m:\u001b[0m\u001b[0;34m\u001b[0m\u001b[0;34m\u001b[0m\u001b[0m\n\u001b[1;32m      2\u001b[0m   \u001b[0mprint\u001b[0m\u001b[0;34m(\u001b[0m\u001b[0ma\u001b[0m\u001b[0;34m,\u001b[0m \u001b[0mb\u001b[0m\u001b[0;34m,\u001b[0m \u001b[0mc\u001b[0m\u001b[0;34m,\u001b[0m \u001b[0md\u001b[0m\u001b[0;34m,\u001b[0m \u001b[0msep\u001b[0m \u001b[0;34m=\u001b[0m \u001b[0;34m\"\\n\"\u001b[0m\u001b[0;34m)\u001b[0m\u001b[0;34m\u001b[0m\u001b[0;34m\u001b[0m\u001b[0m\n\u001b[0;32m----> 3\u001b[0;31m \u001b[0margu\u001b[0m\u001b[0;34m(\u001b[0m\u001b[0;34m)\u001b[0m\u001b[0;34m\u001b[0m\u001b[0;34m\u001b[0m\u001b[0m\n\u001b[0m",
            "\u001b[0;31mTypeError\u001b[0m: argu() missing 2 required positional arguments: 'a' and 'c'"
          ]
        }
      ]
    },
    {
      "cell_type": "code",
      "metadata": {
        "colab": {
          "base_uri": "https://localhost:8080/"
        },
        "id": "BDZXL1JFmi6e",
        "outputId": "8d9b95b0-100a-4884-845b-d2aa40ceea75"
      },
      "source": [
        "argu(\"uranüs\", \"jüriter\")"
      ],
      "execution_count": null,
      "outputs": [
        {
          "output_type": "stream",
          "text": [
            "uranüs\n",
            "dünya\n",
            "jüriter\n",
            "satürn\n"
          ],
          "name": "stdout"
        }
      ]
    },
    {
      "cell_type": "code",
      "metadata": {
        "colab": {
          "base_uri": "https://localhost:8080/"
        },
        "id": "d-POEJDHm-I0",
        "outputId": "69e0da9d-8cc3-4d67-8cc3-42f0783e64a7"
      },
      "source": [
        "argu(a =\"uranüs\", c = \"jüpiter\")"
      ],
      "execution_count": null,
      "outputs": [
        {
          "output_type": "stream",
          "text": [
            "uranüs\n",
            "dünya\n",
            "jüpiter\n",
            "satürn\n"
          ],
          "name": "stdout"
        }
      ]
    },
    {
      "cell_type": "code",
      "metadata": {
        "colab": {
          "base_uri": "https://localhost:8080/",
          "height": 133
        },
        "id": "qRQq8Wzznr60",
        "outputId": "370ebb3e-d1ea-45e4-b2bb-dfe29d3d4813"
      },
      "source": [
        "argu(\"plüto\", c = \"venüs\", \"mars\")   # sıralama hatası var positional keyword posıtıonal var olmaz.\n",
        "                                    # once posıtıonalların bıtmesı gerekır."
      ],
      "execution_count": null,
      "outputs": [
        {
          "output_type": "error",
          "ename": "SyntaxError",
          "evalue": "ignored",
          "traceback": [
            "\u001b[0;36m  File \u001b[0;32m\"<ipython-input-29-5c83c5dd5081>\"\u001b[0;36m, line \u001b[0;32m1\u001b[0m\n\u001b[0;31m    argu(\"plüto\", c = \"venüs\", \"mars\")\u001b[0m\n\u001b[0m                                ^\u001b[0m\n\u001b[0;31mSyntaxError\u001b[0m\u001b[0;31m:\u001b[0m positional argument follows keyword argument\n"
          ]
        }
      ]
    },
    {
      "cell_type": "code",
      "metadata": {
        "colab": {
          "base_uri": "https://localhost:8080/",
          "height": 168
        },
        "id": "JPwedX3CoCuj",
        "outputId": "1b572204-6b95-44da-cf49-5504259e29f5"
      },
      "source": [
        "argu(\"plüto\", \"mars\", c = \"venüs\") #fazla değer var 2 tane olmalıydı."
      ],
      "execution_count": null,
      "outputs": [
        {
          "output_type": "error",
          "ename": "TypeError",
          "evalue": "ignored",
          "traceback": [
            "\u001b[0;31m---------------------------------------------------------------------------\u001b[0m",
            "\u001b[0;31mTypeError\u001b[0m                                 Traceback (most recent call last)",
            "\u001b[0;32m<ipython-input-30-4e39c7bf3245>\u001b[0m in \u001b[0;36m<module>\u001b[0;34m()\u001b[0m\n\u001b[0;32m----> 1\u001b[0;31m \u001b[0margu\u001b[0m\u001b[0;34m(\u001b[0m\u001b[0;34m\"plüto\"\u001b[0m\u001b[0;34m,\u001b[0m \u001b[0;34m\"mars\"\u001b[0m\u001b[0;34m,\u001b[0m \u001b[0mc\u001b[0m \u001b[0;34m=\u001b[0m \u001b[0;34m\"venüs\"\u001b[0m\u001b[0;34m)\u001b[0m\u001b[0;34m\u001b[0m\u001b[0;34m\u001b[0m\u001b[0m\n\u001b[0m",
            "\u001b[0;31mTypeError\u001b[0m: argu() got multiple values for argument 'c'"
          ]
        }
      ]
    },
    {
      "cell_type": "code",
      "metadata": {
        "colab": {
          "base_uri": "https://localhost:8080/"
        },
        "id": "5cBxJCsGof2n",
        "outputId": "8f0f8e6d-b93d-492d-cb1b-165859ad9e3f"
      },
      "source": [
        "argu(d = \"güneş\", a = \"dünya\", c = \"plüto\", b = \"venüs\")"
      ],
      "execution_count": null,
      "outputs": [
        {
          "output_type": "stream",
          "text": [
            "dünya\n",
            "venüs\n",
            "plüto\n",
            "güneş\n"
          ],
          "name": "stdout"
        }
      ]
    },
    {
      "cell_type": "code",
      "metadata": {
        "colab": {
          "base_uri": "https://localhost:8080/"
        },
        "id": "kEOHhEFHou04",
        "outputId": "41a2f7e6-24a3-4c45-dcdb-0b4f766c0ed3"
      },
      "source": [
        "argu(\"güneş\", \"dünya\", \"plüto\", \"venüs\") #positional argumanlarla çağırdıgımız için çalıştı."
      ],
      "execution_count": null,
      "outputs": [
        {
          "output_type": "stream",
          "text": [
            "güneş\n",
            "plüto\n",
            "dünya\n",
            "venüs\n"
          ],
          "name": "stdout"
        }
      ]
    },
    {
      "cell_type": "code",
      "metadata": {
        "colab": {
          "base_uri": "https://localhost:8080/",
          "height": 202
        },
        "id": "fAgOkGOno1v0",
        "outputId": "940425aa-78dc-4eb9-98a6-0418f88e29ac"
      },
      "source": [
        "slicer(1, 2, 3, 4, 5, 6, 7, 8, 9)\n",
        "def slicer(*odd) :\n",
        "  print(slicer)"
      ],
      "execution_count": null,
      "outputs": [
        {
          "output_type": "error",
          "ename": "NameError",
          "evalue": "ignored",
          "traceback": [
            "\u001b[0;31m---------------------------------------------------------------------------\u001b[0m",
            "\u001b[0;31mNameError\u001b[0m                                 Traceback (most recent call last)",
            "\u001b[0;32m<ipython-input-36-7be8e90dc4ec>\u001b[0m in \u001b[0;36m<module>\u001b[0;34m()\u001b[0m\n\u001b[0;32m----> 1\u001b[0;31m \u001b[0mnumber\u001b[0m \u001b[0;34m=\u001b[0m \u001b[0mslicer\u001b[0m\u001b[0;34m(\u001b[0m\u001b[0;36m1\u001b[0m\u001b[0;34m,\u001b[0m \u001b[0;36m2\u001b[0m\u001b[0;34m,\u001b[0m \u001b[0;36m3\u001b[0m\u001b[0;34m,\u001b[0m \u001b[0;36m4\u001b[0m\u001b[0;34m,\u001b[0m \u001b[0;36m5\u001b[0m\u001b[0;34m,\u001b[0m \u001b[0;36m6\u001b[0m\u001b[0;34m,\u001b[0m \u001b[0;36m7\u001b[0m\u001b[0;34m,\u001b[0m \u001b[0;36m8\u001b[0m\u001b[0;34m,\u001b[0m \u001b[0;36m9\u001b[0m\u001b[0;34m)\u001b[0m\u001b[0;34m\u001b[0m\u001b[0;34m\u001b[0m\u001b[0m\n\u001b[0m\u001b[1;32m      2\u001b[0m \u001b[0;32mdef\u001b[0m \u001b[0mslicer\u001b[0m\u001b[0;34m(\u001b[0m\u001b[0;34m*\u001b[0m\u001b[0marg\u001b[0m\u001b[0;34m)\u001b[0m \u001b[0;34m:\u001b[0m\u001b[0;34m\u001b[0m\u001b[0;34m\u001b[0m\u001b[0m\n\u001b[1;32m      3\u001b[0m   \u001b[0mprint\u001b[0m\u001b[0;34m(\u001b[0m\u001b[0mslicer\u001b[0m\u001b[0;34m)\u001b[0m\u001b[0;34m\u001b[0m\u001b[0;34m\u001b[0m\u001b[0m\n",
            "\u001b[0;31mNameError\u001b[0m: name 'slicer' is not defined"
          ]
        }
      ]
    },
    {
      "cell_type": "code",
      "metadata": {
        "colab": {
          "base_uri": "https://localhost:8080/"
        },
        "id": "OSZdBfadwqiv",
        "outputId": "0417c6aa-df33-41f4-d140-4868966a4ca7"
      },
      "source": [
        "def slicer(*num) :\n",
        "  evens = []\n",
        "  odd = []\n",
        "  for i in num :\n",
        "      if i %2 ==0 :\n",
        "        evens.append(i) \n",
        "      else :\n",
        "        odd.append(i)\n",
        "  print(\"even list : \", evens)\n",
        "  print(\"odd list: \", odd)\n",
        "slicer(1,2,3,4,5,6,7,8,9)\n",
        "  "
      ],
      "execution_count": null,
      "outputs": [
        {
          "output_type": "stream",
          "text": [
            "even list :  [2, 4, 6, 8]\n",
            "odd list:  [1, 3, 5, 7, 9]\n"
          ],
          "name": "stdout"
        }
      ]
    },
    {
      "cell_type": "code",
      "metadata": {
        "colab": {
          "base_uri": "https://localhost:8080/"
        },
        "id": "zxUAK-LkxizE",
        "outputId": "193fceda-dfe4-434a-9b6d-f290b98626aa"
      },
      "source": [
        "def slicer(*number):\n",
        "  odds=[]\n",
        "  evens=[]\n",
        "  for i in number:\n",
        "    if i%2==0:\n",
        "      evens.append(i)      \n",
        "    else:\n",
        "      odds.append(i)\n",
        "  print('odd list:', odds)\n",
        "  print(\"even list:\", evens)\n",
        "slicer(1,2,3,4,5,6)"
      ],
      "execution_count": null,
      "outputs": [
        {
          "output_type": "stream",
          "text": [
            "odd list: [1, 3, 5]\n",
            "even list: [2, 4, 6]\n"
          ],
          "name": "stdout"
        }
      ]
    },
    {
      "cell_type": "code",
      "metadata": {
        "colab": {
          "base_uri": "https://localhost:8080/"
        },
        "id": "yTh7Q-jUybKH",
        "outputId": "8d1518e1-c428-4f15-a6e8-1cab5d3cc1d3"
      },
      "source": [
        "test = dict(isim = \"ahmet\", soyisim = \"mehmet\")\n",
        "test"
      ],
      "execution_count": null,
      "outputs": [
        {
          "output_type": "execute_result",
          "data": {
            "text/plain": [
              "{'isim': 'ahmet', 'soyisim': 'mehmet'}"
            ]
          },
          "metadata": {
            "tags": []
          },
          "execution_count": 47
        }
      ]
    },
    {
      "cell_type": "code",
      "metadata": {
        "colab": {
          "base_uri": "https://localhost:8080/"
        },
        "id": "2Qc5a3rIy2Ik",
        "outputId": "6012042c-d8f0-451c-acc2-f6dcac5502bb"
      },
      "source": [
        "def organizer(**kwargs) :\n",
        "    names = []\n",
        "    ages = []\n",
        "    for key, value in kwargs.items() :\n",
        "        names.append(key)\n",
        "        ages.append(value)\n",
        "    print(names, ages, sep =\"\\n\")\n",
        "organizer(Beth=26, Oscar=42, Justin=18, Frank=33)"
      ],
      "execution_count": null,
      "outputs": [
        {
          "output_type": "stream",
          "text": [
            "['Beth', 'Oscar', 'Justin', 'Frank']\n",
            "[26, 42, 18, 33]\n"
          ],
          "name": "stdout"
        }
      ]
    },
    {
      "cell_type": "code",
      "metadata": {
        "id": "NUgExXCF0y9v",
        "colab": {
          "base_uri": "https://localhost:8080/"
        },
        "outputId": "0f4e7782-f7f6-438b-d5c0-b91474ba913a"
      },
      "source": [
        "def brothers(bro1, bro2, bro3) :\n",
        "  print(\"here are the names of brothers : \")\n",
        "  print(bro1, bro2, bro3, sep=\"\\n\")\n",
        "family = [\"tom\", \"sue\", \"tim\"]\n",
        "brothers(*family)"
      ],
      "execution_count": null,
      "outputs": [
        {
          "output_type": "stream",
          "text": [
            "here are the names of brothers : \n",
            "tom\n",
            "sue\n",
            "tim\n"
          ],
          "name": "stdout"
        }
      ]
    },
    {
      "cell_type": "code",
      "metadata": {
        "id": "bneyfBym1lne",
        "colab": {
          "base_uri": "https://localhost:8080/"
        },
        "outputId": "3e134af6-5a3d-4faa-d603-4875dd7e5598"
      },
      "source": [
        "brothers(\"tom\", \"sue\", \"tim\")"
      ],
      "execution_count": null,
      "outputs": [
        {
          "output_type": "stream",
          "text": [
            "here are the names of brothers : \n",
            "tom\n",
            "sue\n",
            "tim\n"
          ],
          "name": "stdout"
        }
      ]
    },
    {
      "cell_type": "code",
      "metadata": {
        "colab": {
          "base_uri": "https://localhost:8080/"
        },
        "id": "nKrKfFhyHbq4",
        "outputId": "2b24f6e3-8954-4119-e47c-8731d31b2633"
      },
      "source": [
        "bros = [\"tom\", \"sue\", \"tim\"]\n",
        "brothers(*bros)"
      ],
      "execution_count": null,
      "outputs": [
        {
          "output_type": "stream",
          "text": [
            "here are the names of brothers : \n",
            "tom\n",
            "sue\n",
            "tim\n"
          ],
          "name": "stdout"
        }
      ]
    },
    {
      "cell_type": "code",
      "metadata": {
        "colab": {
          "base_uri": "https://localhost:8080/",
          "height": 35
        },
        "id": "KHmqg2r6HqGu",
        "outputId": "2ca29d95-481d-4939-db35-6999a7d79c9d"
      },
      "source": [
        "def mantık(kelime) : \n",
        "  return kelime.upper()\n",
        "mantık(\"odunum\")"
      ],
      "execution_count": null,
      "outputs": [
        {
          "output_type": "execute_result",
          "data": {
            "application/vnd.google.colaboratory.intrinsic+json": {
              "type": "string"
            },
            "text/plain": [
              "'ODUNUM'"
            ]
          },
          "metadata": {
            "tags": []
          },
          "execution_count": 5
        }
      ]
    },
    {
      "cell_type": "code",
      "metadata": {
        "colab": {
          "base_uri": "https://localhost:8080/"
        },
        "id": "1oxKDROuIBRo",
        "outputId": "b7e24ea0-89b2-4b83-e960-106bfe8b7f1b"
      },
      "source": [
        "print(mantık(\"odunum\"))"
      ],
      "execution_count": null,
      "outputs": [
        {
          "output_type": "stream",
          "text": [
            "ODUNUM\n"
          ],
          "name": "stdout"
        }
      ]
    },
    {
      "cell_type": "code",
      "metadata": {
        "colab": {
          "base_uri": "https://localhost:8080/"
        },
        "id": "Ib8mQvvPIIBA",
        "outputId": "0bbd2863-a2ef-4b95-dd5a-f4c34baaee8e"
      },
      "source": [
        "cümle = \"bazen odun olmak istemişimdir.\"\n",
        "def voweler(letter) :\n",
        "  vowels = [\"o\", \"e\", \"i\", \"u\", \"ı\", \"ü\", \"ö\", \"a\"]\n",
        "\n",
        "  if letter.lower() in vowels :\n",
        "    return True\n",
        "  else :\n",
        "    return False\n",
        "filter(voweler, cümle)"
      ],
      "execution_count": null,
      "outputs": [
        {
          "output_type": "execute_result",
          "data": {
            "text/plain": [
              "<filter at 0x7fb3a48e3990>"
            ]
          },
          "metadata": {
            "tags": []
          },
          "execution_count": 11
        }
      ]
    },
    {
      "cell_type": "code",
      "metadata": {
        "colab": {
          "base_uri": "https://localhost:8080/"
        },
        "id": "qvZMwvGILLkp",
        "outputId": "4c65fe6c-1c72-48d9-f400-85a7aa2401e3"
      },
      "source": [
        "filtered_vowels = filter(voweler, cümle)\n",
        "list(filtered_vowels)"
      ],
      "execution_count": null,
      "outputs": [
        {
          "output_type": "execute_result",
          "data": {
            "text/plain": [
              "['a', 'e', 'o', 'u', 'o', 'a', 'i', 'e', 'i', 'i', 'i']"
            ]
          },
          "metadata": {
            "tags": []
          },
          "execution_count": 13
        }
      ]
    },
    {
      "cell_type": "code",
      "metadata": {
        "colab": {
          "base_uri": "https://localhost:8080/"
        },
        "id": "DjsUaTU0LLbr",
        "outputId": "fbe49586-8ef5-423a-aa72-278976682b6d"
      },
      "source": [
        "def merger(a, b, c, d):\n",
        "    print(f\"For me, {a} {d} and {c} {b} are geniuses\")\n",
        "genius = (\"Bill\", \"Rossum\", \"Guido van\", \"Gates\")\n",
        "merger(*genius)"
      ],
      "execution_count": null,
      "outputs": [
        {
          "output_type": "stream",
          "text": [
            "For me, Bill Gates and Guido van Rossum are geniuses\n"
          ],
          "name": "stdout"
        }
      ]
    },
    {
      "cell_type": "code",
      "metadata": {
        "colab": {
          "base_uri": "https://localhost:8080/"
        },
        "id": "73xxlDjwLLYO",
        "outputId": "7a88a2fc-e28c-4e8d-81e6-958844503f24"
      },
      "source": [
        "def önceki(**parametre) :\n",
        "  for x, y in parametre.items() :\n",
        "    print(x, y)\n",
        "önceki(a=\"ahmet\", b=\"mehmet\", c=\"selamet\")"
      ],
      "execution_count": null,
      "outputs": [
        {
          "output_type": "stream",
          "text": [
            "a ahmet\n",
            "b mehmet\n",
            "c selamet\n"
          ],
          "name": "stdout"
        }
      ]
    },
    {
      "cell_type": "code",
      "metadata": {
        "colab": {
          "base_uri": "https://localhost:8080/"
        },
        "id": "_hNDeIF9S4f5",
        "outputId": "10b9e126-e06c-4ad7-8566-687675c4d881"
      },
      "source": [
        "def gene(x = \"solomon\", y = \"david\") :\n",
        "  print(x, \"belongs to generation x\")\n",
        "  print(y, \"belongs to generatıon y\")\n",
        "dict_gene = {\"y\" : \"marry\", \"x\" :\"fred\"}\n",
        "gene(**dict_gene)"
      ],
      "execution_count": null,
      "outputs": [
        {
          "output_type": "stream",
          "text": [
            "fred belongs to generation x\n",
            "marry belongs to generatıon y\n"
          ],
          "name": "stdout"
        }
      ]
    },
    {
      "cell_type": "code",
      "metadata": {
        "colab": {
          "base_uri": "https://localhost:8080/"
        },
        "id": "34kxZRldT5Ie",
        "outputId": "7f40ff4a-ef23-4aee-c52b-11cad276773d"
      },
      "source": [
        "gene()"
      ],
      "execution_count": null,
      "outputs": [
        {
          "output_type": "stream",
          "text": [
            "solomon belongs to generation x\n",
            "david belongs to generatıon y\n"
          ],
          "name": "stdout"
        }
      ]
    },
    {
      "cell_type": "code",
      "metadata": {
        "colab": {
          "base_uri": "https://localhost:8080/"
        },
        "id": "iaKEZ9U0T6ra",
        "outputId": "677cd527-2f21-4029-9078-90aed117c84d"
      },
      "source": [
        "def gene(x, y) :\n",
        "  print(x, \"belongs to generation x\")\n",
        "  print(y, \"belongs to generatıon y\")\n",
        "gene(**dict_gene)"
      ],
      "execution_count": null,
      "outputs": [
        {
          "output_type": "stream",
          "text": [
            "fred belongs to generation x\n",
            "marry belongs to generatıon y\n"
          ],
          "name": "stdout"
        }
      ]
    },
    {
      "cell_type": "code",
      "metadata": {
        "colab": {
          "base_uri": "https://localhost:8080/"
        },
        "id": "KFwD6iH1UFK4",
        "outputId": "d94c0d10-d33d-4c10-ed0f-4eaf9209fcf4"
      },
      "source": [
        "def gene(x, y) :\n",
        "  print(x, \"belongs to generation x\")\n",
        "  print(y, \"belongs to generatıon y\")\n",
        "dict_gene"
      ],
      "execution_count": null,
      "outputs": [
        {
          "output_type": "execute_result",
          "data": {
            "text/plain": [
              "{'x': 'fred', 'y': 'marry'}"
            ]
          },
          "metadata": {
            "tags": []
          },
          "execution_count": 20
        }
      ]
    },
    {
      "cell_type": "code",
      "metadata": {
        "colab": {
          "base_uri": "https://localhost:8080/"
        },
        "id": "Cr_cxd5_UWH9",
        "outputId": "524ba752-e592-4929-bc9a-80f162636ced"
      },
      "source": [
        "dict_couple = {\"bride\" : [\"mary\", \"bella\", \"linda\", \"emma\"],\n",
        "               \"groom\" : [\"jack\", \"robert\", \"eric\", \"adam\"]}\n",
        "def muruvvet(bride, groom) :\n",
        "  couple_list = []\n",
        "  for x in zip(bride, groom) :\n",
        "      couple_list.append(x)\n",
        "  return couple_list\n",
        "muruvvet(**dict_couple)"
      ],
      "execution_count": null,
      "outputs": [
        {
          "output_type": "execute_result",
          "data": {
            "text/plain": [
              "[('mary', 'jack'), ('bella', 'robert'), ('linda', 'eric'), ('emma', 'adam')]"
            ]
          },
          "metadata": {
            "tags": []
          },
          "execution_count": 22
        }
      ]
    },
    {
      "cell_type": "code",
      "metadata": {
        "colab": {
          "base_uri": "https://localhost:8080/"
        },
        "id": "ThXSOaElVGR-",
        "outputId": "f1adae86-c242-4372-b79f-a4834492441c"
      },
      "source": [
        "def muruvvet_2(bride,groom) :\n",
        "   return [x for x in zip(bride,groom)]\n",
        "muruvvet_2(**dict_couple)"
      ],
      "execution_count": null,
      "outputs": [
        {
          "output_type": "execute_result",
          "data": {
            "text/plain": [
              "[('mary', 'jack'), ('bella', 'robert'), ('linda', 'eric'), ('emma', 'adam')]"
            ]
          },
          "metadata": {
            "tags": []
          },
          "execution_count": 24
        }
      ]
    },
    {
      "cell_type": "code",
      "metadata": {
        "colab": {
          "base_uri": "https://localhost:8080/",
          "height": 202
        },
        "id": "74d1XOOtVGNP",
        "outputId": "0e70e7f5-72ce-438c-e4c9-087bd3739b65"
      },
      "source": [
        "friends = {\"alfred\" : 44, \"thomas\" : 56, \"emily\" : 22}\n",
        "def meaner(friends) :\n",
        "  sum = 0\n",
        "  for key,val in friends.items() :\n",
        "    sum += val\n",
        "  return sum / len(friends)\n",
        "print(meaner(dict_friends))"
      ],
      "execution_count": null,
      "outputs": [
        {
          "output_type": "error",
          "ename": "NameError",
          "evalue": "ignored",
          "traceback": [
            "\u001b[0;31m---------------------------------------------------------------------------\u001b[0m",
            "\u001b[0;31mNameError\u001b[0m                                 Traceback (most recent call last)",
            "\u001b[0;32m<ipython-input-27-8218db1e0421>\u001b[0m in \u001b[0;36m<module>\u001b[0;34m()\u001b[0m\n\u001b[1;32m      5\u001b[0m     \u001b[0msum\u001b[0m \u001b[0;34m+=\u001b[0m \u001b[0mval\u001b[0m\u001b[0;34m\u001b[0m\u001b[0;34m\u001b[0m\u001b[0m\n\u001b[1;32m      6\u001b[0m   \u001b[0;32mreturn\u001b[0m \u001b[0msum\u001b[0m \u001b[0;34m/\u001b[0m \u001b[0mlen\u001b[0m\u001b[0;34m(\u001b[0m\u001b[0mfriends\u001b[0m\u001b[0;34m)\u001b[0m\u001b[0;34m\u001b[0m\u001b[0;34m\u001b[0m\u001b[0m\n\u001b[0;32m----> 7\u001b[0;31m \u001b[0mprint\u001b[0m\u001b[0;34m(\u001b[0m\u001b[0mmeaner\u001b[0m\u001b[0;34m(\u001b[0m\u001b[0mdict_friends\u001b[0m\u001b[0;34m)\u001b[0m\u001b[0;34m)\u001b[0m\u001b[0;34m\u001b[0m\u001b[0;34m\u001b[0m\u001b[0m\n\u001b[0m",
            "\u001b[0;31mNameError\u001b[0m: name 'dict_friends' is not defined"
          ]
        }
      ]
    },
    {
      "cell_type": "code",
      "metadata": {
        "colab": {
          "base_uri": "https://localhost:8080/"
        },
        "id": "wE6-eZ80VGJ6",
        "outputId": "f04294d9-c8fb-4fd1-f1be-b82f7a8d31b0"
      },
      "source": [
        "friends = {\"alfred\" : 44, \"thomas\" : 56, \"emily\" : 22}\n",
        "def meaner(**friends) :\n",
        "    return sum(friends.values())/len(friends)\n",
        "meaner(**friends)\n"
      ],
      "execution_count": null,
      "outputs": [
        {
          "output_type": "execute_result",
          "data": {
            "text/plain": [
              "40.666666666666664"
            ]
          },
          "metadata": {
            "tags": []
          },
          "execution_count": 34
        }
      ]
    },
    {
      "cell_type": "code",
      "metadata": {
        "colab": {
          "base_uri": "https://localhost:8080/"
        },
        "id": "UUyvVIPqVGEL",
        "outputId": "c68feaf4-3818-40ff-c60d-c6cff093cab0"
      },
      "source": [
        "friends = {\"Alpha\": 33, \"Beta\" : 43, \"Gamma\" : 53}\n",
        "def meaner(x):\n",
        "    print(x)\n",
        "    median = 0\n",
        "    for key, values in friends.items():\n",
        "        median +=  values\n",
        "    return median/len(friends)\n",
        "meaner(friends)"
      ],
      "execution_count": null,
      "outputs": [
        {
          "output_type": "stream",
          "text": [
            "{'Alpha': 33, 'Beta': 43, 'Gamma': 53}\n"
          ],
          "name": "stdout"
        },
        {
          "output_type": "execute_result",
          "data": {
            "text/plain": [
              "43.0"
            ]
          },
          "metadata": {
            "tags": []
          },
          "execution_count": 28
        }
      ]
    },
    {
      "cell_type": "code",
      "metadata": {
        "id": "l6ioakKPVF7n"
      },
      "source": [
        ""
      ],
      "execution_count": null,
      "outputs": []
    },
    {
      "cell_type": "code",
      "metadata": {
        "id": "v4CDrOIBh6Ud"
      },
      "source": [
        ""
      ],
      "execution_count": null,
      "outputs": []
    }
  ]
}