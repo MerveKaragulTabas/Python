{
  "nbformat": 4,
  "nbformat_minor": 0,
  "metadata": {
    "colab": {
      "name": "python20",
      "provenance": [],
      "collapsed_sections": [],
      "authorship_tag": "ABX9TyPLtj4CtTjFCmYHFHBUhPam",
      "include_colab_link": true
    },
    "kernelspec": {
      "name": "python3",
      "display_name": "Python 3"
    },
    "language_info": {
      "name": "python"
    }
  },
  "cells": [
    {
      "cell_type": "markdown",
      "metadata": {
        "id": "view-in-github",
        "colab_type": "text"
      },
      "source": [
        "<a href=\"https://colab.research.google.com/github/MerveKaragulTabas/Python/blob/main/python20.ipynb\" target=\"_parent\"><img src=\"https://colab.research.google.com/assets/colab-badge.svg\" alt=\"Open In Colab\"/></a>"
      ]
    },
    {
      "cell_type": "code",
      "metadata": {
        "colab": {
          "base_uri": "https://localhost:8080/",
          "height": 168
        },
        "id": "rvJ9e5g7aq1G",
        "outputId": "580c01c1-bdd1-412d-a894-01d25bf2460b"
      },
      "source": [
        "a = math.factorial(3.4)\n"
      ],
      "execution_count": null,
      "outputs": [
        {
          "output_type": "error",
          "ename": "NameError",
          "evalue": "ignored",
          "traceback": [
            "\u001b[0;31m---------------------------------------------------------------------------\u001b[0m",
            "\u001b[0;31mNameError\u001b[0m                                 Traceback (most recent call last)",
            "\u001b[0;32m<ipython-input-4-0fadc7cb3f09>\u001b[0m in \u001b[0;36m<module>\u001b[0;34m()\u001b[0m\n\u001b[0;32m----> 1\u001b[0;31m \u001b[0ma\u001b[0m \u001b[0;34m=\u001b[0m \u001b[0mmath\u001b[0m\u001b[0;34m.\u001b[0m\u001b[0mfactorial\u001b[0m\u001b[0;34m(\u001b[0m\u001b[0;36m3.4\u001b[0m\u001b[0;34m)\u001b[0m\u001b[0;34m\u001b[0m\u001b[0;34m\u001b[0m\u001b[0m\n\u001b[0m",
            "\u001b[0;31mNameError\u001b[0m: name 'math' is not defined"
          ]
        }
      ]
    },
    {
      "cell_type": "code",
      "metadata": {
        "colab": {
          "base_uri": "https://localhost:8080/",
          "height": 168
        },
        "id": "5ptchLKViGIV",
        "outputId": "836fd3b2-2d96-4343-bf36-b32bdd926ca2"
      },
      "source": [
        "math.sqrt(-25)"
      ],
      "execution_count": null,
      "outputs": [
        {
          "output_type": "error",
          "ename": "NameError",
          "evalue": "ignored",
          "traceback": [
            "\u001b[0;31m---------------------------------------------------------------------------\u001b[0m",
            "\u001b[0;31mNameError\u001b[0m                                 Traceback (most recent call last)",
            "\u001b[0;32m<ipython-input-5-d80dea1ee982>\u001b[0m in \u001b[0;36m<module>\u001b[0;34m()\u001b[0m\n\u001b[0;32m----> 1\u001b[0;31m \u001b[0mmath\u001b[0m\u001b[0;34m.\u001b[0m\u001b[0msqrt\u001b[0m\u001b[0;34m(\u001b[0m\u001b[0;34m-\u001b[0m\u001b[0;36m25\u001b[0m\u001b[0;34m)\u001b[0m\u001b[0;34m\u001b[0m\u001b[0;34m\u001b[0m\u001b[0m\n\u001b[0m",
            "\u001b[0;31mNameError\u001b[0m: name 'math' is not defined"
          ]
        }
      ]
    },
    {
      "cell_type": "code",
      "metadata": {
        "colab": {
          "base_uri": "https://localhost:8080/",
          "height": 168
        },
        "id": "He_ik0hDirS3",
        "outputId": "79ea5113-c9f2-4bbf-a582-3165614bb099"
      },
      "source": [
        "math.factorial(-4)"
      ],
      "execution_count": null,
      "outputs": [
        {
          "output_type": "error",
          "ename": "NameError",
          "evalue": "ignored",
          "traceback": [
            "\u001b[0;31m---------------------------------------------------------------------------\u001b[0m",
            "\u001b[0;31mNameError\u001b[0m                                 Traceback (most recent call last)",
            "\u001b[0;32m<ipython-input-7-001ef41ec39f>\u001b[0m in \u001b[0;36m<module>\u001b[0;34m()\u001b[0m\n\u001b[0;32m----> 1\u001b[0;31m \u001b[0mmath\u001b[0m\u001b[0;34m.\u001b[0m\u001b[0mfactorial\u001b[0m\u001b[0;34m(\u001b[0m\u001b[0;34m-\u001b[0m\u001b[0;36m4\u001b[0m\u001b[0;34m)\u001b[0m\u001b[0;34m\u001b[0m\u001b[0;34m\u001b[0m\u001b[0m\n\u001b[0m",
            "\u001b[0;31mNameError\u001b[0m: name 'math' is not defined"
          ]
        }
      ]
    },
    {
      "cell_type": "code",
      "metadata": {
        "colab": {
          "base_uri": "https://localhost:8080/",
          "height": 168
        },
        "id": "LYAvJqtSi0Xc",
        "outputId": "1609b50a-5074-4320-bed3-25008d9f8b4a"
      },
      "source": [
        "math.log(0)"
      ],
      "execution_count": null,
      "outputs": [
        {
          "output_type": "error",
          "ename": "NameError",
          "evalue": "ignored",
          "traceback": [
            "\u001b[0;31m---------------------------------------------------------------------------\u001b[0m",
            "\u001b[0;31mNameError\u001b[0m                                 Traceback (most recent call last)",
            "\u001b[0;32m<ipython-input-8-f7278b7c2ed1>\u001b[0m in \u001b[0;36m<module>\u001b[0;34m()\u001b[0m\n\u001b[0;32m----> 1\u001b[0;31m \u001b[0mmath\u001b[0m\u001b[0;34m.\u001b[0m\u001b[0mlog\u001b[0m\u001b[0;34m(\u001b[0m\u001b[0;36m0\u001b[0m\u001b[0;34m)\u001b[0m\u001b[0;34m\u001b[0m\u001b[0;34m\u001b[0m\u001b[0m\n\u001b[0m",
            "\u001b[0;31mNameError\u001b[0m: name 'math' is not defined"
          ]
        }
      ]
    },
    {
      "cell_type": "code",
      "metadata": {
        "colab": {
          "base_uri": "https://localhost:8080/",
          "height": 168
        },
        "id": "Fg3XbarbjTAY",
        "outputId": "6ce54818-7f9e-4a6d-d2e3-eb53496fb009"
      },
      "source": [
        "printt()"
      ],
      "execution_count": null,
      "outputs": [
        {
          "output_type": "error",
          "ename": "NameError",
          "evalue": "ignored",
          "traceback": [
            "\u001b[0;31m---------------------------------------------------------------------------\u001b[0m",
            "\u001b[0;31mNameError\u001b[0m                                 Traceback (most recent call last)",
            "\u001b[0;32m<ipython-input-10-170c3a814236>\u001b[0m in \u001b[0;36m<module>\u001b[0;34m()\u001b[0m\n\u001b[0;32m----> 1\u001b[0;31m \u001b[0mprintt\u001b[0m\u001b[0;34m(\u001b[0m\u001b[0;34m)\u001b[0m\u001b[0;34m\u001b[0m\u001b[0;34m\u001b[0m\u001b[0m\n\u001b[0m",
            "\u001b[0;31mNameError\u001b[0m: name 'printt' is not defined"
          ]
        }
      ]
    },
    {
      "cell_type": "code",
      "metadata": {
        "colab": {
          "base_uri": "https://localhost:8080/"
        },
        "id": "tZnagg9rjqS8",
        "outputId": "5f6ea8f2-3d3d-43c7-9e54-bacff79d5766"
      },
      "source": [
        "range(10)"
      ],
      "execution_count": null,
      "outputs": [
        {
          "output_type": "execute_result",
          "data": {
            "text/plain": [
              "range(0, 10)"
            ]
          },
          "metadata": {},
          "execution_count": 11
        }
      ]
    },
    {
      "cell_type": "code",
      "metadata": {
        "colab": {
          "base_uri": "https://localhost:8080/",
          "height": 186
        },
        "id": "ojLthpPnrMad",
        "outputId": "6f703692-0ff5-4db5-ba45-9d7c0c939e2b"
      },
      "source": [
        "import math\n",
        "math.log(0)"
      ],
      "execution_count": null,
      "outputs": [
        {
          "output_type": "error",
          "ename": "ValueError",
          "evalue": "ignored",
          "traceback": [
            "\u001b[0;31m---------------------------------------------------------------------------\u001b[0m",
            "\u001b[0;31mValueError\u001b[0m                                Traceback (most recent call last)",
            "\u001b[0;32m<ipython-input-12-81be2c8300ab>\u001b[0m in \u001b[0;36m<module>\u001b[0;34m()\u001b[0m\n\u001b[1;32m      1\u001b[0m \u001b[0;32mimport\u001b[0m \u001b[0mmath\u001b[0m\u001b[0;34m\u001b[0m\u001b[0;34m\u001b[0m\u001b[0m\n\u001b[0;32m----> 2\u001b[0;31m \u001b[0mmath\u001b[0m\u001b[0;34m.\u001b[0m\u001b[0mlog\u001b[0m\u001b[0;34m(\u001b[0m\u001b[0;36m0\u001b[0m\u001b[0;34m)\u001b[0m\u001b[0;34m\u001b[0m\u001b[0;34m\u001b[0m\u001b[0m\n\u001b[0m",
            "\u001b[0;31mValueError\u001b[0m: math domain error"
          ]
        }
      ]
    },
    {
      "cell_type": "code",
      "metadata": {
        "colab": {
          "base_uri": "https://localhost:8080/",
          "height": 168
        },
        "id": "2PQTAjogrUZQ",
        "outputId": "0c30d9ed-784f-4351-956f-ad37d107a84a"
      },
      "source": [
        "3 + \"2\""
      ],
      "execution_count": null,
      "outputs": [
        {
          "output_type": "error",
          "ename": "TypeError",
          "evalue": "ignored",
          "traceback": [
            "\u001b[0;31m---------------------------------------------------------------------------\u001b[0m",
            "\u001b[0;31mTypeError\u001b[0m                                 Traceback (most recent call last)",
            "\u001b[0;32m<ipython-input-13-6370597ae33d>\u001b[0m in \u001b[0;36m<module>\u001b[0;34m()\u001b[0m\n\u001b[0;32m----> 1\u001b[0;31m \u001b[0;36m3\u001b[0m \u001b[0;34m+\u001b[0m \u001b[0;34m\"2\"\u001b[0m\u001b[0;34m\u001b[0m\u001b[0;34m\u001b[0m\u001b[0m\n\u001b[0m",
            "\u001b[0;31mTypeError\u001b[0m: unsupported operand type(s) for +: 'int' and 'str'"
          ]
        }
      ]
    },
    {
      "cell_type": "code",
      "metadata": {
        "colab": {
          "base_uri": "https://localhost:8080/",
          "height": 168
        },
        "id": "uG-IWcROrvOn",
        "outputId": "aece0592-1de9-47f5-b9f9-3e1f9771af3d"
      },
      "source": [
        "print(2 + \"2\")"
      ],
      "execution_count": null,
      "outputs": [
        {
          "output_type": "error",
          "ename": "TypeError",
          "evalue": "ignored",
          "traceback": [
            "\u001b[0;31m---------------------------------------------------------------------------\u001b[0m",
            "\u001b[0;31mTypeError\u001b[0m                                 Traceback (most recent call last)",
            "\u001b[0;32m<ipython-input-14-96788054896b>\u001b[0m in \u001b[0;36m<module>\u001b[0;34m()\u001b[0m\n\u001b[0;32m----> 1\u001b[0;31m \u001b[0mprint\u001b[0m\u001b[0;34m(\u001b[0m\u001b[0;36m2\u001b[0m \u001b[0;34m+\u001b[0m \u001b[0;34m\"2\"\u001b[0m\u001b[0;34m)\u001b[0m\u001b[0;34m\u001b[0m\u001b[0;34m\u001b[0m\u001b[0m\n\u001b[0m",
            "\u001b[0;31mTypeError\u001b[0m: unsupported operand type(s) for +: 'int' and 'str'"
          ]
        }
      ]
    },
    {
      "cell_type": "code",
      "metadata": {
        "colab": {
          "base_uri": "https://localhost:8080/"
        },
        "id": "Mq5m6_ZJr0FV",
        "outputId": "577efc1e-d6eb-4980-b5b4-0a827674fc3a"
      },
      "source": [
        "while True:\n",
        "    no_one = int(input(\"The first number please : \"))\n",
        "    no_two = int(input(\"The second number please : \"))\n",
        "    division = no_one / no_two\n",
        "    print(\"The result of the division is : \", division)\n",
        "    break\n"
      ],
      "execution_count": null,
      "outputs": [
        {
          "output_type": "stream",
          "text": [
            "The first number please : 7\n",
            "The second number please : 2\n",
            "The result of the division is :  3.5\n"
          ],
          "name": "stdout"
        }
      ]
    },
    {
      "cell_type": "code",
      "metadata": {
        "colab": {
          "base_uri": "https://localhost:8080/"
        },
        "id": "ys61ZOeVw49i",
        "outputId": "dba382bb-c06f-4b32-b6d2-2a3dd2c72330"
      },
      "source": [
        "while True:\n",
        "    no_one = int(input(\"The first number please : \"))\n",
        "    no_two = int(input(\"The second number please : \"))\n",
        "\n",
        "    try :\n",
        "        division = no_one / no_two\n",
        "        print(\"The result of the division is : \", division)\n",
        "        break\n",
        "    except :\n",
        "        print(\"something is wrong.\")"
      ],
      "execution_count": null,
      "outputs": [
        {
          "output_type": "stream",
          "text": [
            "The first number please : 7\n",
            "The second number please : 0\n",
            "something is wrong.\n",
            "The first number please : 7\n",
            "The second number please : 3\n",
            "The result of the division is :  2.3333333333333335\n"
          ],
          "name": "stdout"
        }
      ]
    },
    {
      "cell_type": "code",
      "metadata": {
        "colab": {
          "base_uri": "https://localhost:8080/"
        },
        "id": "-e6w99x7yQ63",
        "outputId": "2b3249b4-6d26-45f8-d761-db9047d7f5c7"
      },
      "source": [
        "try :\n",
        "  print(4 + \"4\")\n",
        "except :\n",
        "  print(\"muhtemelen yanlış birşeyler yaptın.\")"
      ],
      "execution_count": null,
      "outputs": [
        {
          "output_type": "stream",
          "text": [
            "muhtemelen yanlış birşeyler yaptın.\n"
          ],
          "name": "stdout"
        }
      ]
    },
    {
      "cell_type": "code",
      "metadata": {
        "colab": {
          "base_uri": "https://localhost:8080/"
        },
        "id": "3HDjlWJwy36p",
        "outputId": "e0a29ddd-8529-42dc-9b76-779ef715a168"
      },
      "source": [
        "try :\n",
        "  print(\"4\" + \"4\")\n",
        "except :\n",
        "  print(\"muhtemelen yanlış birşeyler yaptın yine seni gidi.\")"
      ],
      "execution_count": null,
      "outputs": [
        {
          "output_type": "stream",
          "text": [
            "44\n"
          ],
          "name": "stdout"
        }
      ]
    },
    {
      "cell_type": "code",
      "metadata": {
        "colab": {
          "base_uri": "https://localhost:8080/"
        },
        "id": "4WSl46pU2r_1",
        "outputId": "5fb26f8f-5cfc-455c-b4d1-31a2dbddbc74"
      },
      "source": [
        "while True:\n",
        "    no_one = int(input(\"The first number please : \"))\n",
        "    no_two = int(input(\"The second number please : \"))\n",
        "\n",
        "    try :\n",
        "        division = no_one / no_two\n",
        "        print(\"The result of the division is : \", division)\n",
        "        break\n",
        "    except ZeroDivisionError :\n",
        "        print(\"something is wrong.\")"
      ],
      "execution_count": null,
      "outputs": [
        {
          "output_type": "stream",
          "text": [
            "The first number please : 7\n",
            "The second number please : 0\n",
            "something is wrong.\n",
            "The first number please : 7\n",
            "The second number please : 7\n",
            "The result of the division is :  1.0\n"
          ],
          "name": "stdout"
        }
      ]
    },
    {
      "cell_type": "code",
      "metadata": {
        "colab": {
          "base_uri": "https://localhost:8080/"
        },
        "id": "Z4JIFSXm468S",
        "outputId": "c730d2e1-1a31-456f-d035-82defacf1737"
      },
      "source": [
        "while True:\n",
        "    no_one = int(input(\"The first number please : \"))\n",
        "    no_two = int(input(\"The second number please : \"))\n",
        "\n",
        "    try :\n",
        "        division = no_one / no_two\n",
        "        print(\"The result of the division is : \", division)\n",
        "        break\n",
        "    except ZeroDivisionError :\n",
        "        print(\"sıfıra bölünme hatası var. ikinci sayıyı sıfır girmeyiniz.\")"
      ],
      "execution_count": null,
      "outputs": [
        {
          "output_type": "stream",
          "text": [
            "The first number please : 7\n",
            "The second number please : 0\n",
            "sıfıra bölünme hatası var. ikinci sayıyı sıfır girmeyiniz.\n",
            "The first number please : 7\n",
            "The second number please : 5\n",
            "The result of the division is :  1.4\n"
          ],
          "name": "stdout"
        }
      ]
    },
    {
      "cell_type": "code",
      "metadata": {
        "id": "dGEfVq-b5M9R",
        "colab": {
          "base_uri": "https://localhost:8080/"
        },
        "outputId": "ab6add85-e53d-4b0c-89dd-2a9b5167982f"
      },
      "source": [
        "try : \n",
        "  file = open(\"my_file.txt\", \"r\")\n",
        "  rint(file.read())\n",
        "  file.close()\n",
        "except :\n",
        "  print(\"there is not such a file or the path is incorrect.\")"
      ],
      "execution_count": null,
      "outputs": [
        {
          "output_type": "stream",
          "text": [
            "there is not such a file or the path is incorrect.\n"
          ],
          "name": "stdout"
        }
      ]
    },
    {
      "cell_type": "code",
      "metadata": {
        "colab": {
          "base_uri": "https://localhost:8080/"
        },
        "id": "wqrqDVjt5_GH",
        "outputId": "b442bf5a-4206-4351-b8fa-98793fb91ca0"
      },
      "source": [
        " try : \n",
        "  file = open(\"my_file.txt\", \"r\")\n",
        "  rint(file.read())\n",
        "  file.close()\n",
        "except  FileNotFoundError :\n",
        "  print(\"there is not such a file or the path is incorrect.\")\n",
        " "
      ],
      "execution_count": null,
      "outputs": [
        {
          "output_type": "stream",
          "text": [
            "there is not such a file or the path is incorrect.\n"
          ],
          "name": "stdout"
        }
      ]
    },
    {
      "cell_type": "code",
      "metadata": {
        "colab": {
          "base_uri": "https://localhost:8080/"
        },
        "id": "VBHAcTYD6ckj",
        "outputId": "ba9ef8a2-e207-4f6c-e48d-013eb87d2577"
      },
      "source": [
        "try :\n",
        "  sonuç = \"4\" + \"4\"\n",
        "  print(\"hahaha\")\n",
        "except TypeError:\n",
        "  print(\"type hatası var. tipi kontrol etsen iyi olur.\")\n",
        "else : \n",
        "  print(\"aaa demek ki hata yükselmemiş.süper.sonuç: \", sonuç)\n",
        "finally : \n",
        "  print(\"nihayet bana sıra geldi. önünde sonunda çalışırım arkadaş.\")"
      ],
      "execution_count": null,
      "outputs": [
        {
          "output_type": "stream",
          "text": [
            "hahaha\n",
            "aaa demek ki hata yükselmemiş.süper.sonuç:  44\n",
            "nihayet bana sıra geldi. önünde sonunda çalışırım arkadaş.\n"
          ],
          "name": "stdout"
        }
      ]
    },
    {
      "cell_type": "code",
      "metadata": {
        "colab": {
          "base_uri": "https://localhost:8080/"
        },
        "id": "13gBSx918sWE",
        "outputId": "9dbb42ee-ec82-4f41-b3f6-8119d5fb1cb9"
      },
      "source": [
        "try :\n",
        "  print(\"vira bismillah\")\n",
        "  sonuç = \"4\" + 4\n",
        "  print(\"hahaha\")\n",
        "except TypeError:\n",
        "  print(\"type hatası var. tipi kontrol etsen iyi olur.\")\n",
        "else : \n",
        "  print(\"aaa demek ki hata yükselmemiş.süper.sonuç: \", sonuç)\n",
        "finally : \n",
        "  print(\"nihayet bana sıra geldi. önünde sonunda çalışırım arkadaş.\")"
      ],
      "execution_count": null,
      "outputs": [
        {
          "output_type": "stream",
          "text": [
            "vira bismillah\n",
            "type hatası var. tipi kontrol etsen iyi olur.\n",
            "nihayet bana sıra geldi. önünde sonunda çalışırım arkadaş.\n"
          ],
          "name": "stdout"
        }
      ]
    },
    {
      "cell_type": "code",
      "metadata": {
        "colab": {
          "base_uri": "https://localhost:8080/",
          "height": 271
        },
        "id": "wzd6YTma8sSW",
        "outputId": "15df6ccd-686b-4a8f-a6c6-b397afca4b9d"
      },
      "source": [
        "try :\n",
        "  print(\"vira bismillah\")\n",
        "  sonuç = \"4\" + 4\n",
        "  print(\"hahaha\")\n",
        "except ValueError:\n",
        "  print(\"type hatası var. tipi kontrol etsen iyi olur.\")\n",
        "else : \n",
        "  print(\"aaa demek ki hata yükselmemiş.süper.sonuç: \", sonuç)\n",
        "finally : \n",
        "  print(\"nihayet bana sıra geldi. önünde sonunda çalışırım arkadaş.\")"
      ],
      "execution_count": null,
      "outputs": [
        {
          "output_type": "stream",
          "text": [
            "vira bismillah\n",
            "nihayet bana sıra geldi. önünde sonunda çalışırım arkadaş.\n"
          ],
          "name": "stdout"
        },
        {
          "output_type": "error",
          "ename": "TypeError",
          "evalue": "ignored",
          "traceback": [
            "\u001b[0;31m---------------------------------------------------------------------------\u001b[0m",
            "\u001b[0;31mTypeError\u001b[0m                                 Traceback (most recent call last)",
            "\u001b[0;32m<ipython-input-35-a272d53dc8b8>\u001b[0m in \u001b[0;36m<module>\u001b[0;34m()\u001b[0m\n\u001b[1;32m      1\u001b[0m \u001b[0;32mtry\u001b[0m \u001b[0;34m:\u001b[0m\u001b[0;34m\u001b[0m\u001b[0;34m\u001b[0m\u001b[0m\n\u001b[1;32m      2\u001b[0m   \u001b[0mprint\u001b[0m\u001b[0;34m(\u001b[0m\u001b[0;34m\"vira bismillah\"\u001b[0m\u001b[0;34m)\u001b[0m\u001b[0;34m\u001b[0m\u001b[0;34m\u001b[0m\u001b[0m\n\u001b[0;32m----> 3\u001b[0;31m   \u001b[0msonuç\u001b[0m \u001b[0;34m=\u001b[0m \u001b[0;34m\"4\"\u001b[0m \u001b[0;34m+\u001b[0m \u001b[0;36m4\u001b[0m\u001b[0;34m\u001b[0m\u001b[0;34m\u001b[0m\u001b[0m\n\u001b[0m\u001b[1;32m      4\u001b[0m   \u001b[0mprint\u001b[0m\u001b[0;34m(\u001b[0m\u001b[0;34m\"hahaha\"\u001b[0m\u001b[0;34m)\u001b[0m\u001b[0;34m\u001b[0m\u001b[0;34m\u001b[0m\u001b[0m\n\u001b[1;32m      5\u001b[0m \u001b[0;32mexcept\u001b[0m \u001b[0mValueError\u001b[0m\u001b[0;34m:\u001b[0m\u001b[0;34m\u001b[0m\u001b[0;34m\u001b[0m\u001b[0m\n",
            "\u001b[0;31mTypeError\u001b[0m: can only concatenate str (not \"int\") to str"
          ]
        }
      ]
    },
    {
      "cell_type": "code",
      "metadata": {
        "colab": {
          "base_uri": "https://localhost:8080/"
        },
        "id": "z0Da1dd-8sPF",
        "outputId": "e7a0fee8-4d38-4a3e-afc4-ec04c7eeae22"
      },
      "source": [
        "try :\n",
        "  print(\"vira bismillah\")\n",
        "  sonuç = \"4\" + 4\n",
        "  print(\"hahaha\")\n",
        "except :\n",
        "  print(\"type hatası var. tipi kontrol etsen iyi olur.\")\n",
        "else : \n",
        "  print(\"aaa demek ki hata yükselmemiş.süper.sonuç: \", sonuç)\n",
        "finally : \n",
        "  print(\"nihayet bana sıra geldi. önünde sonunda çalışırım arkadaş.\")"
      ],
      "execution_count": null,
      "outputs": [
        {
          "output_type": "stream",
          "text": [
            "vira bismillah\n",
            "type hatası var. tipi kontrol etsen iyi olur.\n",
            "nihayet bana sıra geldi. önünde sonunda çalışırım arkadaş.\n"
          ],
          "name": "stdout"
        }
      ]
    },
    {
      "cell_type": "code",
      "metadata": {
        "id": "QqO-qopu8sGW"
      },
      "source": [
        "try :\n",
        "  print(\"vira bismillah\")\n",
        "  sonuç = \"4\" + 4\n",
        "  print(\"hahaha\")\n",
        "except ValueError:\n",
        "  print(\"value errora gore işlem yap.\")\n",
        "except TypeError :\n",
        "  PRİNT(\"TYPE ERROR E GÖRE HAREKET ET\")\n",
        "else : \n",
        "  print(\"aaa demek ki hata yükselmemiş.süper.sonuç: \", sonuç)\n",
        "finally : \n",
        "  print(\"nihayet bana sıra geldi. önünde sonunda çalışırım arkadaş.\")"
      ],
      "execution_count": null,
      "outputs": []
    }
  ]
}