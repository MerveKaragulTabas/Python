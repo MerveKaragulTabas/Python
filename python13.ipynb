{
  "nbformat": 4,
  "nbformat_minor": 0,
  "metadata": {
    "colab": {
      "name": "python13",
      "provenance": [],
      "collapsed_sections": [],
      "authorship_tag": "ABX9TyPsp7SXnNGNdP5t/Y9+g0i0",
      "include_colab_link": true
    },
    "kernelspec": {
      "name": "python3",
      "display_name": "Python 3"
    },
    "language_info": {
      "name": "python"
    }
  },
  "cells": [
    {
      "cell_type": "markdown",
      "metadata": {
        "id": "view-in-github",
        "colab_type": "text"
      },
      "source": [
        "<a href=\"https://colab.research.google.com/github/MerveKaragulTabas/Python/blob/main/python13.ipynb\" target=\"_parent\"><img src=\"https://colab.research.google.com/assets/colab-badge.svg\" alt=\"Open In Colab\"/></a>"
      ]
    },
    {
      "cell_type": "code",
      "metadata": {
        "colab": {
          "base_uri": "https://localhost:8080/"
        },
        "id": "gGJwg-jqwJ7P",
        "outputId": "9515e85e-d899-44ea-d6a8-979f859b88a6"
      },
      "source": [
        "generate = (i**2 for i in range(6))\n",
        "generate"
      ],
      "execution_count": null,
      "outputs": [
        {
          "output_type": "execute_result",
          "data": {
            "text/plain": [
              "<generator object <genexpr> at 0x7fcd61f71950>"
            ]
          },
          "metadata": {
            "tags": []
          },
          "execution_count": 2
        }
      ]
    },
    {
      "cell_type": "code",
      "metadata": {
        "colab": {
          "base_uri": "https://localhost:8080/"
        },
        "id": "I9ENaf791XdB",
        "outputId": "6f9eec40-42ba-4bb9-eb47-ae0c6ae52367"
      },
      "source": [
        "print(* generate) # generate nın içini boşalttıgımız için hıc bır dongudekendını gostermez."
      ],
      "execution_count": null,
      "outputs": [
        {
          "output_type": "stream",
          "text": [
            "0 1 4 9 16 25\n"
          ],
          "name": "stdout"
        }
      ]
    },
    {
      "cell_type": "code",
      "metadata": {
        "id": "4IMJKoMK1Xf1"
      },
      "source": [
        "for i in generate :\n",
        "  print(i)\n",
        "  "
      ],
      "execution_count": null,
      "outputs": []
    },
    {
      "cell_type": "code",
      "metadata": {
        "colab": {
          "base_uri": "https://localhost:8080/"
        },
        "id": "nE7S8NoF1XlR",
        "outputId": "e5755993-6cb8-4fc9-9ded-7606a88538ac"
      },
      "source": [
        "list(generate)"
      ],
      "execution_count": null,
      "outputs": [
        {
          "output_type": "execute_result",
          "data": {
            "text/plain": [
              "[]"
            ]
          },
          "metadata": {
            "tags": []
          },
          "execution_count": 5
        }
      ]
    },
    {
      "cell_type": "code",
      "metadata": {
        "colab": {
          "base_uri": "https://localhost:8080/"
        },
        "id": "mj7YNBHh1XoS",
        "outputId": "b54e33a0-33a2-450b-ad63-3f146de05681"
      },
      "source": [
        "generate = (i**2 for i in range(6))\n",
        "print(next(generate))"
      ],
      "execution_count": null,
      "outputs": [
        {
          "output_type": "stream",
          "text": [
            "0\n"
          ],
          "name": "stdout"
        }
      ]
    },
    {
      "cell_type": "code",
      "metadata": {
        "colab": {
          "base_uri": "https://localhost:8080/"
        },
        "id": "KaBV7S4B1XrD",
        "outputId": "6753621f-63c9-4cb0-85b7-b1ed3fa5eda9"
      },
      "source": [
        "print(next(generate))"
      ],
      "execution_count": null,
      "outputs": [
        {
          "output_type": "stream",
          "text": [
            "1\n"
          ],
          "name": "stdout"
        }
      ]
    },
    {
      "cell_type": "code",
      "metadata": {
        "colab": {
          "base_uri": "https://localhost:8080/"
        },
        "id": "WIJ_sWVO1XuZ",
        "outputId": "4ea2d8ef-f332-4da9-c074-78eaed842813"
      },
      "source": [
        "print(next(generate))"
      ],
      "execution_count": null,
      "outputs": [
        {
          "output_type": "stream",
          "text": [
            "4\n"
          ],
          "name": "stdout"
        }
      ]
    },
    {
      "cell_type": "code",
      "metadata": {
        "colab": {
          "base_uri": "https://localhost:8080/"
        },
        "id": "Vewv1PHN1Xxk",
        "outputId": "a5578307-ed6e-4e40-aa09-81d2062ad733"
      },
      "source": [
        "print(next(generate))"
      ],
      "execution_count": null,
      "outputs": [
        {
          "output_type": "stream",
          "text": [
            "9\n"
          ],
          "name": "stdout"
        }
      ]
    },
    {
      "cell_type": "code",
      "metadata": {
        "colab": {
          "base_uri": "https://localhost:8080/"
        },
        "id": "F4zvlKfg1X0N",
        "outputId": "3e942aa0-f71b-4b79-8d2a-ccccf7f73ef1"
      },
      "source": [
        "print(next(generate))"
      ],
      "execution_count": null,
      "outputs": [
        {
          "output_type": "stream",
          "text": [
            "16\n"
          ],
          "name": "stdout"
        }
      ]
    },
    {
      "cell_type": "code",
      "metadata": {
        "colab": {
          "base_uri": "https://localhost:8080/"
        },
        "id": "pfTiBst21WSz",
        "outputId": "3c0b85a6-65cf-4382-b2d0-4f209a3bb4aa"
      },
      "source": [
        "print(next(generate))"
      ],
      "execution_count": null,
      "outputs": [
        {
          "output_type": "stream",
          "text": [
            "25\n"
          ],
          "name": "stdout"
        }
      ]
    },
    {
      "cell_type": "code",
      "metadata": {
        "colab": {
          "base_uri": "https://localhost:8080/",
          "height": 167
        },
        "id": "wgh79c7O1WZw",
        "outputId": "afb792a4-7958-4a10-c738-6705da83346c"
      },
      "source": [
        "print(next(generate))"
      ],
      "execution_count": null,
      "outputs": [
        {
          "output_type": "error",
          "ename": "StopIteration",
          "evalue": "ignored",
          "traceback": [
            "\u001b[0;31m---------------------------------------------------------------------------\u001b[0m",
            "\u001b[0;31mStopIteration\u001b[0m                             Traceback (most recent call last)",
            "\u001b[0;32m<ipython-input-14-e0b94480744e>\u001b[0m in \u001b[0;36m<module>\u001b[0;34m()\u001b[0m\n\u001b[0;32m----> 1\u001b[0;31m \u001b[0mprint\u001b[0m\u001b[0;34m(\u001b[0m\u001b[0mnext\u001b[0m\u001b[0;34m(\u001b[0m\u001b[0mgenerate\u001b[0m\u001b[0;34m)\u001b[0m\u001b[0;34m)\u001b[0m\u001b[0;34m\u001b[0m\u001b[0;34m\u001b[0m\u001b[0m\n\u001b[0m",
            "\u001b[0;31mStopIteration\u001b[0m: "
          ]
        }
      ]
    },
    {
      "cell_type": "code",
      "metadata": {
        "id": "jsrlwQZDDlKm"
      },
      "source": [
        "## AMSTRONG NUMBER"
      ],
      "execution_count": null,
      "outputs": []
    },
    {
      "cell_type": "code",
      "metadata": {
        "colab": {
          "base_uri": "https://localhost:8080/"
        },
        "id": "jrm75Obq1Wc5",
        "outputId": "db7bfdc0-d484-41f4-e55e-e862a4549dad"
      },
      "source": [
        "while True :\n",
        "  number = input(\"enter a positive integer number : \")\n",
        "  digits = len(number)\n",
        "  sum = 0\n",
        "  if not number.isdigit() :\n",
        "    print(number, \"is invalid entry. enter valid input.!\")\n",
        "  elif int(number) >= 0 :\n",
        "    for i in range(digits) : \n",
        "        sum = sum + int(number[i])**digits\n",
        "\n",
        "\n",
        "    if sum == int(number) : \n",
        "      print(number, \"is an amstrong number.\")\n",
        "      break\n",
        "    else :\n",
        "      print(number, \"is not an amstrong number. sorry.\")\n",
        "      break"
      ],
      "execution_count": null,
      "outputs": [
        {
          "output_type": "stream",
          "text": [
            "enter a positive integer number : -123\n",
            "-123 is invalid entry. enter valid input.!\n",
            "enter a positive integer number : 12,3\n",
            "12,3 is invalid entry. enter valid input.!\n",
            "enter a positive integer number : 121\n",
            "121 is not an amstrong number. sorry.\n"
          ],
          "name": "stdout"
        }
      ]
    },
    {
      "cell_type": "code",
      "metadata": {
        "colab": {
          "base_uri": "https://localhost:8080/"
        },
        "id": "Ouphs0uR1WgP",
        "outputId": "e86797be-4051-4b6b-b0ba-66a987bea267"
      },
      "source": [
        "while True :\n",
        "  number = input(\"enter a positive integer number : \")\n",
        "  digits = len(number)\n",
        "  sum = 0\n",
        "  if not number.isdigit() :\n",
        "    print(number, \"is invalid entry. enter valid input.!\")\n",
        "  elif int(number) >= 0 :\n",
        "    for i in range(digits) : \n",
        "        sum = sum + int(number[i])**digits\n",
        "\n",
        "\n",
        "    if sum == int(number) : \n",
        "      print(number, \"is an amstrong number.\")\n",
        "      break\n",
        "    else :\n",
        "      print(number, \"is not an amstrong number. sorry.\")\n",
        "      break\n",
        "    "
      ],
      "execution_count": null,
      "outputs": [
        {
          "output_type": "stream",
          "text": [
            "enter a positive integer number : 1733350999778224930872510396272\n",
            "1733350999778224930872510396272 is not an amstrong number. sorry.\n"
          ],
          "name": "stdout"
        }
      ]
    },
    {
      "cell_type": "code",
      "metadata": {
        "colab": {
          "base_uri": "https://localhost:8080/"
        },
        "id": "AU_AX6CyG63A",
        "outputId": "8d30cee1-b608-4023-bc17-b2b42ce797c7"
      },
      "source": [
        "a = input(\"Please enter a positive integer number:\")\n",
        "b = 0\n",
        "if a.isnumeric():\n",
        "    for i in a :\n",
        "        b += int(i) ** len(a)\n",
        "    print(b)\n",
        "    if b == int(a) :\n",
        "        print(f\"{a} is an Armstrong number\") \n",
        "    else:\n",
        "        print(f\"{a} is not an Armstrong number\")\n",
        "else:\n",
        "    print(\" It is an invalid entry. Don't use non-numeric, float, or negative values!\")"
      ],
      "execution_count": null,
      "outputs": [
        {
          "output_type": "stream",
          "text": [
            "Please enter a positive integer number:123\n",
            "36\n",
            "123 is not an Armstrong number\n"
          ],
          "name": "stdout"
        }
      ]
    },
    {
      "cell_type": "code",
      "metadata": {
        "colab": {
          "base_uri": "https://localhost:8080/"
        },
        "id": "O8Ae9ynPG6zk",
        "outputId": "0b4d64de-596e-4485-e779-70e6536e96f6"
      },
      "source": [
        "num = input(\"Enter a number: \")\n",
        "list_num = list(num)\n",
        "n = len(list_num)\n",
        "if num.isdigit():\n",
        "  total = 0\n",
        "  for i in list_num:\n",
        "    total += int(i) ** n\n",
        "  if total == int(num):\n",
        "    print(f\"{num} is an Armstrong number.\")\n",
        "  else:\n",
        "    print(f\"{num} is not an Armstrong number.\")\n",
        "else:\n",
        "  print(\"It is an invalid entry. Don't use non-numeric, float, or negative values!\")"
      ],
      "execution_count": null,
      "outputs": [
        {
          "output_type": "stream",
          "text": [
            "Enter a number: 126\n",
            "126 is not an Armstrong number.\n"
          ],
          "name": "stdout"
        }
      ]
    },
    {
      "cell_type": "code",
      "metadata": {
        "id": "Cjbt6JIq1WjC"
      },
      "source": [
        "## İS İT A PRİME NUMBER"
      ],
      "execution_count": null,
      "outputs": []
    },
    {
      "cell_type": "code",
      "metadata": {
        "colab": {
          "base_uri": "https://localhost:8080/"
        },
        "id": "7emdGIAM1Wmr",
        "outputId": "066c78b5-7fa2-4b27-87f4-e105462e01bb"
      },
      "source": [
        "n = int(input(\"enter a positive number to check if it is a prime number : \"))\n",
        "count = 0\n",
        "\n",
        "for i in range(1, n+1) :\n",
        "    if n % i == 0 :\n",
        "        count += 1\n",
        "if (n == 0) or (n == 1) or (count >= 3) :\n",
        "   print(n, \"is not a prime number.\")\n",
        "else :\n",
        "   print(n, \"is a prime number.\")"
      ],
      "execution_count": null,
      "outputs": [
        {
          "output_type": "stream",
          "text": [
            "enter a positive number to check if it is a prime number : 13\n",
            "13 is a prime number.\n"
          ],
          "name": "stdout"
        }
      ]
    },
    {
      "cell_type": "code",
      "metadata": {
        "colab": {
          "base_uri": "https://localhost:8080/"
        },
        "id": "W-9SgInCFxbJ",
        "outputId": "bb1b0432-1270-4d00-e6f3-8e3056762c07"
      },
      "source": [
        "pn_list = []\n",
        "for i in range(2, 100):\n",
        "  for ii in range(2, i):\n",
        "    if (i % ii) == 0:\n",
        "      break;\n",
        "  else:\n",
        "    pn_list.append(i)\n",
        "print(pn_list)"
      ],
      "execution_count": null,
      "outputs": [
        {
          "output_type": "stream",
          "text": [
            "[2, 3, 5, 7, 11, 13, 17, 19, 23, 29, 31, 37, 41, 43, 47, 53, 59, 61, 67, 71, 73, 79, 83, 89, 97]\n"
          ],
          "name": "stdout"
        }
      ]
    },
    {
      "cell_type": "code",
      "metadata": {
        "colab": {
          "base_uri": "https://localhost:8080/"
        },
        "id": "SmWaMtC4F_cH",
        "outputId": "004772dc-bb2a-48b8-f2bf-0e4e4d65468f"
      },
      "source": [
        "sayi = int(input(\"Lütfen bir tam sayı giriniz: \"))\n",
        "if sayi > 1:\n",
        "  for i in range(2, sayi//2):\n",
        "    if sayi % i ==0:\n",
        "      print (sayi, \"is not a prime number.\")\n",
        "      break\n",
        "  else:\n",
        "    print(sayi, \"is a prime number.\")\n",
        "else:\n",
        "  print (sayi, \"is not a prime number.\")"
      ],
      "execution_count": null,
      "outputs": [
        {
          "output_type": "stream",
          "text": [
            "Lütfen bir tam sayı giriniz: 5\n",
            "5 is a prime number.\n"
          ],
          "name": "stdout"
        }
      ]
    },
    {
      "cell_type": "code",
      "metadata": {
        "colab": {
          "base_uri": "https://localhost:8080/"
        },
        "id": "gFW5ZcswGEee",
        "outputId": "49f2629b-ec9f-410e-fb05-5f2de2168016"
      },
      "source": [
        "num = int(input(\"Enter a number : \"))\n",
        "i = 2\n",
        "while i < num:\n",
        "    if num % i != 0:\n",
        "        i += 1\n",
        "    else:\n",
        "        break\n",
        "if i == num:\n",
        "    print(num, \" is a prime number\")\n",
        "else:\n",
        "    print(num, \" is not a prime number\") "
      ],
      "execution_count": null,
      "outputs": [
        {
          "output_type": "stream",
          "text": [
            "Enter a number : 13\n",
            "13  is a prime number\n"
          ],
          "name": "stdout"
        }
      ]
    },
    {
      "cell_type": "code",
      "metadata": {
        "colab": {
          "base_uri": "https://localhost:8080/"
        },
        "id": "oVt8Xd8kGKEQ",
        "outputId": "d26370d0-58cb-4dd7-93b9-2e9ec068dfb8"
      },
      "source": [
        "sayi=int(input(\"Sayıyı Girin : \"))\n",
        "if sayi > 1:\n",
        "   for i in range(2,sayi):\n",
        "       if (sayi % i) == 0:\n",
        "           print(sayi,\" Asal Sayı Değildir.\")\n",
        "           break\n",
        "   else:\n",
        "       print(sayi,\" Asal Sayıdır.\")\n",
        "else:\n",
        "   print(sayi,\" Asal Sayı Değildir.\")"
      ],
      "execution_count": null,
      "outputs": [
        {
          "output_type": "stream",
          "text": [
            "Sayıyı Girin : 15\n",
            "15  Asal Sayı Değildir.\n"
          ],
          "name": "stdout"
        }
      ]
    },
    {
      "cell_type": "code",
      "metadata": {
        "colab": {
          "base_uri": "https://localhost:8080/",
          "height": 132
        },
        "id": "YkfxxiqvGkZm",
        "outputId": "95e8e320-0284-4bdc-9146-437856e5ead6"
      },
      "source": [
        "def mevlana() :\n",
        "print(\"Şefkat ve merhamette güneş ol.Başkalarının kusurunu örtmede gece gibi ol.Hiddet ve asabivette ölü gibi ol.\")\n",
        "mevlana()"
      ],
      "execution_count": null,
      "outputs": [
        {
          "output_type": "error",
          "ename": "IndentationError",
          "evalue": "ignored",
          "traceback": [
            "\u001b[0;36m  File \u001b[0;32m\"<ipython-input-38-6d114b0c26cb>\"\u001b[0;36m, line \u001b[0;32m2\u001b[0m\n\u001b[0;31m    print(\"Şefkat ve merhamette güneş ol.Başkalarının kusurunu örtmede gece gibi ol.Hiddet ve asabivette ölü gibi ol.\")\u001b[0m\n\u001b[0m        ^\u001b[0m\n\u001b[0;31mIndentationError\u001b[0m\u001b[0;31m:\u001b[0m expected an indented block\n"
          ]
        }
      ]
    },
    {
      "cell_type": "code",
      "metadata": {
        "colab": {
          "base_uri": "https://localhost:8080/"
        },
        "id": "-HYtI3e9MBoC",
        "outputId": "014406f3-3c9b-4d6c-ce39-b3e81cd1e797"
      },
      "source": [
        "def add(a,b):\n",
        "    print(a+b)\n",
        "add(-3,5)"
      ],
      "execution_count": null,
      "outputs": [
        {
          "output_type": "stream",
          "text": [
            "2\n"
          ],
          "name": "stdout"
        }
      ]
    },
    {
      "cell_type": "code",
      "metadata": {
        "id": "zfX_-jsqTXyz"
      },
      "source": [
        "def calculator(a, b, c):\n",
        "    if c == \"+\":\n",
        "        return a + b\n",
        "    elif c == \"-\":\n",
        "        return a - b\n",
        "    elif c == \"/\":\n",
        "        return a / b\n",
        "    elif c == \"*\":\n",
        "        return a * b\n",
        "    else:\n",
        "        print(\"Enter valid argument\")"
      ],
      "execution_count": null,
      "outputs": []
    },
    {
      "cell_type": "code",
      "metadata": {
        "colab": {
          "base_uri": "https://localhost:8080/"
        },
        "id": "zSOl__TeTvGj",
        "outputId": "7109c5f5-0305-4374-b80a-1c0a13cf6a1e"
      },
      "source": [
        "def calculator(x, y, opr) :\n",
        "  if opr == \"+\" :\n",
        "    print(x + y)\n",
        "  elif opr == \"-\" :\n",
        "    print(x - y)\n",
        "  elif opr == \"*\" :\n",
        "    print(x * y)\n",
        "  elif opr == \"/\" :\n",
        "    print(x / y)\n",
        "  else :\n",
        "    print(\"enter a valid opr. \")\n",
        "calculator(2, 5, \"*\")"
      ],
      "execution_count": null,
      "outputs": [
        {
          "output_type": "stream",
          "text": [
            "10\n"
          ],
          "name": "stdout"
        }
      ]
    },
    {
      "cell_type": "code",
      "metadata": {
        "colab": {
          "base_uri": "https://localhost:8080/"
        },
        "id": "58NYjcUyT9bw",
        "outputId": "a82d4e3e-ba03-421f-b7a5-35037f145461"
      },
      "source": [
        "def calculator(a, b, x):\n",
        "    if x == \"+\":\n",
        "        return a + b\n",
        "    elif x == \"-\":\n",
        "        return a - b\n",
        "    elif x == \"/\":\n",
        "        return a / b\n",
        "    elif x == \"*\":\n",
        "        return a * b\n",
        "calculator(2,2,\"*\")"
      ],
      "execution_count": null,
      "outputs": [
        {
          "output_type": "execute_result",
          "data": {
            "text/plain": [
              "4"
            ]
          },
          "metadata": {
            "tags": []
          },
          "execution_count": 47
        }
      ]
    },
    {
      "cell_type": "code",
      "metadata": {
        "colab": {
          "base_uri": "https://localhost:8080/"
        },
        "id": "lIzule7eUDKY",
        "outputId": "74c516d2-a6ed-47f5-f628-88fa507a01f9"
      },
      "source": [
        "def calculator2(x, y, opr) :\n",
        "  if opr == \"+\" :\n",
        "    return (x + y)\n",
        "  elif opr == \"-\" :\n",
        "    return (x - y)\n",
        "  elif opr == \"*\" :\n",
        "    return (x * y)\n",
        "  elif opr == \"/\" :\n",
        "    return (x / y)\n",
        "  else :\n",
        "    return \"enter a valid opr. \" \n",
        "calculator2(2, 5, \"*\")"
      ],
      "execution_count": null,
      "outputs": [
        {
          "output_type": "execute_result",
          "data": {
            "text/plain": [
              "10"
            ]
          },
          "metadata": {
            "tags": []
          },
          "execution_count": 52
        }
      ]
    },
    {
      "cell_type": "code",
      "metadata": {
        "id": "oNZL5lOkWVKm"
      },
      "source": [
        "def absolute_value(num) :\n",
        "  \"\"\"this function gives absolute value\n",
        "  of the entered number.\"\"\"\n",
        "  if num >= 0 :\n",
        "    return num\n",
        "  else :\n",
        "    return -num"
      ],
      "execution_count": null,
      "outputs": []
    },
    {
      "cell_type": "code",
      "metadata": {
        "colab": {
          "base_uri": "https://localhost:8080/"
        },
        "id": "7McNwjvbXkwH",
        "outputId": "43fb86d0-a5b0-4e03-c9a4-115be9f91f3b"
      },
      "source": [
        "print(absolute_value(-22))"
      ],
      "execution_count": null,
      "outputs": [
        {
          "output_type": "stream",
          "text": [
            "22\n"
          ],
          "name": "stdout"
        }
      ]
    },
    {
      "cell_type": "code",
      "metadata": {
        "colab": {
          "base_uri": "https://localhost:8080/"
        },
        "id": "DUOt5ZVAXowp",
        "outputId": "0db18c4f-3ad8-4d9d-c73f-c1bc74cea38d"
      },
      "source": [
        "print(absolute_value.__doc__)"
      ],
      "execution_count": null,
      "outputs": [
        {
          "output_type": "stream",
          "text": [
            "this function gives absolute value\n",
            "  of the entered number.\n"
          ],
          "name": "stdout"
        }
      ]
    },
    {
      "cell_type": "code",
      "metadata": {
        "id": "JrP_5c4iYC5d",
        "colab": {
          "base_uri": "https://localhost:8080/"
        },
        "outputId": "c8bc628e-2266-4bad-b091-fa3755034089"
      },
      "source": [
        "iterable = [1, 2, 3, 4, 5]\n",
        "map(lambda x:x**2, iterable)\n",
        "result = map(lambda x:x**2, iterable)\n",
        "print(type(result))  # it's a map type\n",
        "\n",
        "print(list(result))  # we've converted it to list type to print\n",
        "\n",
        "print(list(map(lambda x:x**2, iterable)))  # you can print directly"
      ],
      "execution_count": null,
      "outputs": [
        {
          "output_type": "stream",
          "text": [
            "<class 'map'>\n",
            "[1, 4, 9, 16, 25]\n",
            "[1, 4, 9, 16, 25]\n"
          ],
          "name": "stdout"
        }
      ]
    },
    {
      "cell_type": "code",
      "metadata": {
        "colab": {
          "base_uri": "https://localhost:8080/"
        },
        "id": "D_67UWj2sQEv",
        "outputId": "d4d3faf0-a469-4e65-d8db-aced344cc467"
      },
      "source": [
        "letter1 = ['o', 's', 't', 't']\n",
        "letter2 = ['n', 'i', 'e', 'w']\n",
        "letter3 = ['e', 'x', 'n', 'o']\n",
        "numbers = map(lambda x, y, z: x+y+z, letter1, letter2, letter3)\n",
        "\n",
        "print(list(numbers))\n"
      ],
      "execution_count": null,
      "outputs": [
        {
          "output_type": "stream",
          "text": [
            "['one', 'six', 'ten', 'two']\n"
          ],
          "name": "stdout"
        }
      ]
    },
    {
      "cell_type": "code",
      "metadata": {
        "colab": {
          "base_uri": "https://localhost:8080/"
        },
        "id": "2Sv-mMgHtzOT",
        "outputId": "42e74874-8612-4914-fe17-5e1a7aa3cc88"
      },
      "source": [
        "first_ten = [0, 1, 2, 3, 4, 5, 6, 7, 8, 9] \n",
        "  \n",
        "even = filter(lambda x:x%2==0, first_ten) \n",
        "print(type(even))  # it's 'filter' type, \n",
        "                   # in order to print the result,\n",
        "                   # we'd better convert it into the list type\n",
        "\n",
        "print('Even numbers are :', list(even))"
      ],
      "execution_count": null,
      "outputs": [
        {
          "output_type": "stream",
          "text": [
            "<class 'filter'>\n",
            "Even numbers are : [0, 2, 4, 6, 8]\n"
          ],
          "name": "stdout"
        }
      ]
    },
    {
      "cell_type": "code",
      "metadata": {
        "id": "SW8wFnPJvSoq"
      },
      "source": [
        ""
      ],
      "execution_count": null,
      "outputs": []
    }
  ]
}