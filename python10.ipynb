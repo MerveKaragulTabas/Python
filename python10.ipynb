{
  "nbformat": 4,
  "nbformat_minor": 0,
  "metadata": {
    "colab": {
      "name": "python10",
      "provenance": [],
      "collapsed_sections": [],
      "authorship_tag": "ABX9TyMpZioQom45X3aGULbD+vxU",
      "include_colab_link": true
    },
    "kernelspec": {
      "name": "python3",
      "display_name": "Python 3"
    },
    "language_info": {
      "name": "python"
    }
  },
  "cells": [
    {
      "cell_type": "markdown",
      "metadata": {
        "id": "view-in-github",
        "colab_type": "text"
      },
      "source": [
        "<a href=\"https://colab.research.google.com/github/MerveKaragulTabas/Python/blob/main/python10.ipynb\" target=\"_parent\"><img src=\"https://colab.research.google.com/assets/colab-badge.svg\" alt=\"Open In Colab\"/></a>"
      ]
    },
    {
      "cell_type": "code",
      "metadata": {
        "colab": {
          "base_uri": "https://localhost:8080/"
        },
        "id": "VL60DBGCGaiM",
        "outputId": "4ae56540-76ca-42ff-f82f-df907ab45a9b"
      },
      "source": [
        "x = int(input(\"enter a number: \"))\n",
        "if x > 0 :\n",
        "  print(\"{} positive number\")\n",
        "else :\n",
        "  print(\"{} negative number\")"
      ],
      "execution_count": null,
      "outputs": [
        {
          "output_type": "stream",
          "text": [
            "enter a number: 5\n",
            "{} positive number\n"
          ],
          "name": "stdout"
        }
      ]
    },
    {
      "cell_type": "code",
      "metadata": {
        "colab": {
          "base_uri": "https://localhost:8080/"
        },
        "id": "GZ0NjPadJ_C9",
        "outputId": "bf1df81e-df2e-4f84-f5b7-688882db1f30"
      },
      "source": [
        "num1 = float(input(\"enter the first number: \"))\n",
        "num2 = float(input(\"enter the second number: \"))\n",
        "if num1 > num2 : \n",
        "  larger = num1\n",
        "else :\n",
        "  larger = num2\n",
        "print(\"the larger number is:\", larger)\n"
      ],
      "execution_count": null,
      "outputs": [
        {
          "output_type": "stream",
          "text": [
            "enter the first number: 5\n",
            "enter the second number: 3\n",
            "the larger number is: 5.0\n"
          ],
          "name": "stdout"
        }
      ]
    },
    {
      "cell_type": "code",
      "metadata": {
        "colab": {
          "base_uri": "https://localhost:8080/"
        },
        "id": "gmmt_EXwK5tw",
        "outputId": "869d5b4a-4cb6-4384-ff9d-fd100edfa936"
      },
      "source": [
        "bool_value = False #True\n",
        "if bool_value :\n",
        "  print(\"yes\")\n",
        "else : \n",
        "  print(\"no\")"
      ],
      "execution_count": null,
      "outputs": [
        {
          "output_type": "stream",
          "text": [
            "no\n"
          ],
          "name": "stdout"
        }
      ]
    },
    {
      "cell_type": "code",
      "metadata": {
        "colab": {
          "base_uri": "https://localhost:8080/"
        },
        "id": "vU8Ia6cxMF9P",
        "outputId": "34718db1-17fc-492f-c5a4-3839f21cd649"
      },
      "source": [
        "num1 = float(input(\"enter first number: \"))\n",
        "num2 = float(input(\"enter second number: \"))\n",
        "num3 = float(input(\"enter third number: \"))\n",
        "larger = [num1, num2, num3]\n",
        "print(max(larger))"
      ],
      "execution_count": null,
      "outputs": [
        {
          "output_type": "stream",
          "text": [
            "enter first number: 10\n",
            "enter second number: 15\n",
            "enter third number: 20\n",
            "20.0\n"
          ],
          "name": "stdout"
        }
      ]
    },
    {
      "cell_type": "code",
      "metadata": {
        "colab": {
          "base_uri": "https://localhost:8080/"
        },
        "id": "ZKVBTW4MPUSs",
        "outputId": "0aeed4f8-64ab-4aae-8bc3-b22e599dfb0a"
      },
      "source": [
        "num1 = float(input(\"enter first number: \"))\n",
        "num2 = float(input(\"enter second number: \"))\n",
        "num3 = float(input(\"enter third number: \"))\n",
        "if(num1>num2) and (num1>num3) : \n",
        "  largest = num1\n",
        "elif (num2> num1) and (num2 > num3) :\n",
        "\n",
        "  largest = num2\n",
        "else : \n",
        "  largest = num3\n",
        "print(\"the largest number is :\", largest)"
      ],
      "execution_count": null,
      "outputs": [
        {
          "output_type": "stream",
          "text": [
            "enter first number: 5\n",
            "enter second number: 6\n",
            "enter third number: 8\n",
            "the largest number is : 8.0\n"
          ],
          "name": "stdout"
        }
      ]
    },
    {
      "cell_type": "code",
      "metadata": {
        "colab": {
          "base_uri": "https://localhost:8080/"
        },
        "id": "hZBJwYw1P9Xq",
        "outputId": "54804020-3688-49e8-cd70-c27ce5ca65d3"
      },
      "source": [
        "num = float(input(\"enter a number: \"))\n",
        "if num > 0 : \n",
        "  print(\"positive number\")\n",
        "elif num == 0 :\n",
        "  print(\"zero\")\n",
        "else :\n",
        "  print(\"negative number\")\n",
        "  "
      ],
      "execution_count": null,
      "outputs": [
        {
          "output_type": "stream",
          "text": [
            "enter a number: 15\n",
            "positive number\n"
          ],
          "name": "stdout"
        }
      ]
    },
    {
      "cell_type": "code",
      "metadata": {
        "colab": {
          "base_uri": "https://localhost:8080/"
        },
        "id": "jptTPJ7MRKcd",
        "outputId": "5f05994d-1d77-4522-879c-ac0017bb24ed"
      },
      "source": [
        "x = 3\n",
        "if x == 3 :\n",
        "  print(\"üç\")\n",
        "elif x ==4 :\n",
        "  print(\"dört\")\n",
        "elif x ==5 :\n",
        "  print(\"beş\")\n",
        "else :\n",
        "  print(\"sonsuz\")\n",
        "print(\"kod sonu geldi\")"
      ],
      "execution_count": null,
      "outputs": [
        {
          "output_type": "stream",
          "text": [
            "üç\n",
            "kod sonu geldi\n"
          ],
          "name": "stdout"
        }
      ]
    },
    {
      "cell_type": "code",
      "metadata": {
        "colab": {
          "base_uri": "https://localhost:8080/"
        },
        "id": "EVvB0ZH7RvMM",
        "outputId": "1b071e66-eef2-4955-efd6-70b3cb6fe049"
      },
      "source": [
        "num1 = float(input(\"enter the first number: \"))\n",
        "num2 = float(input(\"enter the second number: \"))\n",
        "if num1 > num2 :\n",
        "  print(\"the larger number is:\", num1)\n",
        "else :\n",
        "  print(\"the larger number is:\", num2)"
      ],
      "execution_count": null,
      "outputs": [
        {
          "output_type": "stream",
          "text": [
            "enter the first number: 8\n",
            "enter the second number: 15\n",
            "the larger number is: 15.0\n"
          ],
          "name": "stdout"
        }
      ]
    },
    {
      "cell_type": "code",
      "metadata": {
        "id": "WKLSbd-PSh9v",
        "colab": {
          "base_uri": "https://localhost:8080/"
        },
        "outputId": "816ad87f-f574-4f46-dfef-535f3c54d19f"
      },
      "source": [
        "max (1, 2, 3)"
      ],
      "execution_count": null,
      "outputs": [
        {
          "output_type": "execute_result",
          "data": {
            "text/plain": [
              "3"
            ]
          },
          "metadata": {
            "tags": []
          },
          "execution_count": 15
        }
      ]
    },
    {
      "cell_type": "code",
      "metadata": {
        "colab": {
          "base_uri": "https://localhost:8080/"
        },
        "id": "oePMTA7Ho8n2",
        "outputId": "d87f686f-9f34-482e-bc4d-b73a93ec7689"
      },
      "source": [
        "empty = []\n",
        "max(empty, default = True)"
      ],
      "execution_count": null,
      "outputs": [
        {
          "output_type": "execute_result",
          "data": {
            "text/plain": [
              "True"
            ]
          },
          "metadata": {
            "tags": []
          },
          "execution_count": 16
        }
      ]
    },
    {
      "cell_type": "code",
      "metadata": {
        "colab": {
          "base_uri": "https://localhost:8080/",
          "height": 35
        },
        "id": "DBHkPLhupT13",
        "outputId": "4cac1f36-7a27-4b26-e1cd-f331afdf0f75"
      },
      "source": [
        "max(empty, default=\"boş\")"
      ],
      "execution_count": null,
      "outputs": [
        {
          "output_type": "execute_result",
          "data": {
            "application/vnd.google.colaboratory.intrinsic+json": {
              "type": "string"
            },
            "text/plain": [
              "'boş'"
            ]
          },
          "metadata": {
            "tags": []
          },
          "execution_count": 17
        }
      ]
    },
    {
      "cell_type": "code",
      "metadata": {
        "colab": {
          "base_uri": "https://localhost:8080/"
        },
        "id": "ZbZwC6kupaHg",
        "outputId": "bfe2ef2a-01a5-4164-ced1-0c836d8ba085"
      },
      "source": [
        "seq = [1,1,1,1,1,2,2,2,2,3,3,3,4,4]\n",
        "max(seq)"
      ],
      "execution_count": null,
      "outputs": [
        {
          "output_type": "execute_result",
          "data": {
            "text/plain": [
              "4"
            ]
          },
          "metadata": {
            "tags": []
          },
          "execution_count": 20
        }
      ]
    },
    {
      "cell_type": "code",
      "metadata": {
        "colab": {
          "base_uri": "https://localhost:8080/"
        },
        "id": "1U9I-SgbpnCJ",
        "outputId": "4667133e-e78e-408d-ae42-4260770bcdee"
      },
      "source": [
        "seq.count(4)"
      ],
      "execution_count": null,
      "outputs": [
        {
          "output_type": "execute_result",
          "data": {
            "text/plain": [
              "2"
            ]
          },
          "metadata": {
            "tags": []
          },
          "execution_count": 21
        }
      ]
    },
    {
      "cell_type": "code",
      "metadata": {
        "colab": {
          "base_uri": "https://localhost:8080/"
        },
        "id": "PBvxY4BSp_Gb",
        "outputId": "72faf446-9538-42f8-f41e-425bfa6c8bc4"
      },
      "source": [
        "seq.count(max(seq))"
      ],
      "execution_count": null,
      "outputs": [
        {
          "output_type": "execute_result",
          "data": {
            "text/plain": [
              "2"
            ]
          },
          "metadata": {
            "tags": []
          },
          "execution_count": 22
        }
      ]
    },
    {
      "cell_type": "code",
      "metadata": {
        "colab": {
          "base_uri": "https://localhost:8080/"
        },
        "id": "48vtHLpwqHlt",
        "outputId": "689b7ce4-a42e-45d0-c015-c3ad8b466136"
      },
      "source": [
        "seq.count(1)"
      ],
      "execution_count": null,
      "outputs": [
        {
          "output_type": "execute_result",
          "data": {
            "text/plain": [
              "5"
            ]
          },
          "metadata": {
            "tags": []
          },
          "execution_count": 23
        }
      ]
    },
    {
      "cell_type": "code",
      "metadata": {
        "id": "9e1647axqRTn"
      },
      "source": [
        "a = max(seq, key = seq.count)"
      ],
      "execution_count": null,
      "outputs": []
    },
    {
      "cell_type": "code",
      "metadata": {
        "id": "PgM-ewL3q3gu"
      },
      "source": [
        "b = seq.count(max(seq, key = seq.count))"
      ],
      "execution_count": null,
      "outputs": []
    },
    {
      "cell_type": "code",
      "metadata": {
        "colab": {
          "base_uri": "https://localhost:8080/"
        },
        "id": "9FebOGwjsTaq",
        "outputId": "e18c10f3-c40c-4a57-f2a0-79132d252616"
      },
      "source": [
        "print(\"en çok tekrar eden {} sayısıdır ve {} kere tekrar etmiştir.\" .format(a,b))"
      ],
      "execution_count": null,
      "outputs": [
        {
          "output_type": "stream",
          "text": [
            "en çok tekrar eden 1 sayısıdır ve 5 kere tekrar etmiştir.\n"
          ],
          "name": "stdout"
        }
      ]
    },
    {
      "cell_type": "code",
      "metadata": {
        "colab": {
          "base_uri": "https://localhost:8080/"
        },
        "id": "nqb6qJiQsjvk",
        "outputId": "26739f7b-cf32-4a8a-c306-b9d2b67f41bb"
      },
      "source": [
        "left = {\"q\", \"w\", \"e\", \"r\", \"t\", \"a\", \"s\", \"d\", \"f\", \"g\", \"z\", \"x\", \"c\", \"v\", \"b\"}\n",
        "right = {\"y\", \"u\", \"i\", \"o\", \"p\", \"h\", \"j\", \"k\", \"l\", \"n\", \"m\"}\n",
        "word = \"test\"\n",
        "set_word =set(word)\n",
        "left_bool = bool(set_word - left)\n",
        "left_bool"
      ],
      "execution_count": null,
      "outputs": [
        {
          "output_type": "execute_result",
          "data": {
            "text/plain": [
              "False"
            ]
          },
          "metadata": {
            "tags": []
          },
          "execution_count": 30
        }
      ]
    },
    {
      "cell_type": "code",
      "metadata": {
        "colab": {
          "base_uri": "https://localhost:8080/"
        },
        "id": "_6UZFPKjurIC",
        "outputId": "3008ba87-48a5-4279-a7fe-4403d164f0be"
      },
      "source": [
        "set_word - right"
      ],
      "execution_count": null,
      "outputs": [
        {
          "output_type": "execute_result",
          "data": {
            "text/plain": [
              "{'e', 's', 't'}"
            ]
          },
          "metadata": {
            "tags": []
          },
          "execution_count": 31
        }
      ]
    },
    {
      "cell_type": "code",
      "metadata": {
        "colab": {
          "base_uri": "https://localhost:8080/"
        },
        "id": "XRpGwYZmuv23",
        "outputId": "21f252e4-42c2-45df-9a08-98a691769c92"
      },
      "source": [
        "right_bool = bool(set_word - right)\n",
        "left_bool and right_bool"
      ],
      "execution_count": null,
      "outputs": [
        {
          "output_type": "execute_result",
          "data": {
            "text/plain": [
              "False"
            ]
          },
          "metadata": {
            "tags": []
          },
          "execution_count": 33
        }
      ]
    },
    {
      "cell_type": "code",
      "metadata": {
        "id": "mMGEXyssu6VL"
      },
      "source": [
        ""
      ],
      "execution_count": null,
      "outputs": []
    }
  ]
}