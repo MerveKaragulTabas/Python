{
  "nbformat": 4,
  "nbformat_minor": 0,
  "metadata": {
    "colab": {
      "name": "python8",
      "provenance": [],
      "collapsed_sections": [],
      "authorship_tag": "ABX9TyNRFQKWuN+gyTk7IcUKYqJ1",
      "include_colab_link": true
    },
    "kernelspec": {
      "name": "python3",
      "display_name": "Python 3"
    },
    "language_info": {
      "name": "python"
    }
  },
  "cells": [
    {
      "cell_type": "markdown",
      "metadata": {
        "id": "view-in-github",
        "colab_type": "text"
      },
      "source": [
        "<a href=\"https://colab.research.google.com/github/MerveKaragulTabas/Python/blob/main/python8.ipynb\" target=\"_parent\"><img src=\"https://colab.research.google.com/assets/colab-badge.svg\" alt=\"Open In Colab\"/></a>"
      ]
    },
    {
      "cell_type": "code",
      "metadata": {
        "colab": {
          "base_uri": "https://localhost:8080/"
        },
        "id": "mafqCtO-DHIm",
        "outputId": "c8425aea-0e21-4509-cd9a-90189fa68cca"
      },
      "source": [
        "grocer = dict(fruit = 'apple', drink = 'water')\n",
        "print(grocer)"
      ],
      "execution_count": null,
      "outputs": [
        {
          "output_type": "stream",
          "text": [
            "{'fruit': 'apple', 'drink': 'water'}\n"
          ],
          "name": "stdout"
        }
      ]
    },
    {
      "cell_type": "code",
      "metadata": {
        "colab": {
          "base_uri": "https://localhost:8080/"
        },
        "id": "-7ZFtuIGJ4fR",
        "outputId": "8f8f7985-8787-45aa-8151-2f8309ad75d7"
      },
      "source": [
        "first_dic = {1 : \"one\", \"two\" : 2, False :[1, 2, 3] }\n",
        "first_dic"
      ],
      "execution_count": null,
      "outputs": [
        {
          "output_type": "execute_result",
          "data": {
            "text/plain": [
              "{1: 'one', False: [1, 2, 3], 'two': 2}"
            ]
          },
          "metadata": {
            "tags": []
          },
          "execution_count": 8
        }
      ]
    },
    {
      "cell_type": "code",
      "metadata": {
        "colab": {
          "base_uri": "https://localhost:8080/",
          "height": 167
        },
        "id": "SWGkgXYRKpFb",
        "outputId": "f7b67ac1-fb16-4294-c446-4b899a10c695"
      },
      "source": [
        "second_dict = {[1,2,3] : \"liste\", \"clarus\" : \"the best\"}"
      ],
      "execution_count": null,
      "outputs": [
        {
          "output_type": "error",
          "ename": "TypeError",
          "evalue": "ignored",
          "traceback": [
            "\u001b[0;31m---------------------------------------------------------------------------\u001b[0m",
            "\u001b[0;31mTypeError\u001b[0m                                 Traceback (most recent call last)",
            "\u001b[0;32m<ipython-input-9-ee15bfb4138f>\u001b[0m in \u001b[0;36m<module>\u001b[0;34m()\u001b[0m\n\u001b[0;32m----> 1\u001b[0;31m \u001b[0msecond_dict\u001b[0m \u001b[0;34m=\u001b[0m \u001b[0;34m{\u001b[0m\u001b[0;34m[\u001b[0m\u001b[0;36m1\u001b[0m\u001b[0;34m,\u001b[0m\u001b[0;36m2\u001b[0m\u001b[0;34m,\u001b[0m\u001b[0;36m3\u001b[0m\u001b[0;34m]\u001b[0m \u001b[0;34m:\u001b[0m \u001b[0;34m\"liste\"\u001b[0m\u001b[0;34m,\u001b[0m \u001b[0;34m\"clarus\"\u001b[0m \u001b[0;34m:\u001b[0m \u001b[0;34m\"the best\"\u001b[0m\u001b[0;34m}\u001b[0m\u001b[0;34m\u001b[0m\u001b[0;34m\u001b[0m\u001b[0m\n\u001b[0m",
            "\u001b[0;31mTypeError\u001b[0m: unhashable type: 'list'"
          ]
        }
      ]
    },
    {
      "cell_type": "code",
      "metadata": {
        "id": "TNua9Qy-K7DT"
      },
      "source": [
        "third_dict = {(1,2,3) : \"liste\", \"clarus\" : \"the best\"}"
      ],
      "execution_count": null,
      "outputs": []
    },
    {
      "cell_type": "code",
      "metadata": {
        "colab": {
          "base_uri": "https://localhost:8080/"
        },
        "id": "_EDs9AE8LNWI",
        "outputId": "909183a3-5f99-4944-f0e3-b6ba5277cb52"
      },
      "source": [
        "third_dict"
      ],
      "execution_count": null,
      "outputs": [
        {
          "output_type": "execute_result",
          "data": {
            "text/plain": [
              "{(1, 2, 3): 'liste', 'clarus': 'the best'}"
            ]
          },
          "metadata": {
            "tags": []
          },
          "execution_count": 11
        }
      ]
    },
    {
      "cell_type": "code",
      "metadata": {
        "colab": {
          "base_uri": "https://localhost:8080/",
          "height": 167
        },
        "id": "2n-z4X8-LPX5",
        "outputId": "9ced2cfe-cd67-465d-8ae8-2638c823ad3c"
      },
      "source": [
        "fourt_dict = {{1 : \"bir\", 2 : \"iki\"} : \"sözlük\"}"
      ],
      "execution_count": null,
      "outputs": [
        {
          "output_type": "error",
          "ename": "TypeError",
          "evalue": "ignored",
          "traceback": [
            "\u001b[0;31m---------------------------------------------------------------------------\u001b[0m",
            "\u001b[0;31mTypeError\u001b[0m                                 Traceback (most recent call last)",
            "\u001b[0;32m<ipython-input-12-d840a07bc211>\u001b[0m in \u001b[0;36m<module>\u001b[0;34m()\u001b[0m\n\u001b[0;32m----> 1\u001b[0;31m \u001b[0mfourt_dict\u001b[0m \u001b[0;34m=\u001b[0m \u001b[0;34m{\u001b[0m\u001b[0;34m{\u001b[0m\u001b[0;36m1\u001b[0m \u001b[0;34m:\u001b[0m \u001b[0;34m\"bir\"\u001b[0m\u001b[0;34m,\u001b[0m \u001b[0;36m2\u001b[0m \u001b[0;34m:\u001b[0m \u001b[0;34m\"iki\"\u001b[0m\u001b[0;34m}\u001b[0m \u001b[0;34m:\u001b[0m \u001b[0;34m\"sözlük\"\u001b[0m\u001b[0;34m}\u001b[0m\u001b[0;34m\u001b[0m\u001b[0;34m\u001b[0m\u001b[0m\n\u001b[0m",
            "\u001b[0;31mTypeError\u001b[0m: unhashable type: 'dict'"
          ]
        }
      ]
    },
    {
      "cell_type": "code",
      "metadata": {
        "colab": {
          "base_uri": "https://localhost:8080/"
        },
        "id": "v7KsPRuRL7-o",
        "outputId": "681b6cb1-6be3-4667-fdc4-ea025f8ccb89"
      },
      "source": [
        "fifth_dict = {\"erkekler\" : {\"ahmet\" : 35, \"mehmet\" : 44, \"cevat\" : 17},\\\n",
        "              \"bayanlar\" : {\"selvi\" : 22, \"bahar\" : 55, \"ayşe\" : 3}}\n",
        "fifth_dict              \n"
      ],
      "execution_count": null,
      "outputs": [
        {
          "output_type": "execute_result",
          "data": {
            "text/plain": [
              "{'bayanlar': {'ayşe': 3, 'bahar': 55, 'selvi': 22},\n",
              " 'erkekler': {'ahmet': 35, 'cevat': 17, 'mehmet': 44}}"
            ]
          },
          "metadata": {
            "tags": []
          },
          "execution_count": 14
        }
      ]
    },
    {
      "cell_type": "code",
      "metadata": {
        "id": "CvxeiTb3MxJE"
      },
      "source": [
        "family = {\"name1\" : \"merve\",\n",
        "          \"name2\" : \"murat\",\n",
        "          \"name3\" : \"sefa\"}"
      ],
      "execution_count": null,
      "outputs": []
    },
    {
      "cell_type": "code",
      "metadata": {
        "colab": {
          "base_uri": "https://localhost:8080/"
        },
        "id": "z87h2doYOZSp",
        "outputId": "d30582c0-0b2c-4118-8eeb-dba7596e9576"
      },
      "source": [
        "family"
      ],
      "execution_count": null,
      "outputs": [
        {
          "output_type": "execute_result",
          "data": {
            "text/plain": [
              "{'name1': 'merve', 'name2': 'murat', 'name3': 'sefa'}"
            ]
          },
          "metadata": {
            "tags": []
          },
          "execution_count": 16
        }
      ]
    },
    {
      "cell_type": "code",
      "metadata": {
        "colab": {
          "base_uri": "https://localhost:8080/"
        },
        "id": "KnnBACt4OaXy",
        "outputId": "4a2ef1d1-cb75-402e-c5b3-272556e486f6"
      },
      "source": [
        "family[\"name4\"] = \"hakan\"\n",
        "family"
      ],
      "execution_count": null,
      "outputs": [
        {
          "output_type": "execute_result",
          "data": {
            "text/plain": [
              "{'name1': 'merve', 'name2': 'murat', 'name3': 'sefa', 'name4': 'hakan'}"
            ]
          },
          "metadata": {
            "tags": []
          },
          "execution_count": 17
        }
      ]
    },
    {
      "cell_type": "markdown",
      "metadata": {
        "id": "0T80lhc1Uhs1"
      },
      "source": [
        ""
      ]
    },
    {
      "cell_type": "code",
      "metadata": {
        "colab": {
          "base_uri": "https://localhost:8080/",
          "height": 167
        },
        "id": "TaCnez87OsbY",
        "outputId": "c2a5a89e-980e-461f-b033-ce89e001466a"
      },
      "source": [
        "LEN(FAMİLY)"
      ],
      "execution_count": null,
      "outputs": [
        {
          "output_type": "error",
          "ename": "NameError",
          "evalue": "ignored",
          "traceback": [
            "\u001b[0;31m---------------------------------------------------------------------------\u001b[0m",
            "\u001b[0;31mNameError\u001b[0m                                 Traceback (most recent call last)",
            "\u001b[0;32m<ipython-input-18-fa7200435099>\u001b[0m in \u001b[0;36m<module>\u001b[0;34m()\u001b[0m\n\u001b[0;32m----> 1\u001b[0;31m \u001b[0mLEN\u001b[0m\u001b[0;34m(\u001b[0m\u001b[0mFAMİLY\u001b[0m\u001b[0;34m)\u001b[0m\u001b[0;34m\u001b[0m\u001b[0;34m\u001b[0m\u001b[0m\n\u001b[0m",
            "\u001b[0;31mNameError\u001b[0m: name 'LEN' is not defined"
          ]
        }
      ]
    },
    {
      "cell_type": "code",
      "metadata": {
        "colab": {
          "base_uri": "https://localhost:8080/"
        },
        "id": "M3CmcHnsOz_i",
        "outputId": "3dadce3a-e13f-4152-e462-15e86b3b5e57"
      },
      "source": [
        "len(family)"
      ],
      "execution_count": null,
      "outputs": [
        {
          "output_type": "execute_result",
          "data": {
            "text/plain": [
              "4"
            ]
          },
          "metadata": {
            "tags": []
          },
          "execution_count": 19
        }
      ]
    },
    {
      "cell_type": "code",
      "metadata": {
        "colab": {
          "base_uri": "https://localhost:8080/"
        },
        "id": "0xTVCuRBO2B1",
        "outputId": "8ff4dfb2-6385-456b-b4eb-a709b3c3d9a9"
      },
      "source": [
        "dict_by_dict = dict(animal='dog', planet= 'neptun', number=40, pi=3.14, is_good=True)\n",
        "dict_by_dict"
      ],
      "execution_count": null,
      "outputs": [
        {
          "output_type": "execute_result",
          "data": {
            "text/plain": [
              "{'animal': 'dog',\n",
              " 'is_good': True,\n",
              " 'number': 40,\n",
              " 'pi': 3.14,\n",
              " 'planet': 'neptun'}"
            ]
          },
          "metadata": {
            "tags": []
          },
          "execution_count": 20
        }
      ]
    },
    {
      "cell_type": "code",
      "metadata": {
        "colab": {
          "base_uri": "https://localhost:8080/"
        },
        "id": "OJ2YQiRoPRA1",
        "outputId": "4c7e59e2-91e0-42ba-a761-e4a0568c3863"
      },
      "source": [
        "family = dict(name1 = \"merve\", name2 = \"murat\", name3 = \"sefa\", name4 = \"hakan\")\n",
        "family"
      ],
      "execution_count": null,
      "outputs": [
        {
          "output_type": "execute_result",
          "data": {
            "text/plain": [
              "{'name1': 'merve', 'name2': 'murat', 'name3': 'sefa', 'name4': 'hakan'}"
            ]
          },
          "metadata": {
            "tags": []
          },
          "execution_count": 21
        }
      ]
    },
    {
      "cell_type": "code",
      "metadata": {
        "colab": {
          "base_uri": "https://localhost:8080/"
        },
        "id": "6p74iILuVGEg",
        "outputId": "c9eb4ed9-c179-4a3b-91d4-8cad561c597a"
      },
      "source": [
        "n1, n2, n3 = 5, 15, 20\n",
        "numbers = {n1 : \"beş\", n2 : \"onbeş\", n3 : \"yirmi\"}\n",
        "numbers"
      ],
      "execution_count": null,
      "outputs": [
        {
          "output_type": "execute_result",
          "data": {
            "text/plain": [
              "{5: 'beş', 15: 'onbeş', 20: 'yirmi'}"
            ]
          },
          "metadata": {
            "tags": []
          },
          "execution_count": 23
        }
      ]
    },
    {
      "cell_type": "code",
      "metadata": {
        "colab": {
          "base_uri": "https://localhost:8080/"
        },
        "id": "IF9WioAwVwgh",
        "outputId": "4d47463a-ca43-46f4-d0f1-02e2291b4d8d"
      },
      "source": [
        "sayılar = {\"tek\" : [], \n",
        "           \"çift\" : []}\n",
        "sayılar"
      ],
      "execution_count": null,
      "outputs": [
        {
          "output_type": "execute_result",
          "data": {
            "text/plain": [
              "{'tek': [], 'çift': []}"
            ]
          },
          "metadata": {
            "tags": []
          },
          "execution_count": 24
        }
      ]
    },
    {
      "cell_type": "code",
      "metadata": {
        "colab": {
          "base_uri": "https://localhost:8080/",
          "height": 167
        },
        "id": "4uEjJHFXW8-7",
        "outputId": "afbc598f-d498-4600-fa78-29b331503dbf"
      },
      "source": [
        "sayılar[\"tek\"]\n"
      ],
      "execution_count": null,
      "outputs": [
        {
          "output_type": "error",
          "ename": "TypeError",
          "evalue": "ignored",
          "traceback": [
            "\u001b[0;31m---------------------------------------------------------------------------\u001b[0m",
            "\u001b[0;31mTypeError\u001b[0m                                 Traceback (most recent call last)",
            "\u001b[0;32m<ipython-input-33-ea9700c4a686>\u001b[0m in \u001b[0;36m<module>\u001b[0;34m()\u001b[0m\n\u001b[0;32m----> 1\u001b[0;31m \u001b[0msayılar\u001b[0m\u001b[0;34m[\u001b[0m\u001b[0;34m\"tek\"\u001b[0m\u001b[0;34m]\u001b[0m\u001b[0;34m\u001b[0m\u001b[0;34m\u001b[0m\u001b[0m\n\u001b[0m",
            "\u001b[0;31mTypeError\u001b[0m: 'int' object is not subscriptable"
          ]
        }
      ]
    },
    {
      "cell_type": "code",
      "metadata": {
        "colab": {
          "base_uri": "https://localhost:8080/",
          "height": 167
        },
        "id": "Hme9zFfdXC0N",
        "outputId": "1bcb579a-0d04-42e0-c625-9b08d61abd09"
      },
      "source": [
        "type(sayılar[\"tek\"])"
      ],
      "execution_count": null,
      "outputs": [
        {
          "output_type": "error",
          "ename": "TypeError",
          "evalue": "ignored",
          "traceback": [
            "\u001b[0;31m---------------------------------------------------------------------------\u001b[0m",
            "\u001b[0;31mTypeError\u001b[0m                                 Traceback (most recent call last)",
            "\u001b[0;32m<ipython-input-29-ed4413f861f4>\u001b[0m in \u001b[0;36m<module>\u001b[0;34m()\u001b[0m\n\u001b[0;32m----> 1\u001b[0;31m \u001b[0mtype\u001b[0m\u001b[0;34m(\u001b[0m\u001b[0msayılar\u001b[0m\u001b[0;34m[\u001b[0m\u001b[0;34m\"tek\"\u001b[0m\u001b[0;34m]\u001b[0m\u001b[0;34m)\u001b[0m\u001b[0;34m\u001b[0m\u001b[0;34m\u001b[0m\u001b[0m\n\u001b[0m",
            "\u001b[0;31mTypeError\u001b[0m: 'int' object is not subscriptable"
          ]
        }
      ]
    },
    {
      "cell_type": "code",
      "metadata": {
        "colab": {
          "base_uri": "https://localhost:8080/",
          "height": 185
        },
        "id": "eV5FVt_DXWER",
        "outputId": "e2ec12c2-977c-4b6a-dd12-d9ff44f836a2"
      },
      "source": [
        "sayılar[\"tek\"].append(3)\n",
        "print(sayılar)"
      ],
      "execution_count": null,
      "outputs": [
        {
          "output_type": "error",
          "ename": "TypeError",
          "evalue": "ignored",
          "traceback": [
            "\u001b[0;31m---------------------------------------------------------------------------\u001b[0m",
            "\u001b[0;31mTypeError\u001b[0m                                 Traceback (most recent call last)",
            "\u001b[0;32m<ipython-input-31-117a676abcf3>\u001b[0m in \u001b[0;36m<module>\u001b[0;34m()\u001b[0m\n\u001b[0;32m----> 1\u001b[0;31m \u001b[0msayılar\u001b[0m\u001b[0;34m[\u001b[0m\u001b[0;34m\"tek\"\u001b[0m\u001b[0;34m]\u001b[0m\u001b[0;34m.\u001b[0m\u001b[0mappend\u001b[0m\u001b[0;34m(\u001b[0m\u001b[0;36m3\u001b[0m\u001b[0;34m)\u001b[0m\u001b[0;34m\u001b[0m\u001b[0;34m\u001b[0m\u001b[0m\n\u001b[0m\u001b[1;32m      2\u001b[0m \u001b[0mprint\u001b[0m\u001b[0;34m(\u001b[0m\u001b[0msayılar\u001b[0m\u001b[0;34m)\u001b[0m\u001b[0;34m\u001b[0m\u001b[0;34m\u001b[0m\u001b[0m\n",
            "\u001b[0;31mTypeError\u001b[0m: 'int' object is not subscriptable"
          ]
        }
      ]
    },
    {
      "cell_type": "code",
      "metadata": {
        "colab": {
          "base_uri": "https://localhost:8080/"
        },
        "id": "PO-9Xf3QXh8j",
        "outputId": "5957bea9-3080-4483-a12f-022ac8ebdbd4"
      },
      "source": [
        "meyveler = {}.fromkeys([\"elma\", \"armut\"])\n",
        "meyveler"
      ],
      "execution_count": null,
      "outputs": [
        {
          "output_type": "execute_result",
          "data": {
            "text/plain": [
              "{'armut': None, 'elma': None}"
            ]
          },
          "metadata": {
            "tags": []
          },
          "execution_count": 34
        }
      ]
    },
    {
      "cell_type": "code",
      "metadata": {
        "id": "JbmvYLVDYKWQ"
      },
      "source": [
        "meyveler = {}.fromkeys([\"elma\", \"armut\"], 0)"
      ],
      "execution_count": null,
      "outputs": []
    },
    {
      "cell_type": "code",
      "metadata": {
        "colab": {
          "base_uri": "https://localhost:8080/"
        },
        "id": "gPJTwr0kYWrh",
        "outputId": "c1b889b6-55c9-461b-a80e-a09b67b5d555"
      },
      "source": [
        "meyveler"
      ],
      "execution_count": null,
      "outputs": [
        {
          "output_type": "execute_result",
          "data": {
            "text/plain": [
              "{'armut': 0, 'elma': 0}"
            ]
          },
          "metadata": {
            "tags": []
          },
          "execution_count": 36
        }
      ]
    },
    {
      "cell_type": "code",
      "metadata": {
        "colab": {
          "base_uri": "https://localhost:8080/"
        },
        "id": "abzuFuEYYXua",
        "outputId": "ff934c87-9038-4d27-bd16-8b4018134e14"
      },
      "source": [
        "#meyveler[\"elma\"] = meyveler[\"elma\"] + 1"
      ],
      "execution_count": null,
      "outputs": [
        {
          "output_type": "execute_result",
          "data": {
            "text/plain": [
              "{'armut': 0, 'elma': 1, 'elme': 1}"
            ]
          },
          "metadata": {
            "tags": []
          },
          "execution_count": 38
        }
      ]
    },
    {
      "cell_type": "code",
      "metadata": {
        "colab": {
          "base_uri": "https://localhost:8080/"
        },
        "id": "E_c0RKyQYrCj",
        "outputId": "92ea9281-d076-4c5b-96d2-a8e3a269c67d"
      },
      "source": [
        "meyveler[\"elma\"] += 1\n",
        "meyveler\n"
      ],
      "execution_count": null,
      "outputs": [
        {
          "output_type": "execute_result",
          "data": {
            "text/plain": [
              "{'armut': 3, 'elma': 4, 'elme': 1}"
            ]
          },
          "metadata": {
            "tags": []
          },
          "execution_count": 45
        }
      ]
    },
    {
      "cell_type": "code",
      "metadata": {
        "colab": {
          "base_uri": "https://localhost:8080/"
        },
        "id": "Ub-5IqZPY7rr",
        "outputId": "6d00416b-0a7b-4dc0-b742-ddab81bbdadd"
      },
      "source": [
        "meyveler[\"armut\"] += 1\n",
        "meyveler"
      ],
      "execution_count": null,
      "outputs": [
        {
          "output_type": "execute_result",
          "data": {
            "text/plain": [
              "{'armut': 3, 'elma': 2, 'elme': 1}"
            ]
          },
          "metadata": {
            "tags": []
          },
          "execution_count": 43
        }
      ]
    },
    {
      "cell_type": "code",
      "metadata": {
        "colab": {
          "base_uri": "https://localhost:8080/"
        },
        "id": "sYpY915sZPNr",
        "outputId": "5692314c-d801-4029-c24c-8ca56abc3124"
      },
      "source": [
        "meyveler[\"kivi\"] = 5\n",
        "meyveler"
      ],
      "execution_count": null,
      "outputs": [
        {
          "output_type": "execute_result",
          "data": {
            "text/plain": [
              "{'armut': 3, 'elma': 4, 'elme': 1, 'kivi': 5}"
            ]
          },
          "metadata": {
            "tags": []
          },
          "execution_count": 46
        }
      ]
    },
    {
      "cell_type": "code",
      "metadata": {
        "id": "nfB9RWKLZtbF"
      },
      "source": [
        "meyveler[\"elma\"] = 9"
      ],
      "execution_count": null,
      "outputs": []
    },
    {
      "cell_type": "code",
      "metadata": {
        "colab": {
          "base_uri": "https://localhost:8080/"
        },
        "id": "_Yci50cSZzHO",
        "outputId": "d9ad64a0-940e-42f5-fcf8-33d805dba272"
      },
      "source": [
        "meyveler"
      ],
      "execution_count": null,
      "outputs": [
        {
          "output_type": "execute_result",
          "data": {
            "text/plain": [
              "{'armut': 3, 'elma': 9, 'elme': 1, 'kivi': 5}"
            ]
          },
          "metadata": {
            "tags": []
          },
          "execution_count": 48
        }
      ]
    },
    {
      "cell_type": "code",
      "metadata": {
        "colab": {
          "base_uri": "https://localhost:8080/"
        },
        "id": "UvX_0LN4Z0S5",
        "outputId": "d02308c2-6cb3-4fb6-b055-11886f587e77"
      },
      "source": [
        "cisimler = {\"cisim1\" : \"mouse\", \"cisim2\" : \"havlu\"}\n",
        "cisimler"
      ],
      "execution_count": null,
      "outputs": [
        {
          "output_type": "execute_result",
          "data": {
            "text/plain": [
              "{'cisim1': 'mouse', 'cisim2': 'havlu'}"
            ]
          },
          "metadata": {
            "tags": []
          },
          "execution_count": 49
        }
      ]
    },
    {
      "cell_type": "code",
      "metadata": {
        "colab": {
          "base_uri": "https://localhost:8080/"
        },
        "id": "hONoEnxZa97R",
        "outputId": "d6f2ced0-0488-413f-9670-4f7d286dcb71"
      },
      "source": [
        "cisimler[\"cisim1\"] += \" klavye\"\n",
        "cisimler"
      ],
      "execution_count": null,
      "outputs": [
        {
          "output_type": "execute_result",
          "data": {
            "text/plain": [
              "{'cisim1': 'mouse klavye', 'cisim2': 'havlu'}"
            ]
          },
          "metadata": {
            "tags": []
          },
          "execution_count": 50
        }
      ]
    },
    {
      "cell_type": "code",
      "metadata": {
        "colab": {
          "base_uri": "https://localhost:8080/"
        },
        "id": "BFYTwgFPbIGv",
        "outputId": "c1ff745c-7f83-49d9-9527-24342b477c04"
      },
      "source": [
        "dict_by_dict = {'animal' : 'dog',\n",
        "                'planet' : 'planet',\n",
        "                'number' : 40,\n",
        "                'pi' : 3.14,\n",
        "                'is_good' : True}\n",
        "print(dict_by_dict.items(), '\\n')"
      ],
      "execution_count": null,
      "outputs": [
        {
          "output_type": "stream",
          "text": [
            "dict_items([('animal', 'dog'), ('planet', 'planet'), ('number', 40), ('pi', 3.14), ('is_good', True)]) \n",
            "\n"
          ],
          "name": "stdout"
        }
      ]
    },
    {
      "cell_type": "code",
      "metadata": {
        "colab": {
          "base_uri": "https://localhost:8080/"
        },
        "id": "t_bqU7EAcrVH",
        "outputId": "44731806-b3f3-4935-f7ff-bf4840d16a91"
      },
      "source": [
        "print(dict_by_dict.keys(), '\\n')"
      ],
      "execution_count": null,
      "outputs": [
        {
          "output_type": "stream",
          "text": [
            "dict_keys(['animal', 'planet', 'number', 'pi', 'is_good']) \n",
            "\n"
          ],
          "name": "stdout"
        }
      ]
    },
    {
      "cell_type": "code",
      "metadata": {
        "colab": {
          "base_uri": "https://localhost:8080/"
        },
        "id": "O8JcT7KydFWy",
        "outputId": "f5a62d33-0137-4754-c9c1-8fac024cb7b5"
      },
      "source": [
        "print(dict_by_dict.values(), '\\n')"
      ],
      "execution_count": null,
      "outputs": [
        {
          "output_type": "stream",
          "text": [
            "dict_values(['dog', 'planet', 40, 3.14, True]) \n",
            "\n"
          ],
          "name": "stdout"
        }
      ]
    },
    {
      "cell_type": "code",
      "metadata": {
        "colab": {
          "base_uri": "https://localhost:8080/"
        },
        "id": "dCqcIf8ldSGC",
        "outputId": "2a1ce20b-d71a-40d5-845b-50599a556bf2"
      },
      "source": [
        "list(dict_by_dict.values())"
      ],
      "execution_count": null,
      "outputs": [
        {
          "output_type": "execute_result",
          "data": {
            "text/plain": [
              "['dog', 'planet', 40, 3.14, True]"
            ]
          },
          "metadata": {
            "tags": []
          },
          "execution_count": 57
        }
      ]
    },
    {
      "cell_type": "code",
      "metadata": {
        "colab": {
          "base_uri": "https://localhost:8080/"
        },
        "id": "kCKBOI_fdXpX",
        "outputId": "c9d37ba8-74a6-4533-ce1b-f2dfcffc1e4f"
      },
      "source": [
        "dict_by_dict.update({'is_bad' : False, 3 : \"üç\"})\n",
        "dict_by_dict"
      ],
      "execution_count": null,
      "outputs": [
        {
          "output_type": "execute_result",
          "data": {
            "text/plain": [
              "{3: 'üç',\n",
              " 'animal': 'dog',\n",
              " 'is_bad': False,\n",
              " 'is_good': True,\n",
              " 'number': 40,\n",
              " 'pi': 3.14,\n",
              " 'planet': 'planet'}"
            ]
          },
          "metadata": {
            "tags": []
          },
          "execution_count": 60
        }
      ]
    },
    {
      "cell_type": "code",
      "metadata": {
        "colab": {
          "base_uri": "https://localhost:8080/"
        },
        "id": "sTp3X6gJdZTC",
        "outputId": "5d649080-18cd-4d8e-becc-3d405c48ddef"
      },
      "source": [
        "del dict_by_dict['animal']\n",
        "dict_by_dict"
      ],
      "execution_count": null,
      "outputs": [
        {
          "output_type": "execute_result",
          "data": {
            "text/plain": [
              "{3: 'üç',\n",
              " 'is_bad': False,\n",
              " 'is_good': True,\n",
              " 'number': 40,\n",
              " 'pi': 3.14,\n",
              " 'planet': 'planet'}"
            ]
          },
          "metadata": {
            "tags": []
          },
          "execution_count": 61
        }
      ]
    },
    {
      "cell_type": "code",
      "metadata": {
        "colab": {
          "base_uri": "https://localhost:8080/"
        },
        "id": "d68FI6hYhR47",
        "outputId": "49914d0c-16a1-4485-cec0-909ccb5f68c2"
      },
      "source": [
        "del family['name1']\n",
        "family"
      ],
      "execution_count": null,
      "outputs": [
        {
          "output_type": "execute_result",
          "data": {
            "text/plain": [
              "{'name2': 'murat', 'name3': 'sefa', 'name4': 'hakan'}"
            ]
          },
          "metadata": {
            "tags": []
          },
          "execution_count": 62
        }
      ]
    },
    {
      "cell_type": "code",
      "metadata": {
        "colab": {
          "base_uri": "https://localhost:8080/",
          "height": 185
        },
        "id": "k9jrpq2jhrXq",
        "outputId": "b45e8f0e-6c72-4a0d-8544-97d03086cef2"
      },
      "source": [
        "del family[\"name2\", \"name3\"]\n",
        "family"
      ],
      "execution_count": null,
      "outputs": [
        {
          "output_type": "error",
          "ename": "KeyError",
          "evalue": "ignored",
          "traceback": [
            "\u001b[0;31m---------------------------------------------------------------------------\u001b[0m",
            "\u001b[0;31mKeyError\u001b[0m                                  Traceback (most recent call last)",
            "\u001b[0;32m<ipython-input-63-7808dfd45872>\u001b[0m in \u001b[0;36m<module>\u001b[0;34m()\u001b[0m\n\u001b[0;32m----> 1\u001b[0;31m \u001b[0;32mdel\u001b[0m \u001b[0mfamily\u001b[0m\u001b[0;34m[\u001b[0m\u001b[0;34m\"name2\"\u001b[0m\u001b[0;34m,\u001b[0m \u001b[0;34m\"name3\"\u001b[0m\u001b[0;34m]\u001b[0m\u001b[0;34m\u001b[0m\u001b[0;34m\u001b[0m\u001b[0m\n\u001b[0m\u001b[1;32m      2\u001b[0m \u001b[0mfamily\u001b[0m\u001b[0;34m\u001b[0m\u001b[0;34m\u001b[0m\u001b[0m\n",
            "\u001b[0;31mKeyError\u001b[0m: ('name2', 'name3')"
          ]
        }
      ]
    },
    {
      "cell_type": "code",
      "metadata": {
        "colab": {
          "base_uri": "https://localhost:8080/"
        },
        "id": "qtQD1xpniBTp",
        "outputId": "57f18df6-69c5-4bee-8466-250f340a3120"
      },
      "source": [
        "del family[\"name2\"], family[\"name3\"]\n",
        "family"
      ],
      "execution_count": null,
      "outputs": [
        {
          "output_type": "execute_result",
          "data": {
            "text/plain": [
              "{'name4': 'hakan'}"
            ]
          },
          "metadata": {
            "tags": []
          },
          "execution_count": 64
        }
      ]
    },
    {
      "cell_type": "code",
      "metadata": {
        "colab": {
          "base_uri": "https://localhost:8080/"
        },
        "id": "fOAnywsmiLhC",
        "outputId": "5f58db03-4c11-4947-c5aa-c34bd56049b7"
      },
      "source": [
        "clarusway = [\"ali\", \"veli\", \"deli\"]\n",
        "\n",
        "\"zeka küpü\" in clarusway\n"
      ],
      "execution_count": null,
      "outputs": [
        {
          "output_type": "execute_result",
          "data": {
            "text/plain": [
              "False"
            ]
          },
          "metadata": {
            "tags": []
          },
          "execution_count": 65
        }
      ]
    },
    {
      "cell_type": "code",
      "metadata": {
        "colab": {
          "base_uri": "https://localhost:8080/"
        },
        "id": "aI0_CB7uiu4s",
        "outputId": "9d8feee8-b349-41ec-cc79-a6ce9c394dae"
      },
      "source": [
        "\"ali\" in clarusway"
      ],
      "execution_count": null,
      "outputs": [
        {
          "output_type": "execute_result",
          "data": {
            "text/plain": [
              "True"
            ]
          },
          "metadata": {
            "tags": []
          },
          "execution_count": 66
        }
      ]
    },
    {
      "cell_type": "code",
      "metadata": {
        "colab": {
          "base_uri": "https://localhost:8080/"
        },
        "id": "G-DWp0d0jAM4",
        "outputId": "55e79849-439a-4df8-b794-71303505c333"
      },
      "source": [
        "\"dog\" in dict_by_dict"
      ],
      "execution_count": null,
      "outputs": [
        {
          "output_type": "execute_result",
          "data": {
            "text/plain": [
              "False"
            ]
          },
          "metadata": {
            "tags": []
          },
          "execution_count": 67
        }
      ]
    },
    {
      "cell_type": "code",
      "metadata": {
        "colab": {
          "base_uri": "https://localhost:8080/"
        },
        "id": "6k5rxCbfjESx",
        "outputId": "edda3f09-b670-477c-8b0e-67a9dd4f51c0"
      },
      "source": [
        "\"planet\" in dict_by_dict.values()"
      ],
      "execution_count": null,
      "outputs": [
        {
          "output_type": "execute_result",
          "data": {
            "text/plain": [
              "True"
            ]
          },
          "metadata": {
            "tags": []
          },
          "execution_count": 70
        }
      ]
    },
    {
      "cell_type": "code",
      "metadata": {
        "colab": {
          "base_uri": "https://localhost:8080/"
        },
        "id": "qp5jSj5njW06",
        "outputId": "2dc83fb4-7d5b-49b5-82a7-c8f4ac8dec5c"
      },
      "source": [
        "\"pi\" in dict_by_dict"
      ],
      "execution_count": null,
      "outputs": [
        {
          "output_type": "execute_result",
          "data": {
            "text/plain": [
              "True"
            ]
          },
          "metadata": {
            "tags": []
          },
          "execution_count": 69
        }
      ]
    },
    {
      "cell_type": "code",
      "metadata": {
        "colab": {
          "base_uri": "https://localhost:8080/"
        },
        "id": "1RzX87B6jiJm",
        "outputId": "39540a1a-91de-4ccc-8468-1c761d0e40f5"
      },
      "source": [
        "\"planet\" not in dict_by_dict"
      ],
      "execution_count": null,
      "outputs": [
        {
          "output_type": "execute_result",
          "data": {
            "text/plain": [
              "False"
            ]
          },
          "metadata": {
            "tags": []
          },
          "execution_count": 71
        }
      ]
    },
    {
      "cell_type": "code",
      "metadata": {
        "colab": {
          "base_uri": "https://localhost:8080/"
        },
        "id": "EErWaet9j0Sl",
        "outputId": "ac62740c-fe38-4f7b-8444-583b28a3bbbe"
      },
      "source": [
        "para = 1000\n",
        "para = para + para * 0.07 #pazartesi\n",
        "para"
      ],
      "execution_count": null,
      "outputs": [
        {
          "output_type": "execute_result",
          "data": {
            "text/plain": [
              "1070.0"
            ]
          },
          "metadata": {
            "tags": []
          },
          "execution_count": 72
        }
      ]
    },
    {
      "cell_type": "code",
      "metadata": {
        "colab": {
          "base_uri": "https://localhost:8080/"
        },
        "id": "lLUYW74EonFA",
        "outputId": "5477e438-5d00-4810-c94b-e0c3d710fc9b"
      },
      "source": [
        "para = para + para * 0.07 #salı\n",
        "para"
      ],
      "execution_count": null,
      "outputs": [
        {
          "output_type": "execute_result",
          "data": {
            "text/plain": [
              "1144.9"
            ]
          },
          "metadata": {
            "tags": []
          },
          "execution_count": 73
        }
      ]
    },
    {
      "cell_type": "code",
      "metadata": {
        "id": "ZniOMMQxou9H"
      },
      "source": [
        "para = para + para * 0.07 #çarsamba\n",
        "para = para + para * 0.07 #perşembe\n",
        "para = para + para * 0.07 #cuma\n",
        "para = para + para * 0.07 #cumartesi\n",
        "para = para + para * 0.07 #pazar\n",
        "\n"
      ],
      "execution_count": null,
      "outputs": []
    },
    {
      "cell_type": "code",
      "metadata": {
        "colab": {
          "base_uri": "https://localhost:8080/"
        },
        "id": "j2IlRhcUpOew",
        "outputId": "836d5c80-6ee6-40a4-d23f-208d78904e91"
      },
      "source": [
        "para"
      ],
      "execution_count": null,
      "outputs": [
        {
          "output_type": "execute_result",
          "data": {
            "text/plain": [
              "1605.78147647843"
            ]
          },
          "metadata": {
            "tags": []
          },
          "execution_count": 75
        }
      ]
    },
    {
      "cell_type": "code",
      "metadata": {
        "colab": {
          "base_uri": "https://localhost:8080/"
        },
        "id": "GA3mNaMypPet",
        "outputId": "05c5b654-63e9-42ef-fe15-5e86495de1b6"
      },
      "source": [
        "para = 1000\n",
        "para = para * 1.07**7\n",
        "para"
      ],
      "execution_count": null,
      "outputs": [
        {
          "output_type": "execute_result",
          "data": {
            "text/plain": [
              "1605.7814764784307"
            ]
          },
          "metadata": {
            "tags": []
          },
          "execution_count": 76
        }
      ]
    },
    {
      "cell_type": "code",
      "metadata": {
        "colab": {
          "base_uri": "https://localhost:8080/"
        },
        "id": "5FND7Jp7p_w_",
        "outputId": "40ea822d-0340-4c8f-e948-fefb97f750cf"
      },
      "source": [
        "samanlık = [\"yumurta\", \"saman\", \"inek\", \"iğne\", \"tavuk\", \"yaba\", \"eşarp\"]\n",
        "print(f\"iğne {samanlık.index('iğne')} numaralı indekstedir.\") # iğne nerede olursa olsun ilk numarayı verır. ilk neredeyse onu verır."
      ],
      "execution_count": null,
      "outputs": [
        {
          "output_type": "stream",
          "text": [
            "iğne 3 numaralı indekstedir.\n"
          ],
          "name": "stdout"
        }
      ]
    },
    {
      "cell_type": "code",
      "metadata": {
        "id": "Wfi1NGLWrJ2t"
      },
      "source": [
        ""
      ],
      "execution_count": null,
      "outputs": []
    },
    {
      "cell_type": "code",
      "metadata": {
        "id": "CuQIjWynradh"
      },
      "source": [
        ""
      ],
      "execution_count": null,
      "outputs": []
    }
  ]
}