{
  "nbformat": 4,
  "nbformat_minor": 0,
  "metadata": {
    "colab": {
      "name": "python11",
      "provenance": [],
      "collapsed_sections": [],
      "authorship_tag": "ABX9TyMi0i+5gAhiQh7BM1qesVUH",
      "include_colab_link": true
    },
    "kernelspec": {
      "name": "python3",
      "display_name": "Python 3"
    },
    "language_info": {
      "name": "python"
    }
  },
  "cells": [
    {
      "cell_type": "markdown",
      "metadata": {
        "id": "view-in-github",
        "colab_type": "text"
      },
      "source": [
        "<a href=\"https://colab.research.google.com/github/MerveKaragulTabas/Python/blob/main/python11.ipynb\" target=\"_parent\"><img src=\"https://colab.research.google.com/assets/colab-badge.svg\" alt=\"Open In Colab\"/></a>"
      ]
    },
    {
      "cell_type": "code",
      "metadata": {
        "colab": {
          "base_uri": "https://localhost:8080/"
        },
        "id": "yYp14VeByruh",
        "outputId": "989dd6ca-8008-4dfd-fc9c-7b3137efb4af"
      },
      "source": [
        "number = 0\n",
        "while number < 6 :\n",
        "  print(number)\n",
        "  number += 1\n",
        "print('now, number is bigger or equal to 6')"
      ],
      "execution_count": null,
      "outputs": [
        {
          "output_type": "stream",
          "text": [
            "0\n",
            "1\n",
            "2\n",
            "3\n",
            "4\n",
            "5\n",
            "now, number is bigger or equal to 6\n"
          ],
          "name": "stdout"
        }
      ]
    },
    {
      "cell_type": "code",
      "metadata": {
        "id": "wcYS2CMj03l9"
      },
      "source": [
        "my_list = [\"a\", \"b\", \"c\", \"d\", Untitled0.ipynb\"e\"]\n",
        "a = 0"
      ],
      "execution_count": null,
      "outputs": []
    },
    {
      "cell_type": "code",
      "metadata": {
        "colab": {
          "base_uri": "https://localhost:8080/"
        },
        "id": "PZw7ybwQ1Yna",
        "outputId": "e7397eee-491b-4bf3-9250-ee63f2891acb"
      },
      "source": [
        "while 0 :\n",
        "  print(\"bir\")\n",
        "print(\"iki\")"
      ],
      "execution_count": null,
      "outputs": [
        {
          "output_type": "stream",
          "text": [
            "iki\n"
          ],
          "name": "stdout"
        }
      ]
    },
    {
      "cell_type": "code",
      "metadata": {
        "colab": {
          "base_uri": "https://localhost:8080/"
        },
        "id": "bqLstaYC1ZHc",
        "outputId": "ac54854a-e652-44fd-8219-804856963545"
      },
      "source": [
        "while [] :\n",
        "  print(\"while\")\n",
        "print(\"outside of while\")"
      ],
      "execution_count": null,
      "outputs": [
        {
          "output_type": "stream",
          "text": [
            "outside of while\n"
          ],
          "name": "stdout"
        }
      ]
    },
    {
      "cell_type": "code",
      "metadata": {
        "colab": {
          "base_uri": "https://localhost:8080/"
        },
        "id": "hczUKWjq1ZEn",
        "outputId": "a0acdbb7-7b4f-4752-e0e4-d4969066db0f"
      },
      "source": [
        "while None :\n",
        "  print(\"merve\")\n",
        "print(\"mer\")  "
      ],
      "execution_count": null,
      "outputs": [
        {
          "output_type": "stream",
          "text": [
            "mer\n"
          ],
          "name": "stdout"
        }
      ]
    },
    {
      "cell_type": "code",
      "metadata": {
        "colab": {
          "base_uri": "https://localhost:8080/"
        },
        "id": "2u7nicoh1YeM",
        "outputId": "35f70910-a9f7-4531-cc05-bbc93ec58f06"
      },
      "source": [
        "\"-16\".isdigit()"
      ],
      "execution_count": null,
      "outputs": [
        {
          "output_type": "execute_result",
          "data": {
            "text/plain": [
              "False"
            ]
          },
          "metadata": {
            "tags": []
          },
          "execution_count": 7
        }
      ]
    },
    {
      "cell_type": "code",
      "metadata": {
        "colab": {
          "base_uri": "https://localhost:8080/"
        },
        "id": "GuQYEj5X3VT1",
        "outputId": "99493f78-eb18-42d2-c407-8f334451562d"
      },
      "source": [
        "\"123\".isdigit()"
      ],
      "execution_count": null,
      "outputs": [
        {
          "output_type": "execute_result",
          "data": {
            "text/plain": [
              "True"
            ]
          },
          "metadata": {
            "tags": []
          },
          "execution_count": 8
        }
      ]
    },
    {
      "cell_type": "code",
      "metadata": {
        "colab": {
          "base_uri": "https://localhost:8080/"
        },
        "id": "tx0InvdJ3a9T",
        "outputId": "7bbf24ae-187c-45a6-bfd6-b711246296f5"
      },
      "source": [
        "age = input(\"enter your age in correct format : \")\n",
        "while not age.isdigit() :\n",
        "  print(\"you entered incorret.! write out correct format.\") #isdigit false dondurur.\n",
        "  age = input(\"enter your age in correct format : \")\n",
        "print(\"your age is : \", age)"
      ],
      "execution_count": null,
      "outputs": [
        {
          "output_type": "stream",
          "text": [
            "enter your age in correct format : -15\n",
            "you entered incorret.! write out correct format.\n",
            "enter your age in correct format : 123a\n",
            "you entered incorret.! write out correct format.\n",
            "enter your age in correct format : yirmiiki\n",
            "you entered incorret.! write out correct format.\n",
            "enter your age in correct format : 22\n",
            "your age is :  22\n"
          ],
          "name": "stdout"
        }
      ]
    },
    {
      "cell_type": "code",
      "metadata": {
        "colab": {
          "base_uri": "https://localhost:8080/"
        },
        "id": "25VUKcSE4q7V",
        "outputId": "7d1a1304-9de9-4ab9-e4d9-07e7dc1bf1e2"
      },
      "source": [
        "answer = 28\n",
        "question = 'what a two digit number am ı thinking of?'\n",
        "print(\"let's play the guessing game!\")\n",
        "while True :\n",
        "  guess = int(input(question))\n",
        "  if guess < answer :\n",
        "    print(\"little higher\")\n",
        "  elif guess > answer :\n",
        "    print(\"little lower\")  \n",
        "  else : # guess == answer\n",
        "    print(\"Are you a MINDREADER!!!\")\n",
        "    break"
      ],
      "execution_count": null,
      "outputs": [
        {
          "output_type": "stream",
          "text": [
            "let's play the guessing game!\n",
            "what a two digit number am ı thinking of?35\n",
            "little lower\n",
            "what a two digit number am ı thinking of?95\n",
            "little lower\n",
            "what a two digit number am ı thinking of?20\n",
            "little higher\n",
            "what a two digit number am ı thinking of?25\n",
            "little higher\n",
            "what a two digit number am ı thinking of?28\n",
            "Are you a MINDREADER!!!\n"
          ],
          "name": "stdout"
        }
      ]
    },
    {
      "cell_type": "code",
      "metadata": {
        "colab": {
          "base_uri": "https://localhost:8080/"
        },
        "id": "uiEpfmVx4qyb",
        "outputId": "558c6657-1a56-411f-9296-34dcf9b69f7b"
      },
      "source": [
        "sentence = input(\"give me a sentence without any punctuation : \")\n",
        "words = sentence.split()\n",
        "i = 0\n",
        "longest = 0\n",
        "while i < len(words) :\n",
        "  if len(words[i]) > longest :\n",
        "    longest = len(words[i])\n",
        "  i += 1   \n",
        "print(\"the length of the longest word is :\", longest)"
      ],
      "execution_count": null,
      "outputs": [
        {
          "output_type": "stream",
          "text": [
            "give me a sentence without any punctuation : clarusway is the best\n",
            "the length of the longest word is : 9\n"
          ],
          "name": "stdout"
        }
      ]
    },
    {
      "cell_type": "code",
      "metadata": {
        "colab": {
          "base_uri": "https://localhost:8080/"
        },
        "id": "j55ecp0q4qmd",
        "outputId": "541a06a9-e478-47d2-af1d-589d5f27306b"
      },
      "source": [
        "words = \"clarusway is the best\".split() # boş parantez bırakırsak kelimeler arası boşluk olarak algılar öyle ayırır.\n",
        "words"
      ],
      "execution_count": null,
      "outputs": [
        {
          "output_type": "execute_result",
          "data": {
            "text/plain": [
              "['clarusway', 'is', 'the', 'best']"
            ]
          },
          "metadata": {
            "tags": []
          },
          "execution_count": 25
        }
      ]
    },
    {
      "cell_type": "code",
      "metadata": {
        "colab": {
          "base_uri": "https://localhost:8080/"
        },
        "id": "OZwh6Z8n3dQi",
        "outputId": "bcfed584-755e-4297-e822-30564db78e0f"
      },
      "source": [
        "len(words[1])"
      ],
      "execution_count": null,
      "outputs": [
        {
          "output_type": "execute_result",
          "data": {
            "text/plain": [
              "2"
            ]
          },
          "metadata": {
            "tags": []
          },
          "execution_count": 26
        }
      ]
    },
    {
      "cell_type": "code",
      "metadata": {
        "colab": {
          "base_uri": "https://localhost:8080/"
        },
        "id": "VwRIMtB83dD7",
        "outputId": "9ca1c528-327b-4816-eea4-8cd3fecc1244"
      },
      "source": [
        "len(words[2])"
      ],
      "execution_count": null,
      "outputs": [
        {
          "output_type": "execute_result",
          "data": {
            "text/plain": [
              "3"
            ]
          },
          "metadata": {
            "tags": []
          },
          "execution_count": 27
        }
      ]
    },
    {
      "cell_type": "code",
      "metadata": {
        "colab": {
          "base_uri": "https://localhost:8080/"
        },
        "id": "6_ScB_LC3c_a",
        "outputId": "e316d9a3-1cee-4929-fd26-74b368ed643d"
      },
      "source": [
        "len(words[3])"
      ],
      "execution_count": null,
      "outputs": [
        {
          "output_type": "execute_result",
          "data": {
            "text/plain": [
              "4"
            ]
          },
          "metadata": {
            "tags": []
          },
          "execution_count": 28
        }
      ]
    },
    {
      "cell_type": "code",
      "metadata": {
        "colab": {
          "base_uri": "https://localhost:8080/"
        },
        "id": "KMSqT3DhDTW0",
        "outputId": "4822996f-b2a0-4480-eedc-22e597680c5b"
      },
      "source": [
        "len(words[0])"
      ],
      "execution_count": null,
      "outputs": [
        {
          "output_type": "execute_result",
          "data": {
            "text/plain": [
              "9"
            ]
          },
          "metadata": {
            "tags": []
          },
          "execution_count": 32
        }
      ]
    },
    {
      "cell_type": "code",
      "metadata": {
        "id": "Q22Ivqm0Dg7P"
      },
      "source": [
        ""
      ],
      "execution_count": null,
      "outputs": []
    },
    {
      "cell_type": "code",
      "metadata": {
        "colab": {
          "base_uri": "https://localhost:8080/"
        },
        "id": "xAaDzuHNEwA7",
        "outputId": "09185e93-ddb3-4b0a-af65-819a647b5f67"
      },
      "source": [
        "for i in [1, 2, 3, 4, 5] :\n",
        "  print(i)"
      ],
      "execution_count": null,
      "outputs": [
        {
          "output_type": "stream",
          "text": [
            "1\n",
            "2\n",
            "3\n",
            "4\n",
            "5\n"
          ],
          "name": "stdout"
        }
      ]
    },
    {
      "cell_type": "code",
      "metadata": {
        "colab": {
          "base_uri": "https://localhost:8080/"
        },
        "id": "SBv7qytnEv9t",
        "outputId": "96b13bb4-995e-432c-b692-0295b6dcf25d"
      },
      "source": [
        "seasons = [\"ilkbahar\", \"yaz\", \"sonbahar\", \"kış\"]\n",
        "for season in seasons : \n",
        "  print(season)"
      ],
      "execution_count": null,
      "outputs": [
        {
          "output_type": "stream",
          "text": [
            "ilkbahar\n",
            "yaz\n",
            "sonbahar\n",
            "kış\n"
          ],
          "name": "stdout"
        }
      ]
    },
    {
      "cell_type": "code",
      "metadata": {
        "colab": {
          "base_uri": "https://localhost:8080/"
        },
        "id": "63XZLxwTEv55",
        "outputId": "86712677-c3a8-4552-f32d-455049a4fa2d"
      },
      "source": [
        "names = [\"Ahmed\", \"Aisha\", \"adam\", \"joseph\", \"Gabriel\"]\n",
        "for i in names :\n",
        "  print(\"hello\", i)"
      ],
      "execution_count": null,
      "outputs": [
        {
          "output_type": "stream",
          "text": [
            "hello Ahmed\n",
            "hello Aisha\n",
            "hello adam\n",
            "hello joseph\n",
            "hello Gabriel\n"
          ],
          "name": "stdout"
        }
      ]
    },
    {
      "cell_type": "code",
      "metadata": {
        "colab": {
          "base_uri": "https://localhost:8080/"
        },
        "id": "mB0VYJQREv1C",
        "outputId": "978e4892-b2fb-4195-954a-769e1e83912e"
      },
      "source": [
        "print(list(range(5)))"
      ],
      "execution_count": null,
      "outputs": [
        {
          "output_type": "stream",
          "text": [
            "[0, 1, 2, 3, 4]\n"
          ],
          "name": "stdout"
        }
      ]
    },
    {
      "cell_type": "code",
      "metadata": {
        "colab": {
          "base_uri": "https://localhost:8080/"
        },
        "id": "kWB3sAd8Evtm",
        "outputId": "1dc0c9d7-1e65-4724-da59-2b01f6bccecf"
      },
      "source": [
        "sayılar = []\n",
        "for i in range(1,6) :\n",
        "  sayılar.append(i)\n",
        "print(sayılar)"
      ],
      "execution_count": null,
      "outputs": [
        {
          "output_type": "stream",
          "text": [
            "[1, 2, 3, 4, 5]\n"
          ],
          "name": "stdout"
        }
      ]
    },
    {
      "cell_type": "code",
      "metadata": {
        "colab": {
          "base_uri": "https://localhost:8080/"
        },
        "id": "-3OdM0odEvkc",
        "outputId": "10b7b976-5384-4747-c347-6092a77483ad"
      },
      "source": [
        "range(1,6)"
      ],
      "execution_count": null,
      "outputs": [
        {
          "output_type": "execute_result",
          "data": {
            "text/plain": [
              "range(1, 6)"
            ]
          },
          "metadata": {
            "tags": []
          },
          "execution_count": 43
        }
      ]
    },
    {
      "cell_type": "code",
      "metadata": {
        "colab": {
          "base_uri": "https://localhost:8080/"
        },
        "id": "sRQsGaWGEvZR",
        "outputId": "07a53255-6e22-4d8a-a936-887864014074"
      },
      "source": [
        "list(range(1,6))"
      ],
      "execution_count": null,
      "outputs": [
        {
          "output_type": "execute_result",
          "data": {
            "text/plain": [
              "[1, 2, 3, 4, 5]"
            ]
          },
          "metadata": {
            "tags": []
          },
          "execution_count": 44
        }
      ]
    },
    {
      "cell_type": "code",
      "metadata": {
        "colab": {
          "base_uri": "https://localhost:8080/"
        },
        "id": "pN4LOmJIIPZe",
        "outputId": "a5d72f77-084c-4f6d-afd7-27fee5bb071d"
      },
      "source": [
        "tuple(range(1,6))"
      ],
      "execution_count": null,
      "outputs": [
        {
          "output_type": "execute_result",
          "data": {
            "text/plain": [
              "(1, 2, 3, 4, 5)"
            ]
          },
          "metadata": {
            "tags": []
          },
          "execution_count": 45
        }
      ]
    },
    {
      "cell_type": "code",
      "metadata": {
        "colab": {
          "base_uri": "https://localhost:8080/"
        },
        "id": "qVOec_KGIPW1",
        "outputId": "0d0b294b-f561-40e8-c527-45f9543befc3"
      },
      "source": [
        "print(* range(1,6))"
      ],
      "execution_count": null,
      "outputs": [
        {
          "output_type": "stream",
          "text": [
            "1 2 3 4 5\n"
          ],
          "name": "stdout"
        }
      ]
    },
    {
      "cell_type": "code",
      "metadata": {
        "colab": {
          "base_uri": "https://localhost:8080/"
        },
        "id": "tGsv0XwAIPTv",
        "outputId": "1304432f-70d9-464f-8d0b-76f77d0c12a4"
      },
      "source": [
        "for i in range(1,6) :\n",
        "  print(i, end=' ')"
      ],
      "execution_count": null,
      "outputs": [
        {
          "output_type": "stream",
          "text": [
            "1 2 3 4 5 "
          ],
          "name": "stdout"
        }
      ]
    },
    {
      "cell_type": "code",
      "metadata": {
        "colab": {
          "base_uri": "https://localhost:8080/"
        },
        "id": "r43gzTuLIPQa",
        "outputId": "af21a910-a2aa-4c22-8041-f076b2360885"
      },
      "source": [
        "list(range(-4, 4))"
      ],
      "execution_count": null,
      "outputs": [
        {
          "output_type": "execute_result",
          "data": {
            "text/plain": [
              "[-4, -3, -2, -1, 0, 1, 2, 3]"
            ]
          },
          "metadata": {
            "tags": []
          },
          "execution_count": 50
        }
      ]
    },
    {
      "cell_type": "code",
      "metadata": {
        "colab": {
          "base_uri": "https://localhost:8080/"
        },
        "id": "LfLfEjSuIo3N",
        "outputId": "ff1a4811-9c44-42e2-e910-6917774c7fe2"
      },
      "source": [
        "list(range(-4, 4, -1)) # ters gitmesını istıtorsan start ile step yer değiştir."
      ],
      "execution_count": null,
      "outputs": [
        {
          "output_type": "execute_result",
          "data": {
            "text/plain": [
              "[]"
            ]
          },
          "metadata": {
            "tags": []
          },
          "execution_count": 51
        }
      ]
    },
    {
      "cell_type": "code",
      "metadata": {
        "colab": {
          "base_uri": "https://localhost:8080/"
        },
        "id": "Ab4e-YXGIo0E",
        "outputId": "7853c4bd-d911-44dc-dcb5-b116062411b4"
      },
      "source": [
        "list(range(4, -4, -1))"
      ],
      "execution_count": null,
      "outputs": [
        {
          "output_type": "execute_result",
          "data": {
            "text/plain": [
              "[4, 3, 2, 1, 0, -1, -2, -3]"
            ]
          },
          "metadata": {
            "tags": []
          },
          "execution_count": 52
        }
      ]
    },
    {
      "cell_type": "code",
      "metadata": {
        "id": "jcCHUOq6IowF"
      },
      "source": [
        "#elemanlarına tek tek ayrılabılen seylere ıterable denir."
      ],
      "execution_count": null,
      "outputs": []
    },
    {
      "cell_type": "code",
      "metadata": {
        "colab": {
          "base_uri": "https://localhost:8080/",
          "height": 167
        },
        "id": "f9R307qiIolJ",
        "outputId": "b4ea41d7-fc03-4ff5-d4c6-38665f20c3c7"
      },
      "source": [
        "len(1000)"
      ],
      "execution_count": null,
      "outputs": [
        {
          "output_type": "error",
          "ename": "TypeError",
          "evalue": "ignored",
          "traceback": [
            "\u001b[0;31m---------------------------------------------------------------------------\u001b[0m",
            "\u001b[0;31mTypeError\u001b[0m                                 Traceback (most recent call last)",
            "\u001b[0;32m<ipython-input-53-a4774ebe235f>\u001b[0m in \u001b[0;36m<module>\u001b[0;34m()\u001b[0m\n\u001b[0;32m----> 1\u001b[0;31m \u001b[0mlen\u001b[0m\u001b[0;34m(\u001b[0m\u001b[0;36m1000\u001b[0m\u001b[0;34m)\u001b[0m\u001b[0;34m\u001b[0m\u001b[0;34m\u001b[0m\u001b[0m\n\u001b[0m",
            "\u001b[0;31mTypeError\u001b[0m: object of type 'int' has no len()"
          ]
        }
      ]
    },
    {
      "cell_type": "code",
      "metadata": {
        "colab": {
          "base_uri": "https://localhost:8080/"
        },
        "id": "9bObWCVqJbhp",
        "outputId": "8f1a348f-1efa-498d-f1a5-6ba5c3e2cae7"
      },
      "source": [
        "course = \"clarusway\"\n",
        "for i in course :\n",
        "  print(i)"
      ],
      "execution_count": null,
      "outputs": [
        {
          "output_type": "stream",
          "text": [
            "c\n",
            "l\n",
            "a\n",
            "r\n",
            "u\n",
            "s\n",
            "w\n",
            "a\n",
            "y\n"
          ],
          "name": "stdout"
        }
      ]
    },
    {
      "cell_type": "code",
      "metadata": {
        "colab": {
          "base_uri": "https://localhost:8080/"
        },
        "id": "zrcJol-CJofw",
        "outputId": "d54a4e6b-cbc0-4364-8f17-af9bf64ee4e3"
      },
      "source": [
        "input = \"clarusway\"\n",
        "for i in input :\n",
        "  print(i, end = '-')"
      ],
      "execution_count": null,
      "outputs": [
        {
          "output_type": "stream",
          "text": [
            "c-l-a-r-u-s-w-a-y-"
          ],
          "name": "stdout"
        }
      ]
    },
    {
      "cell_type": "code",
      "metadata": {
        "colab": {
          "base_uri": "https://localhost:8080/"
        },
        "id": "Oo3dA0N0JrMI",
        "outputId": "382e9ad9-1c9a-46bb-e77f-15bd6cc9adbe"
      },
      "source": [
        "word = \"clarusway\"\n",
        "count = 0 # sayaç eklemiş olduk. son harften sonra tire olmaması için.\n",
        "for i in word :\n",
        "  count += 1\n",
        "  if count < len(word) :\n",
        "    i = i + \"-\"\n",
        "  print(i, end = \"\")  "
      ],
      "execution_count": null,
      "outputs": [
        {
          "output_type": "stream",
          "text": [
            "c-l-a-r-u-s-w-a-y"
          ],
          "name": "stdout"
        }
      ]
    },
    {
      "cell_type": "code",
      "metadata": {
        "colab": {
          "base_uri": "https://localhost:8080/"
        },
        "id": "Yiss6_fZJrIm",
        "outputId": "06a0fef0-4423-4b55-f43f-1d34449c4632"
      },
      "source": [
        "user = { \n",
        "    \"name\": \"daniel\",\n",
        "    \"surname\": \"smith\", \n",
        "    \"age\": 35\n",
        "    }\n",
        "for key, value in user.items() :\n",
        "      print(key, \":\", value)"
      ],
      "execution_count": null,
      "outputs": [
        {
          "output_type": "stream",
          "text": [
            "name : daniel\n",
            "surname : smith\n",
            "age : 35\n"
          ],
          "name": "stdout"
        }
      ]
    },
    {
      "cell_type": "code",
      "metadata": {
        "colab": {
          "base_uri": "https://localhost:8080/",
          "height": 202
        },
        "id": "UGayWfqfJrFm",
        "outputId": "653a2ecc-df24-415c-c560-0784296f9190"
      },
      "source": [
        "times = int(input(\"how many times should I say I love you : \"))\n",
        "for i in range(times) :\n",
        "  print(i)"
      ],
      "execution_count": null,
      "outputs": [
        {
          "output_type": "error",
          "ename": "TypeError",
          "evalue": "ignored",
          "traceback": [
            "\u001b[0;31m---------------------------------------------------------------------------\u001b[0m",
            "\u001b[0;31mTypeError\u001b[0m                                 Traceback (most recent call last)",
            "\u001b[0;32m<ipython-input-106-097b33cd2ed9>\u001b[0m in \u001b[0;36m<module>\u001b[0;34m()\u001b[0m\n\u001b[0;32m----> 1\u001b[0;31m \u001b[0mtimes\u001b[0m \u001b[0;34m=\u001b[0m \u001b[0mint\u001b[0m\u001b[0;34m(\u001b[0m\u001b[0minput\u001b[0m\u001b[0;34m(\u001b[0m\u001b[0;34m\"how many times should I say I love you : \"\u001b[0m\u001b[0;34m)\u001b[0m\u001b[0;34m)\u001b[0m\u001b[0;34m\u001b[0m\u001b[0;34m\u001b[0m\u001b[0m\n\u001b[0m\u001b[1;32m      2\u001b[0m \u001b[0;32mfor\u001b[0m \u001b[0mi\u001b[0m \u001b[0;32min\u001b[0m \u001b[0mrange\u001b[0m\u001b[0;34m(\u001b[0m\u001b[0mtimes\u001b[0m\u001b[0;34m)\u001b[0m \u001b[0;34m:\u001b[0m\u001b[0;34m\u001b[0m\u001b[0;34m\u001b[0m\u001b[0m\n\u001b[1;32m      3\u001b[0m   \u001b[0mprint\u001b[0m\u001b[0;34m(\u001b[0m\u001b[0mi\u001b[0m\u001b[0;34m)\u001b[0m\u001b[0;34m\u001b[0m\u001b[0;34m\u001b[0m\u001b[0m\n",
            "\u001b[0;31mTypeError\u001b[0m: 'str' object is not callable"
          ]
        }
      ]
    },
    {
      "cell_type": "code",
      "metadata": {
        "colab": {
          "base_uri": "https://localhost:8080/",
          "height": 219
        },
        "id": "AAM7VTbCJrAG",
        "outputId": "468e9b12-8d75-4f8d-e96b-594df865f941"
      },
      "source": [
        "nmbr = int(input('enter a number between 1-10'))\n",
        "\n",
        "for i in range(11) :\n",
        "  print('{}x{} = '.format(nmbr, i), nmbr * i)"
      ],
      "execution_count": null,
      "outputs": [
        {
          "output_type": "error",
          "ename": "TypeError",
          "evalue": "ignored",
          "traceback": [
            "\u001b[0;31m---------------------------------------------------------------------------\u001b[0m",
            "\u001b[0;31mTypeError\u001b[0m                                 Traceback (most recent call last)",
            "\u001b[0;32m<ipython-input-101-2b21d82bd2eb>\u001b[0m in \u001b[0;36m<module>\u001b[0;34m()\u001b[0m\n\u001b[0;32m----> 1\u001b[0;31m \u001b[0mnmbr\u001b[0m \u001b[0;34m=\u001b[0m \u001b[0mint\u001b[0m\u001b[0;34m(\u001b[0m\u001b[0minput\u001b[0m\u001b[0;34m(\u001b[0m\u001b[0;34m'enter a number between 1-10'\u001b[0m\u001b[0;34m)\u001b[0m\u001b[0;34m)\u001b[0m\u001b[0;34m\u001b[0m\u001b[0;34m\u001b[0m\u001b[0m\n\u001b[0m\u001b[1;32m      2\u001b[0m \u001b[0;34m\u001b[0m\u001b[0m\n\u001b[1;32m      3\u001b[0m \u001b[0;32mfor\u001b[0m \u001b[0mi\u001b[0m \u001b[0;32min\u001b[0m \u001b[0mrange\u001b[0m\u001b[0;34m(\u001b[0m\u001b[0;36m11\u001b[0m\u001b[0;34m)\u001b[0m \u001b[0;34m:\u001b[0m\u001b[0;34m\u001b[0m\u001b[0;34m\u001b[0m\u001b[0m\n\u001b[1;32m      4\u001b[0m   \u001b[0mprint\u001b[0m\u001b[0;34m(\u001b[0m\u001b[0;34m'{}x{} = '\u001b[0m\u001b[0;34m.\u001b[0m\u001b[0mformat\u001b[0m\u001b[0;34m(\u001b[0m\u001b[0mnmbr\u001b[0m\u001b[0;34m,\u001b[0m \u001b[0mi\u001b[0m\u001b[0;34m)\u001b[0m\u001b[0;34m,\u001b[0m \u001b[0mnmbr\u001b[0m \u001b[0;34m*\u001b[0m \u001b[0mi\u001b[0m\u001b[0;34m)\u001b[0m\u001b[0;34m\u001b[0m\u001b[0;34m\u001b[0m\u001b[0m\n",
            "\u001b[0;31mTypeError\u001b[0m: 'str' object is not callable"
          ]
        }
      ]
    },
    {
      "cell_type": "code",
      "metadata": {
        "colab": {
          "base_uri": "https://localhost:8080/"
        },
        "id": "wt2byqUQJq7i",
        "outputId": "104bb50d-224b-4a9c-c17f-1b048e3119e3"
      },
      "source": [
        "print(\"8\"*8)"
      ],
      "execution_count": null,
      "outputs": [
        {
          "output_type": "stream",
          "text": [
            "88888888\n"
          ],
          "name": "stdout"
        }
      ]
    },
    {
      "cell_type": "code",
      "metadata": {
        "colab": {
          "base_uri": "https://localhost:8080/"
        },
        "id": "6IntVdJ5RAF_",
        "outputId": "04313351-187a-4576-a274-1c38f7919382"
      },
      "source": [
        "for i in range(1,10) :\n",
        "  print(str(i)*i)"
      ],
      "execution_count": null,
      "outputs": [
        {
          "output_type": "stream",
          "text": [
            "1\n",
            "22\n",
            "333\n",
            "4444\n",
            "55555\n",
            "666666\n",
            "7777777\n",
            "88888888\n",
            "999999999\n"
          ],
          "name": "stdout"
        }
      ]
    },
    {
      "cell_type": "code",
      "metadata": {
        "colab": {
          "base_uri": "https://localhost:8080/"
        },
        "id": "r9xyNWQURADE",
        "outputId": "2392ea26-bc6b-421c-b3f4-e67b21debf66"
      },
      "source": [
        "a = set(range(0,10))\n",
        "print(a)"
      ],
      "execution_count": null,
      "outputs": [
        {
          "output_type": "stream",
          "text": [
            "{0, 1, 2, 3, 4, 5, 6, 7, 8, 9}\n"
          ],
          "name": "stdout"
        }
      ]
    },
    {
      "cell_type": "code",
      "metadata": {
        "colab": {
          "base_uri": "https://localhost:8080/"
        },
        "id": "IwDL2C8mQ__8",
        "outputId": "5f23ee07-4e37-456c-fb9a-9708a12a7797"
      },
      "source": [
        "c = tuple(range(0,10))\n",
        "c"
      ],
      "execution_count": null,
      "outputs": [
        {
          "output_type": "execute_result",
          "data": {
            "text/plain": [
              "(0, 1, 2, 3, 4, 5, 6, 7, 8, 9)"
            ]
          },
          "metadata": {
            "tags": []
          },
          "execution_count": 109
        }
      ]
    },
    {
      "cell_type": "code",
      "metadata": {
        "colab": {
          "base_uri": "https://localhost:8080/"
        },
        "id": "fRXt27W9Q_9J",
        "outputId": "83068b31-972b-4e4c-af7d-260bc0e34af1"
      },
      "source": [
        "print(*range(5,25,2))"
      ],
      "execution_count": null,
      "outputs": [
        {
          "output_type": "stream",
          "text": [
            "5 7 9 11 13 15 17 19 21 23\n"
          ],
          "name": "stdout"
        }
      ]
    },
    {
      "cell_type": "code",
      "metadata": {
        "colab": {
          "base_uri": "https://localhost:8080/"
        },
        "id": "FDdFSe1tQ_6T",
        "outputId": "38328706-6686-46b3-e97e-8a2dd79c5c86"
      },
      "source": [
        "print(*('seperate'))"
      ],
      "execution_count": null,
      "outputs": [
        {
          "output_type": "stream",
          "text": [
            "s e p e r a t e\n"
          ],
          "name": "stdout"
        }
      ]
    },
    {
      "cell_type": "code",
      "metadata": {
        "colab": {
          "base_uri": "https://localhost:8080/"
        },
        "id": "wFQ0BYKuQ_3H",
        "outputId": "28271fea-182b-4b15-9fcf-8f236e0ad545"
      },
      "source": [
        "print(*range(10,0,-2))"
      ],
      "execution_count": null,
      "outputs": [
        {
          "output_type": "stream",
          "text": [
            "10 8 6 4 2\n"
          ],
          "name": "stdout"
        }
      ]
    },
    {
      "cell_type": "code",
      "metadata": {
        "id": "Y12Kv27SQ_zc"
      },
      "source": [
        "# zip fonksiyonu iki tane iterable ı karşılıklı olarak match edip yenı iterable elde ediyor.\n"
      ],
      "execution_count": null,
      "outputs": []
    },
    {
      "cell_type": "code",
      "metadata": {
        "colab": {
          "base_uri": "https://localhost:8080/"
        },
        "id": "mRSdek77Q_wH",
        "outputId": "a687914c-dd57-4f6e-803d-91bb152c2ea9"
      },
      "source": [
        "text = ['one', 'two', 'three', 'four', 'five']\n",
        "numbers = [1, 2, 3, 4, 5]\n",
        "for x, y in zip(text, numbers) :\n",
        "  print(x, ':', y)"
      ],
      "execution_count": null,
      "outputs": [
        {
          "output_type": "stream",
          "text": [
            "one : 1\n",
            "two : 2\n",
            "three : 3\n",
            "four : 4\n",
            "five : 5\n"
          ],
          "name": "stdout"
        }
      ]
    },
    {
      "cell_type": "code",
      "metadata": {
        "colab": {
          "base_uri": "https://localhost:8080/"
        },
        "id": "yg-BDUwYQ_sY",
        "outputId": "32378f86-35ba-4fb5-fca7-0fad7daa3e08"
      },
      "source": [
        "zip(text, numbers) # hafızada tutyor. tek başına anlamsız."
      ],
      "execution_count": null,
      "outputs": [
        {
          "output_type": "execute_result",
          "data": {
            "text/plain": [
              "<zip at 0x7f553bc9ea50>"
            ]
          },
          "metadata": {
            "tags": []
          },
          "execution_count": 115
        }
      ]
    },
    {
      "cell_type": "code",
      "metadata": {
        "colab": {
          "base_uri": "https://localhost:8080/"
        },
        "id": "nkYC0snMQ_oS",
        "outputId": "aab44aaf-47bf-4f70-fab8-c73c9739b0c3"
      },
      "source": [
        "list(zip(text,numbers))"
      ],
      "execution_count": null,
      "outputs": [
        {
          "output_type": "execute_result",
          "data": {
            "text/plain": [
              "[('one', 1), ('two', 2), ('three', 3), ('four', 4), ('five', 5)]"
            ]
          },
          "metadata": {
            "tags": []
          },
          "execution_count": 116
        }
      ]
    },
    {
      "cell_type": "code",
      "metadata": {
        "colab": {
          "base_uri": "https://localhost:8080/"
        },
        "id": "QDt_d82lQ_Ww",
        "outputId": "45bde523-9f9c-43e8-9c5c-7c69e487e0e5"
      },
      "source": [
        "even = []\n",
        "odd = []\n",
        "for i in range(10) :\n",
        "  if i % 2 == 0 :\n",
        "    even.append(i)\n",
        "  else :\n",
        "    odd.append(i)\n",
        "print(even)\n",
        "print(odd)"
      ],
      "execution_count": null,
      "outputs": [
        {
          "output_type": "stream",
          "text": [
            "[0, 2, 4, 6, 8]\n",
            "[1, 3, 5, 7, 9]\n"
          ],
          "name": "stdout"
        }
      ]
    },
    {
      "cell_type": "code",
      "metadata": {
        "id": "7fKbn5vFYSDN"
      },
      "source": [
        ""
      ],
      "execution_count": null,
      "outputs": []
    }
  ]
}